{
 "cells": [
  {
   "cell_type": "markdown",
   "id": "5e0ea87d",
   "metadata": {
    "toc": true
   },
   "source": [
    "<h1>Содержание<span class=\"tocSkip\"></span></h1>\n",
    "<div class=\"toc\"><ul class=\"toc-item\"><li><span><a href=\"#Обзор-данных\" data-toc-modified-id=\"Обзор-данных-1\"><span class=\"toc-item-num\">1&nbsp;&nbsp;</span>Обзор данных</a></span></li><li><span><a href=\"#Заполнение-пропусков\" data-toc-modified-id=\"Заполнение-пропусков-2\"><span class=\"toc-item-num\">2&nbsp;&nbsp;</span>Заполнение пропусков</a></span></li><li><span><a href=\"#Проверка-данных-на-аномалии-и-исправления\" data-toc-modified-id=\"Проверка-данных-на-аномалии-и-исправления-3\"><span class=\"toc-item-num\">3&nbsp;&nbsp;</span>Проверка данных на аномалии и исправления</a></span></li><li><span><a href=\"#Изменение-аномалий-и-типов-данных\" data-toc-modified-id=\"Изменение-аномалий-и-типов-данных-4\"><span class=\"toc-item-num\">4&nbsp;&nbsp;</span>Изменение аномалий и типов данных</a></span></li><li><span><a href=\"#Удаление-дубликатов\" data-toc-modified-id=\"Удаление-дубликатов-5\"><span class=\"toc-item-num\">5&nbsp;&nbsp;</span>Удаление дубликатов</a></span></li><li><span><a href=\"#Формирование-дополнительных-датафреймов-словарей,-декомпозиция-исходного-датафрейма\" data-toc-modified-id=\"Формирование-дополнительных-датафреймов-словарей,-декомпозиция-исходного-датафрейма-6\"><span class=\"toc-item-num\">6&nbsp;&nbsp;</span>Формирование дополнительных датафреймов словарей, декомпозиция исходного датафрейма</a></span></li><li><span><a href=\"#Категоризация-дохода\" data-toc-modified-id=\"Категоризация-дохода-7\"><span class=\"toc-item-num\">7&nbsp;&nbsp;</span>Категоризация дохода</a></span></li><li><span><a href=\"#Категоризация-целей-кредита\" data-toc-modified-id=\"Категоризация-целей-кредита-8\"><span class=\"toc-item-num\">8&nbsp;&nbsp;</span>Категоризация целей кредита</a></span></li><li><span><a href=\"#Формирование-сводных-таблиц\" data-toc-modified-id=\"Формирование-сводных-таблиц-9\"><span class=\"toc-item-num\">9&nbsp;&nbsp;</span>Формирование сводных таблиц</a></span><ul class=\"toc-item\"><li><span><a href=\"#Зависимость-между-количеством-детей-и-возвратом-кредита-в-срок\" data-toc-modified-id=\"Зависимость-между-количеством-детей-и-возвратом-кредита-в-срок-9.1\"><span class=\"toc-item-num\">9.1&nbsp;&nbsp;</span>Зависимость между количеством детей и возвратом кредита в срок</a></span></li><li><span><a href=\"#Зависимость-между-семейным-положением-и-возвратом-кредита-в-срок\" data-toc-modified-id=\"Зависимость-между-семейным-положением-и-возвратом-кредита-в-срок-9.2\"><span class=\"toc-item-num\">9.2&nbsp;&nbsp;</span>Зависимость между семейным положением и возвратом кредита в срок</a></span></li><li><span><a href=\"#Зависимость-между-уровнем-дохода-и-возвратом-кредита-в-срок\" data-toc-modified-id=\"Зависимость-между-уровнем-дохода-и-возвратом-кредита-в-срок-9.3\"><span class=\"toc-item-num\">9.3&nbsp;&nbsp;</span>Зависимость между уровнем дохода и возвратом кредита в срок</a></span></li><li><span><a href=\"#Влияние-целей-кредита-на-его-возврат-в-срок\" data-toc-modified-id=\"Влияние-целей-кредита-на-его-возврат-в-срок-9.4\"><span class=\"toc-item-num\">9.4&nbsp;&nbsp;</span>Влияние целей кредита на его возврат в срок</a></span></li></ul></li><li><span><a href=\"#Общий-вывод\" data-toc-modified-id=\"Общий-вывод-10\"><span class=\"toc-item-num\">10&nbsp;&nbsp;</span>Общий вывод</a></span></li></ul></div>"
   ]
  },
  {
   "cell_type": "markdown",
   "id": "e18d94ed",
   "metadata": {},
   "source": [
    "# Исследование надежности заёмщиков"
   ]
  },
  {
   "cell_type": "markdown",
   "id": "21b03a5b",
   "metadata": {},
   "source": [
    "<span style=\"color:green\"><font size=\"3\"><b>1. Необходимо проверить влияет ли семейное положение и количество детей клиента на факт погашения кредита в срок.</b></span>\n",
    "\n",
    "<span style=\"color:orange\"><font size=\"3\"><b>2. Результаты исследования будут учтены при построении модели кредитного скоринга — специальной системы, которая оценивает способность потенциального заёмщика вернуть кредит банку.</b></font></span>\n",
    "\n",
    "<span style=\"color:brown\"><font size=\"3\"><b>3. Входные данные от банка — статистика о платёжеспособности клиентов.</b></span>"
   ]
  },
  {
   "cell_type": "markdown",
   "id": "5334fcfc",
   "metadata": {},
   "source": [
    "## Обзор данных"
   ]
  },
  {
   "cell_type": "code",
   "execution_count": 65,
   "id": "5229fdee",
   "metadata": {},
   "outputs": [],
   "source": [
    "# 1. Подключение модуля pathlib\n",
    "import pathlib\n",
    "# 2. Подключение класса Path из модуля pathlib\n",
    "from pathlib import Path\n",
    "\n",
    "# 3. Подключение библиотеки Pandas\n",
    "import pandas as pd"
   ]
  },
  {
   "cell_type": "code",
   "execution_count": 66,
   "id": "8c07ce71",
   "metadata": {
    "scrolled": false
   },
   "outputs": [
    {
     "data": {
      "text/html": [
       "<div>\n",
       "<style scoped>\n",
       "    .dataframe tbody tr th:only-of-type {\n",
       "        vertical-align: middle;\n",
       "    }\n",
       "\n",
       "    .dataframe tbody tr th {\n",
       "        vertical-align: top;\n",
       "    }\n",
       "\n",
       "    .dataframe thead th {\n",
       "        text-align: right;\n",
       "    }\n",
       "</style>\n",
       "<table border=\"1\" class=\"dataframe\">\n",
       "  <thead>\n",
       "    <tr style=\"text-align: right;\">\n",
       "      <th></th>\n",
       "      <th>children</th>\n",
       "      <th>days_employed</th>\n",
       "      <th>dob_years</th>\n",
       "      <th>education</th>\n",
       "      <th>education_id</th>\n",
       "      <th>family_status</th>\n",
       "      <th>family_status_id</th>\n",
       "      <th>gender</th>\n",
       "      <th>income_type</th>\n",
       "      <th>debt</th>\n",
       "      <th>total_income</th>\n",
       "      <th>purpose</th>\n",
       "    </tr>\n",
       "  </thead>\n",
       "  <tbody>\n",
       "    <tr>\n",
       "      <th>0</th>\n",
       "      <td>1</td>\n",
       "      <td>-8437.673028</td>\n",
       "      <td>42</td>\n",
       "      <td>высшее</td>\n",
       "      <td>0</td>\n",
       "      <td>женат / замужем</td>\n",
       "      <td>0</td>\n",
       "      <td>F</td>\n",
       "      <td>сотрудник</td>\n",
       "      <td>0</td>\n",
       "      <td>253875.639453</td>\n",
       "      <td>покупка жилья</td>\n",
       "    </tr>\n",
       "    <tr>\n",
       "      <th>1</th>\n",
       "      <td>1</td>\n",
       "      <td>-4024.803754</td>\n",
       "      <td>36</td>\n",
       "      <td>среднее</td>\n",
       "      <td>1</td>\n",
       "      <td>женат / замужем</td>\n",
       "      <td>0</td>\n",
       "      <td>F</td>\n",
       "      <td>сотрудник</td>\n",
       "      <td>0</td>\n",
       "      <td>112080.014102</td>\n",
       "      <td>приобретение автомобиля</td>\n",
       "    </tr>\n",
       "    <tr>\n",
       "      <th>2</th>\n",
       "      <td>0</td>\n",
       "      <td>-5623.422610</td>\n",
       "      <td>33</td>\n",
       "      <td>Среднее</td>\n",
       "      <td>1</td>\n",
       "      <td>женат / замужем</td>\n",
       "      <td>0</td>\n",
       "      <td>M</td>\n",
       "      <td>сотрудник</td>\n",
       "      <td>0</td>\n",
       "      <td>145885.952297</td>\n",
       "      <td>покупка жилья</td>\n",
       "    </tr>\n",
       "    <tr>\n",
       "      <th>3</th>\n",
       "      <td>3</td>\n",
       "      <td>-4124.747207</td>\n",
       "      <td>32</td>\n",
       "      <td>среднее</td>\n",
       "      <td>1</td>\n",
       "      <td>женат / замужем</td>\n",
       "      <td>0</td>\n",
       "      <td>M</td>\n",
       "      <td>сотрудник</td>\n",
       "      <td>0</td>\n",
       "      <td>267628.550329</td>\n",
       "      <td>дополнительное образование</td>\n",
       "    </tr>\n",
       "    <tr>\n",
       "      <th>4</th>\n",
       "      <td>0</td>\n",
       "      <td>340266.072047</td>\n",
       "      <td>53</td>\n",
       "      <td>среднее</td>\n",
       "      <td>1</td>\n",
       "      <td>гражданский брак</td>\n",
       "      <td>1</td>\n",
       "      <td>F</td>\n",
       "      <td>пенсионер</td>\n",
       "      <td>0</td>\n",
       "      <td>158616.077870</td>\n",
       "      <td>сыграть свадьбу</td>\n",
       "    </tr>\n",
       "    <tr>\n",
       "      <th>...</th>\n",
       "      <td>...</td>\n",
       "      <td>...</td>\n",
       "      <td>...</td>\n",
       "      <td>...</td>\n",
       "      <td>...</td>\n",
       "      <td>...</td>\n",
       "      <td>...</td>\n",
       "      <td>...</td>\n",
       "      <td>...</td>\n",
       "      <td>...</td>\n",
       "      <td>...</td>\n",
       "      <td>...</td>\n",
       "    </tr>\n",
       "    <tr>\n",
       "      <th>21520</th>\n",
       "      <td>1</td>\n",
       "      <td>-4529.316663</td>\n",
       "      <td>43</td>\n",
       "      <td>среднее</td>\n",
       "      <td>1</td>\n",
       "      <td>гражданский брак</td>\n",
       "      <td>1</td>\n",
       "      <td>F</td>\n",
       "      <td>компаньон</td>\n",
       "      <td>0</td>\n",
       "      <td>224791.862382</td>\n",
       "      <td>операции с жильем</td>\n",
       "    </tr>\n",
       "    <tr>\n",
       "      <th>21521</th>\n",
       "      <td>0</td>\n",
       "      <td>343937.404131</td>\n",
       "      <td>67</td>\n",
       "      <td>среднее</td>\n",
       "      <td>1</td>\n",
       "      <td>женат / замужем</td>\n",
       "      <td>0</td>\n",
       "      <td>F</td>\n",
       "      <td>пенсионер</td>\n",
       "      <td>0</td>\n",
       "      <td>155999.806512</td>\n",
       "      <td>сделка с автомобилем</td>\n",
       "    </tr>\n",
       "    <tr>\n",
       "      <th>21522</th>\n",
       "      <td>1</td>\n",
       "      <td>-2113.346888</td>\n",
       "      <td>38</td>\n",
       "      <td>среднее</td>\n",
       "      <td>1</td>\n",
       "      <td>гражданский брак</td>\n",
       "      <td>1</td>\n",
       "      <td>M</td>\n",
       "      <td>сотрудник</td>\n",
       "      <td>1</td>\n",
       "      <td>89672.561153</td>\n",
       "      <td>недвижимость</td>\n",
       "    </tr>\n",
       "    <tr>\n",
       "      <th>21523</th>\n",
       "      <td>3</td>\n",
       "      <td>-3112.481705</td>\n",
       "      <td>38</td>\n",
       "      <td>среднее</td>\n",
       "      <td>1</td>\n",
       "      <td>женат / замужем</td>\n",
       "      <td>0</td>\n",
       "      <td>M</td>\n",
       "      <td>сотрудник</td>\n",
       "      <td>1</td>\n",
       "      <td>244093.050500</td>\n",
       "      <td>на покупку своего автомобиля</td>\n",
       "    </tr>\n",
       "    <tr>\n",
       "      <th>21524</th>\n",
       "      <td>2</td>\n",
       "      <td>-1984.507589</td>\n",
       "      <td>40</td>\n",
       "      <td>среднее</td>\n",
       "      <td>1</td>\n",
       "      <td>женат / замужем</td>\n",
       "      <td>0</td>\n",
       "      <td>F</td>\n",
       "      <td>сотрудник</td>\n",
       "      <td>0</td>\n",
       "      <td>82047.418899</td>\n",
       "      <td>на покупку автомобиля</td>\n",
       "    </tr>\n",
       "  </tbody>\n",
       "</table>\n",
       "<p>21525 rows × 12 columns</p>\n",
       "</div>"
      ],
      "text/plain": [
       "       children  days_employed  dob_years education  education_id  \\\n",
       "0             1   -8437.673028         42    высшее             0   \n",
       "1             1   -4024.803754         36   среднее             1   \n",
       "2             0   -5623.422610         33   Среднее             1   \n",
       "3             3   -4124.747207         32   среднее             1   \n",
       "4             0  340266.072047         53   среднее             1   \n",
       "...         ...            ...        ...       ...           ...   \n",
       "21520         1   -4529.316663         43   среднее             1   \n",
       "21521         0  343937.404131         67   среднее             1   \n",
       "21522         1   -2113.346888         38   среднее             1   \n",
       "21523         3   -3112.481705         38   среднее             1   \n",
       "21524         2   -1984.507589         40   среднее             1   \n",
       "\n",
       "          family_status  family_status_id gender income_type  debt  \\\n",
       "0       женат / замужем                 0      F   сотрудник     0   \n",
       "1       женат / замужем                 0      F   сотрудник     0   \n",
       "2       женат / замужем                 0      M   сотрудник     0   \n",
       "3       женат / замужем                 0      M   сотрудник     0   \n",
       "4      гражданский брак                 1      F   пенсионер     0   \n",
       "...                 ...               ...    ...         ...   ...   \n",
       "21520  гражданский брак                 1      F   компаньон     0   \n",
       "21521   женат / замужем                 0      F   пенсионер     0   \n",
       "21522  гражданский брак                 1      M   сотрудник     1   \n",
       "21523   женат / замужем                 0      M   сотрудник     1   \n",
       "21524   женат / замужем                 0      F   сотрудник     0   \n",
       "\n",
       "        total_income                       purpose  \n",
       "0      253875.639453                 покупка жилья  \n",
       "1      112080.014102       приобретение автомобиля  \n",
       "2      145885.952297                 покупка жилья  \n",
       "3      267628.550329    дополнительное образование  \n",
       "4      158616.077870               сыграть свадьбу  \n",
       "...              ...                           ...  \n",
       "21520  224791.862382             операции с жильем  \n",
       "21521  155999.806512          сделка с автомобилем  \n",
       "21522   89672.561153                  недвижимость  \n",
       "21523  244093.050500  на покупку своего автомобиля  \n",
       "21524   82047.418899         на покупку автомобиля  \n",
       "\n",
       "[21525 rows x 12 columns]"
      ]
     },
     "metadata": {},
     "output_type": "display_data"
    }
   ],
   "source": [
    "# Формирование и вывод на экран датафрейма df\n",
    "# с отработкой ошибок try-except\n",
    "try:\n",
    "    df = pd.read_csv('/datasets/data_credit.csv')\n",
    "    display(df)\n",
    "except:\n",
    "    df = pd.read_csv(\n",
    "        Path(\n",
    "            pathlib.Path.cwd(),\n",
    "            'datasets',\n",
    "            'data_credit.csv'\n",
    "        )\n",
    "    )\n",
    "    display(df)"
   ]
  },
  {
   "cell_type": "code",
   "execution_count": 67,
   "id": "80372e2e",
   "metadata": {},
   "outputs": [
    {
     "data": {
      "text/html": [
       "<div>\n",
       "<style scoped>\n",
       "    .dataframe tbody tr th:only-of-type {\n",
       "        vertical-align: middle;\n",
       "    }\n",
       "\n",
       "    .dataframe tbody tr th {\n",
       "        vertical-align: top;\n",
       "    }\n",
       "\n",
       "    .dataframe thead th {\n",
       "        text-align: right;\n",
       "    }\n",
       "</style>\n",
       "<table border=\"1\" class=\"dataframe\">\n",
       "  <thead>\n",
       "    <tr style=\"text-align: right;\">\n",
       "      <th></th>\n",
       "      <th>children</th>\n",
       "      <th>days_employed</th>\n",
       "      <th>dob_years</th>\n",
       "      <th>education_id</th>\n",
       "      <th>family_status_id</th>\n",
       "      <th>debt</th>\n",
       "      <th>total_income</th>\n",
       "    </tr>\n",
       "  </thead>\n",
       "  <tbody>\n",
       "    <tr>\n",
       "      <th>count</th>\n",
       "      <td>21525.000000</td>\n",
       "      <td>19351.000000</td>\n",
       "      <td>21525.000000</td>\n",
       "      <td>21525.000000</td>\n",
       "      <td>21525.000000</td>\n",
       "      <td>21525.000000</td>\n",
       "      <td>1.935100e+04</td>\n",
       "    </tr>\n",
       "    <tr>\n",
       "      <th>mean</th>\n",
       "      <td>0.538908</td>\n",
       "      <td>63046.497661</td>\n",
       "      <td>43.293380</td>\n",
       "      <td>0.817236</td>\n",
       "      <td>0.972544</td>\n",
       "      <td>0.080883</td>\n",
       "      <td>1.674223e+05</td>\n",
       "    </tr>\n",
       "    <tr>\n",
       "      <th>std</th>\n",
       "      <td>1.381587</td>\n",
       "      <td>140827.311974</td>\n",
       "      <td>12.574584</td>\n",
       "      <td>0.548138</td>\n",
       "      <td>1.420324</td>\n",
       "      <td>0.272661</td>\n",
       "      <td>1.029716e+05</td>\n",
       "    </tr>\n",
       "    <tr>\n",
       "      <th>min</th>\n",
       "      <td>-1.000000</td>\n",
       "      <td>-18388.949901</td>\n",
       "      <td>0.000000</td>\n",
       "      <td>0.000000</td>\n",
       "      <td>0.000000</td>\n",
       "      <td>0.000000</td>\n",
       "      <td>2.066726e+04</td>\n",
       "    </tr>\n",
       "    <tr>\n",
       "      <th>25%</th>\n",
       "      <td>0.000000</td>\n",
       "      <td>-2747.423625</td>\n",
       "      <td>33.000000</td>\n",
       "      <td>1.000000</td>\n",
       "      <td>0.000000</td>\n",
       "      <td>0.000000</td>\n",
       "      <td>1.030532e+05</td>\n",
       "    </tr>\n",
       "    <tr>\n",
       "      <th>50%</th>\n",
       "      <td>0.000000</td>\n",
       "      <td>-1203.369529</td>\n",
       "      <td>42.000000</td>\n",
       "      <td>1.000000</td>\n",
       "      <td>0.000000</td>\n",
       "      <td>0.000000</td>\n",
       "      <td>1.450179e+05</td>\n",
       "    </tr>\n",
       "    <tr>\n",
       "      <th>75%</th>\n",
       "      <td>1.000000</td>\n",
       "      <td>-291.095954</td>\n",
       "      <td>53.000000</td>\n",
       "      <td>1.000000</td>\n",
       "      <td>1.000000</td>\n",
       "      <td>0.000000</td>\n",
       "      <td>2.034351e+05</td>\n",
       "    </tr>\n",
       "    <tr>\n",
       "      <th>max</th>\n",
       "      <td>20.000000</td>\n",
       "      <td>401755.400475</td>\n",
       "      <td>75.000000</td>\n",
       "      <td>4.000000</td>\n",
       "      <td>4.000000</td>\n",
       "      <td>1.000000</td>\n",
       "      <td>2.265604e+06</td>\n",
       "    </tr>\n",
       "  </tbody>\n",
       "</table>\n",
       "</div>"
      ],
      "text/plain": [
       "           children  days_employed     dob_years  education_id  \\\n",
       "count  21525.000000   19351.000000  21525.000000  21525.000000   \n",
       "mean       0.538908   63046.497661     43.293380      0.817236   \n",
       "std        1.381587  140827.311974     12.574584      0.548138   \n",
       "min       -1.000000  -18388.949901      0.000000      0.000000   \n",
       "25%        0.000000   -2747.423625     33.000000      1.000000   \n",
       "50%        0.000000   -1203.369529     42.000000      1.000000   \n",
       "75%        1.000000    -291.095954     53.000000      1.000000   \n",
       "max       20.000000  401755.400475     75.000000      4.000000   \n",
       "\n",
       "       family_status_id          debt  total_income  \n",
       "count      21525.000000  21525.000000  1.935100e+04  \n",
       "mean           0.972544      0.080883  1.674223e+05  \n",
       "std            1.420324      0.272661  1.029716e+05  \n",
       "min            0.000000      0.000000  2.066726e+04  \n",
       "25%            0.000000      0.000000  1.030532e+05  \n",
       "50%            0.000000      0.000000  1.450179e+05  \n",
       "75%            1.000000      0.000000  2.034351e+05  \n",
       "max            4.000000      1.000000  2.265604e+06  "
      ]
     },
     "execution_count": 67,
     "metadata": {},
     "output_type": "execute_result"
    }
   ],
   "source": [
    "# Вывод списка характерных значений в столбцах датафрейма df\n",
    "df.describe()"
   ]
  },
  {
   "cell_type": "code",
   "execution_count": 68,
   "id": "aff8948a",
   "metadata": {
    "scrolled": true
   },
   "outputs": [
    {
     "data": {
      "text/plain": [
       "Index(['children', 'days_employed', 'dob_years', 'education', 'education_id',\n",
       "       'family_status', 'family_status_id', 'gender', 'income_type', 'debt',\n",
       "       'total_income', 'purpose'],\n",
       "      dtype='object')"
      ]
     },
     "execution_count": 68,
     "metadata": {},
     "output_type": "execute_result"
    }
   ],
   "source": [
    "# Получение информации по названиям столбцов df\n",
    "df.columns"
   ]
  },
  {
   "cell_type": "code",
   "execution_count": 69,
   "id": "682e01ac",
   "metadata": {},
   "outputs": [
    {
     "name": "stdout",
     "output_type": "stream",
     "text": [
      "<class 'pandas.core.frame.DataFrame'>\n",
      "RangeIndex: 21525 entries, 0 to 21524\n",
      "Data columns (total 12 columns):\n",
      " #   Column            Non-Null Count  Dtype  \n",
      "---  ------            --------------  -----  \n",
      " 0   children          21525 non-null  int64  \n",
      " 1   days_employed     19351 non-null  float64\n",
      " 2   dob_years         21525 non-null  int64  \n",
      " 3   education         21525 non-null  object \n",
      " 4   education_id      21525 non-null  int64  \n",
      " 5   family_status     21525 non-null  object \n",
      " 6   family_status_id  21525 non-null  int64  \n",
      " 7   gender            21525 non-null  object \n",
      " 8   income_type       21525 non-null  object \n",
      " 9   debt              21525 non-null  int64  \n",
      " 10  total_income      19351 non-null  float64\n",
      " 11  purpose           21525 non-null  object \n",
      "dtypes: float64(2), int64(5), object(5)\n",
      "memory usage: 2.0+ MB\n"
     ]
    }
   ],
   "source": [
    "# Получение общей информации по таблице из df\n",
    "df.info()"
   ]
  },
  {
   "cell_type": "code",
   "execution_count": 70,
   "id": "5dec3b3c",
   "metadata": {},
   "outputs": [
    {
     "data": {
      "text/plain": [
       "children               0\n",
       "days_employed       2174\n",
       "dob_years              0\n",
       "education              0\n",
       "education_id           0\n",
       "family_status          0\n",
       "family_status_id       0\n",
       "gender                 0\n",
       "income_type            0\n",
       "debt                   0\n",
       "total_income        2174\n",
       "purpose                0\n",
       "dtype: int64"
      ]
     },
     "execution_count": 70,
     "metadata": {},
     "output_type": "execute_result"
    }
   ],
   "source": [
    "# Определение количества пропусков\n",
    "df.isna().sum()"
   ]
  },
  {
   "cell_type": "markdown",
   "id": "f628cd93",
   "metadata": {},
   "source": [
    "<div class=\"alert alert-block alert-warning\">\n",
    "\n",
    "<span style=\"color:green\"><font size=\"3\"><b>Промежуточные выводы 1:</b></span>\n",
    "    \n",
    "<span style=\"color:steelblue\"><font size=\"2\"><b>1. Названия колонок таблицы написаны с соблюдением змеиного стиля и не имеют пропусков.\\\n",
    "    2. Таблица состоит из 12 колонок и 21525 строк.\\\n",
    "    3.1. В колонках 'days_employed' и 'total_income' есть 2174 пропуска (ориентировочно 10% от общего количества, так как количество не нулевых значений равно 19351).\\\n",
    "    Пропуски необходимо заменить медианными значениями в виду завышения дохода в 'total_income' при использовании среднего арифметического значения.\\\n",
    "    3.2. Значения в колонках 'days_employed' и 'total_income' представлены в вещественном типе float64.\\\n",
    "    Необходимо заменить на числовой тип int64.</b></span></div>"
   ]
  },
  {
   "cell_type": "markdown",
   "id": "5d760d0c",
   "metadata": {},
   "source": [
    "## Заполнение пропусков"
   ]
  },
  {
   "cell_type": "code",
   "execution_count": 71,
   "id": "1a26b446",
   "metadata": {},
   "outputs": [],
   "source": [
    "# Заполнение пропусков в колонках 'days_employed' и 'total_income' медианным\n",
    "# значением в соответствии с источником дохода в 'income_type'.\n",
    "# Создание функции для заполнения пропусков медианным значением:\n",
    "# 1. Объявление функции without_nan()\n",
    "def without_nan(columns):\n",
    "    # 2. Вложенный цикл для заполнения пропусков NaN в колонках\n",
    "    # и для перебора названий колонок из списка columns_list\n",
    "    for value in columns:\n",
    "        # 2.1. Заполнение пропусков NaN нулями\n",
    "        df[value] = df[value].fillna(0)\n",
    "        # 2.2. Создание списка уникальных видов дохода\n",
    "        income_type_list = df['income_type'].unique()\n",
    "        # 3. Вложенный цикл второго периода для перебора\n",
    "        # видов дохода из списка income_type_list\n",
    "        # и формирования датафреймов при соблюдении\n",
    "        # условий логической индексации с дальнейшим\n",
    "        # вычислением медианных значений в необходимых\n",
    "        # столбцах value полученных датафреймов\n",
    "        for string in income_type_list:\n",
    "            # 3.1. Формирование датафреймов с помощью\n",
    "            # логической индексации по значению string\n",
    "            df_string = df[df['income_type'] == string]\n",
    "            # 3.2. Получение медианного значения столбца\n",
    "            # value в сформированном датафрейме\n",
    "            df_median = df_string[value].median()\n",
    "            # 3.3. Замена нулевых значений в колонках\n",
    "            # value полученными медианными значениями\n",
    "            df.loc[(df[value] == 0) & (df['income_type'] == string), value] = df_median"
   ]
  },
  {
   "cell_type": "code",
   "execution_count": 72,
   "id": "4e2b4104",
   "metadata": {},
   "outputs": [],
   "source": [
    "# Список колонок с пропусками\n",
    "columns_list = ['days_employed', 'total_income']"
   ]
  },
  {
   "cell_type": "code",
   "execution_count": 73,
   "id": "579659f0",
   "metadata": {},
   "outputs": [],
   "source": [
    "# Применение функции without_nan() к списку columns_list для заполнения пропусков\n",
    "# с обработкой ошибок try-except\n",
    "try:\n",
    "    without_nan(columns_list)\n",
    "except:\n",
    "    print('Проверь алгоритм работы функции \"without_nan()\"!')"
   ]
  },
  {
   "cell_type": "markdown",
   "id": "0ee4a2bd",
   "metadata": {},
   "source": [
    "## Проверка данных на аномалии и исправления"
   ]
  },
  {
   "cell_type": "code",
   "execution_count": 74,
   "id": "ffeb54fd",
   "metadata": {},
   "outputs": [
    {
     "data": {
      "text/plain": [
       "children            0\n",
       "days_employed       0\n",
       "dob_years           0\n",
       "education           0\n",
       "education_id        0\n",
       "family_status       0\n",
       "family_status_id    0\n",
       "gender              0\n",
       "income_type         0\n",
       "debt                0\n",
       "total_income        0\n",
       "purpose             0\n",
       "dtype: int64"
      ]
     },
     "execution_count": 74,
     "metadata": {},
     "output_type": "execute_result"
    }
   ],
   "source": [
    "# Проверка отсутствия пропусков после вызова функции without_nan()\n",
    "df.isna().sum()"
   ]
  },
  {
   "cell_type": "code",
   "execution_count": 75,
   "id": "6b2109a1",
   "metadata": {
    "scrolled": true
   },
   "outputs": [
    {
     "data": {
      "text/plain": [
       "54"
      ]
     },
     "execution_count": 75,
     "metadata": {},
     "output_type": "execute_result"
    }
   ],
   "source": [
    "# Определение количества явных дубликатов\n",
    "df.duplicated().sum()"
   ]
  },
  {
   "cell_type": "code",
   "execution_count": 76,
   "id": "bda9028c",
   "metadata": {
    "scrolled": true
   },
   "outputs": [
    {
     "data": {
      "text/html": [
       "<div>\n",
       "<style scoped>\n",
       "    .dataframe tbody tr th:only-of-type {\n",
       "        vertical-align: middle;\n",
       "    }\n",
       "\n",
       "    .dataframe tbody tr th {\n",
       "        vertical-align: top;\n",
       "    }\n",
       "\n",
       "    .dataframe thead th {\n",
       "        text-align: right;\n",
       "    }\n",
       "</style>\n",
       "<table border=\"1\" class=\"dataframe\">\n",
       "  <thead>\n",
       "    <tr style=\"text-align: right;\">\n",
       "      <th></th>\n",
       "      <th>children</th>\n",
       "      <th>days_employed</th>\n",
       "      <th>dob_years</th>\n",
       "      <th>education</th>\n",
       "      <th>education_id</th>\n",
       "      <th>family_status</th>\n",
       "      <th>family_status_id</th>\n",
       "      <th>gender</th>\n",
       "      <th>income_type</th>\n",
       "      <th>debt</th>\n",
       "      <th>total_income</th>\n",
       "      <th>purpose</th>\n",
       "    </tr>\n",
       "  </thead>\n",
       "  <tbody>\n",
       "    <tr>\n",
       "      <th>2849</th>\n",
       "      <td>0</td>\n",
       "      <td>-1360.363902</td>\n",
       "      <td>41</td>\n",
       "      <td>среднее</td>\n",
       "      <td>1</td>\n",
       "      <td>женат / замужем</td>\n",
       "      <td>0</td>\n",
       "      <td>F</td>\n",
       "      <td>сотрудник</td>\n",
       "      <td>0</td>\n",
       "      <td>133546.457238</td>\n",
       "      <td>покупка жилья для семьи</td>\n",
       "    </tr>\n",
       "    <tr>\n",
       "      <th>4182</th>\n",
       "      <td>1</td>\n",
       "      <td>-1360.363902</td>\n",
       "      <td>34</td>\n",
       "      <td>ВЫСШЕЕ</td>\n",
       "      <td>0</td>\n",
       "      <td>гражданский брак</td>\n",
       "      <td>1</td>\n",
       "      <td>F</td>\n",
       "      <td>сотрудник</td>\n",
       "      <td>0</td>\n",
       "      <td>133546.457238</td>\n",
       "      <td>свадьба</td>\n",
       "    </tr>\n",
       "    <tr>\n",
       "      <th>4851</th>\n",
       "      <td>0</td>\n",
       "      <td>360505.668544</td>\n",
       "      <td>60</td>\n",
       "      <td>среднее</td>\n",
       "      <td>1</td>\n",
       "      <td>гражданский брак</td>\n",
       "      <td>1</td>\n",
       "      <td>F</td>\n",
       "      <td>пенсионер</td>\n",
       "      <td>0</td>\n",
       "      <td>110179.690761</td>\n",
       "      <td>свадьба</td>\n",
       "    </tr>\n",
       "    <tr>\n",
       "      <th>5557</th>\n",
       "      <td>0</td>\n",
       "      <td>360505.668544</td>\n",
       "      <td>58</td>\n",
       "      <td>среднее</td>\n",
       "      <td>1</td>\n",
       "      <td>гражданский брак</td>\n",
       "      <td>1</td>\n",
       "      <td>F</td>\n",
       "      <td>пенсионер</td>\n",
       "      <td>0</td>\n",
       "      <td>110179.690761</td>\n",
       "      <td>сыграть свадьбу</td>\n",
       "    </tr>\n",
       "    <tr>\n",
       "      <th>7808</th>\n",
       "      <td>0</td>\n",
       "      <td>360505.668544</td>\n",
       "      <td>57</td>\n",
       "      <td>среднее</td>\n",
       "      <td>1</td>\n",
       "      <td>гражданский брак</td>\n",
       "      <td>1</td>\n",
       "      <td>F</td>\n",
       "      <td>пенсионер</td>\n",
       "      <td>0</td>\n",
       "      <td>110179.690761</td>\n",
       "      <td>на проведение свадьбы</td>\n",
       "    </tr>\n",
       "    <tr>\n",
       "      <th>8583</th>\n",
       "      <td>0</td>\n",
       "      <td>360505.668544</td>\n",
       "      <td>58</td>\n",
       "      <td>высшее</td>\n",
       "      <td>0</td>\n",
       "      <td>Не женат / не замужем</td>\n",
       "      <td>4</td>\n",
       "      <td>F</td>\n",
       "      <td>пенсионер</td>\n",
       "      <td>0</td>\n",
       "      <td>110179.690761</td>\n",
       "      <td>дополнительное образование</td>\n",
       "    </tr>\n",
       "    <tr>\n",
       "      <th>9238</th>\n",
       "      <td>2</td>\n",
       "      <td>-1360.363902</td>\n",
       "      <td>34</td>\n",
       "      <td>среднее</td>\n",
       "      <td>1</td>\n",
       "      <td>женат / замужем</td>\n",
       "      <td>0</td>\n",
       "      <td>F</td>\n",
       "      <td>сотрудник</td>\n",
       "      <td>0</td>\n",
       "      <td>133546.457238</td>\n",
       "      <td>покупка жилья для сдачи</td>\n",
       "    </tr>\n",
       "    <tr>\n",
       "      <th>9528</th>\n",
       "      <td>0</td>\n",
       "      <td>360505.668544</td>\n",
       "      <td>66</td>\n",
       "      <td>среднее</td>\n",
       "      <td>1</td>\n",
       "      <td>вдовец / вдова</td>\n",
       "      <td>2</td>\n",
       "      <td>F</td>\n",
       "      <td>пенсионер</td>\n",
       "      <td>0</td>\n",
       "      <td>110179.690761</td>\n",
       "      <td>операции со своей недвижимостью</td>\n",
       "    </tr>\n",
       "    <tr>\n",
       "      <th>9627</th>\n",
       "      <td>0</td>\n",
       "      <td>360505.668544</td>\n",
       "      <td>56</td>\n",
       "      <td>среднее</td>\n",
       "      <td>1</td>\n",
       "      <td>женат / замужем</td>\n",
       "      <td>0</td>\n",
       "      <td>F</td>\n",
       "      <td>пенсионер</td>\n",
       "      <td>0</td>\n",
       "      <td>110179.690761</td>\n",
       "      <td>операции со своей недвижимостью</td>\n",
       "    </tr>\n",
       "    <tr>\n",
       "      <th>10462</th>\n",
       "      <td>0</td>\n",
       "      <td>360505.668544</td>\n",
       "      <td>62</td>\n",
       "      <td>среднее</td>\n",
       "      <td>1</td>\n",
       "      <td>женат / замужем</td>\n",
       "      <td>0</td>\n",
       "      <td>F</td>\n",
       "      <td>пенсионер</td>\n",
       "      <td>0</td>\n",
       "      <td>110179.690761</td>\n",
       "      <td>покупка коммерческой недвижимости</td>\n",
       "    </tr>\n",
       "    <tr>\n",
       "      <th>10697</th>\n",
       "      <td>0</td>\n",
       "      <td>-1311.128244</td>\n",
       "      <td>40</td>\n",
       "      <td>среднее</td>\n",
       "      <td>1</td>\n",
       "      <td>гражданский брак</td>\n",
       "      <td>1</td>\n",
       "      <td>F</td>\n",
       "      <td>компаньон</td>\n",
       "      <td>0</td>\n",
       "      <td>162401.351555</td>\n",
       "      <td>сыграть свадьбу</td>\n",
       "    </tr>\n",
       "    <tr>\n",
       "      <th>10864</th>\n",
       "      <td>0</td>\n",
       "      <td>360505.668544</td>\n",
       "      <td>62</td>\n",
       "      <td>среднее</td>\n",
       "      <td>1</td>\n",
       "      <td>женат / замужем</td>\n",
       "      <td>0</td>\n",
       "      <td>F</td>\n",
       "      <td>пенсионер</td>\n",
       "      <td>0</td>\n",
       "      <td>110179.690761</td>\n",
       "      <td>ремонт жилью</td>\n",
       "    </tr>\n",
       "    <tr>\n",
       "      <th>10994</th>\n",
       "      <td>0</td>\n",
       "      <td>360505.668544</td>\n",
       "      <td>62</td>\n",
       "      <td>среднее</td>\n",
       "      <td>1</td>\n",
       "      <td>женат / замужем</td>\n",
       "      <td>0</td>\n",
       "      <td>F</td>\n",
       "      <td>пенсионер</td>\n",
       "      <td>0</td>\n",
       "      <td>110179.690761</td>\n",
       "      <td>ремонт жилью</td>\n",
       "    </tr>\n",
       "    <tr>\n",
       "      <th>11791</th>\n",
       "      <td>0</td>\n",
       "      <td>-1360.363902</td>\n",
       "      <td>47</td>\n",
       "      <td>среднее</td>\n",
       "      <td>1</td>\n",
       "      <td>женат / замужем</td>\n",
       "      <td>0</td>\n",
       "      <td>F</td>\n",
       "      <td>сотрудник</td>\n",
       "      <td>0</td>\n",
       "      <td>133546.457238</td>\n",
       "      <td>строительство недвижимости</td>\n",
       "    </tr>\n",
       "    <tr>\n",
       "      <th>12373</th>\n",
       "      <td>0</td>\n",
       "      <td>-1360.363902</td>\n",
       "      <td>58</td>\n",
       "      <td>среднее</td>\n",
       "      <td>1</td>\n",
       "      <td>женат / замужем</td>\n",
       "      <td>0</td>\n",
       "      <td>M</td>\n",
       "      <td>сотрудник</td>\n",
       "      <td>0</td>\n",
       "      <td>133546.457238</td>\n",
       "      <td>покупка недвижимости</td>\n",
       "    </tr>\n",
       "    <tr>\n",
       "      <th>12375</th>\n",
       "      <td>1</td>\n",
       "      <td>-1360.363902</td>\n",
       "      <td>37</td>\n",
       "      <td>среднее</td>\n",
       "      <td>1</td>\n",
       "      <td>женат / замужем</td>\n",
       "      <td>0</td>\n",
       "      <td>F</td>\n",
       "      <td>сотрудник</td>\n",
       "      <td>0</td>\n",
       "      <td>133546.457238</td>\n",
       "      <td>покупка недвижимости</td>\n",
       "    </tr>\n",
       "    <tr>\n",
       "      <th>12736</th>\n",
       "      <td>0</td>\n",
       "      <td>360505.668544</td>\n",
       "      <td>59</td>\n",
       "      <td>среднее</td>\n",
       "      <td>1</td>\n",
       "      <td>женат / замужем</td>\n",
       "      <td>0</td>\n",
       "      <td>F</td>\n",
       "      <td>пенсионер</td>\n",
       "      <td>0</td>\n",
       "      <td>110179.690761</td>\n",
       "      <td>заняться образованием</td>\n",
       "    </tr>\n",
       "    <tr>\n",
       "      <th>13025</th>\n",
       "      <td>1</td>\n",
       "      <td>-1360.363902</td>\n",
       "      <td>44</td>\n",
       "      <td>среднее</td>\n",
       "      <td>1</td>\n",
       "      <td>женат / замужем</td>\n",
       "      <td>0</td>\n",
       "      <td>F</td>\n",
       "      <td>сотрудник</td>\n",
       "      <td>0</td>\n",
       "      <td>133546.457238</td>\n",
       "      <td>сделка с подержанным автомобилем</td>\n",
       "    </tr>\n",
       "    <tr>\n",
       "      <th>13639</th>\n",
       "      <td>0</td>\n",
       "      <td>360505.668544</td>\n",
       "      <td>64</td>\n",
       "      <td>среднее</td>\n",
       "      <td>1</td>\n",
       "      <td>женат / замужем</td>\n",
       "      <td>0</td>\n",
       "      <td>F</td>\n",
       "      <td>пенсионер</td>\n",
       "      <td>0</td>\n",
       "      <td>110179.690761</td>\n",
       "      <td>автомобиль</td>\n",
       "    </tr>\n",
       "    <tr>\n",
       "      <th>13773</th>\n",
       "      <td>0</td>\n",
       "      <td>-1360.363902</td>\n",
       "      <td>35</td>\n",
       "      <td>среднее</td>\n",
       "      <td>1</td>\n",
       "      <td>гражданский брак</td>\n",
       "      <td>1</td>\n",
       "      <td>F</td>\n",
       "      <td>сотрудник</td>\n",
       "      <td>0</td>\n",
       "      <td>133546.457238</td>\n",
       "      <td>сыграть свадьбу</td>\n",
       "    </tr>\n",
       "    <tr>\n",
       "      <th>13878</th>\n",
       "      <td>1</td>\n",
       "      <td>-1311.128244</td>\n",
       "      <td>31</td>\n",
       "      <td>среднее</td>\n",
       "      <td>1</td>\n",
       "      <td>женат / замужем</td>\n",
       "      <td>0</td>\n",
       "      <td>F</td>\n",
       "      <td>компаньон</td>\n",
       "      <td>0</td>\n",
       "      <td>162401.351555</td>\n",
       "      <td>покупка жилья</td>\n",
       "    </tr>\n",
       "    <tr>\n",
       "      <th>13942</th>\n",
       "      <td>0</td>\n",
       "      <td>-1360.363902</td>\n",
       "      <td>44</td>\n",
       "      <td>среднее</td>\n",
       "      <td>1</td>\n",
       "      <td>женат / замужем</td>\n",
       "      <td>0</td>\n",
       "      <td>F</td>\n",
       "      <td>сотрудник</td>\n",
       "      <td>0</td>\n",
       "      <td>133546.457238</td>\n",
       "      <td>приобретение автомобиля</td>\n",
       "    </tr>\n",
       "    <tr>\n",
       "      <th>14432</th>\n",
       "      <td>2</td>\n",
       "      <td>-2385.358043</td>\n",
       "      <td>36</td>\n",
       "      <td>высшее</td>\n",
       "      <td>0</td>\n",
       "      <td>женат / замужем</td>\n",
       "      <td>0</td>\n",
       "      <td>F</td>\n",
       "      <td>госслужащий</td>\n",
       "      <td>0</td>\n",
       "      <td>139034.452386</td>\n",
       "      <td>получение образования</td>\n",
       "    </tr>\n",
       "    <tr>\n",
       "      <th>14832</th>\n",
       "      <td>0</td>\n",
       "      <td>-1360.363902</td>\n",
       "      <td>50</td>\n",
       "      <td>среднее</td>\n",
       "      <td>1</td>\n",
       "      <td>Не женат / не замужем</td>\n",
       "      <td>4</td>\n",
       "      <td>F</td>\n",
       "      <td>сотрудник</td>\n",
       "      <td>0</td>\n",
       "      <td>133546.457238</td>\n",
       "      <td>недвижимость</td>\n",
       "    </tr>\n",
       "    <tr>\n",
       "      <th>15091</th>\n",
       "      <td>0</td>\n",
       "      <td>-1360.363902</td>\n",
       "      <td>58</td>\n",
       "      <td>среднее</td>\n",
       "      <td>1</td>\n",
       "      <td>гражданский брак</td>\n",
       "      <td>1</td>\n",
       "      <td>M</td>\n",
       "      <td>сотрудник</td>\n",
       "      <td>0</td>\n",
       "      <td>133546.457238</td>\n",
       "      <td>на проведение свадьбы</td>\n",
       "    </tr>\n",
       "    <tr>\n",
       "      <th>15188</th>\n",
       "      <td>0</td>\n",
       "      <td>-1360.363902</td>\n",
       "      <td>60</td>\n",
       "      <td>среднее</td>\n",
       "      <td>1</td>\n",
       "      <td>женат / замужем</td>\n",
       "      <td>0</td>\n",
       "      <td>M</td>\n",
       "      <td>сотрудник</td>\n",
       "      <td>0</td>\n",
       "      <td>133546.457238</td>\n",
       "      <td>покупка недвижимости</td>\n",
       "    </tr>\n",
       "    <tr>\n",
       "      <th>15273</th>\n",
       "      <td>0</td>\n",
       "      <td>360505.668544</td>\n",
       "      <td>57</td>\n",
       "      <td>среднее</td>\n",
       "      <td>1</td>\n",
       "      <td>гражданский брак</td>\n",
       "      <td>1</td>\n",
       "      <td>F</td>\n",
       "      <td>пенсионер</td>\n",
       "      <td>0</td>\n",
       "      <td>110179.690761</td>\n",
       "      <td>свадьба</td>\n",
       "    </tr>\n",
       "    <tr>\n",
       "      <th>16176</th>\n",
       "      <td>0</td>\n",
       "      <td>-1360.363902</td>\n",
       "      <td>47</td>\n",
       "      <td>среднее</td>\n",
       "      <td>1</td>\n",
       "      <td>женат / замужем</td>\n",
       "      <td>0</td>\n",
       "      <td>F</td>\n",
       "      <td>сотрудник</td>\n",
       "      <td>0</td>\n",
       "      <td>133546.457238</td>\n",
       "      <td>ремонт жилью</td>\n",
       "    </tr>\n",
       "    <tr>\n",
       "      <th>16378</th>\n",
       "      <td>0</td>\n",
       "      <td>-1360.363902</td>\n",
       "      <td>46</td>\n",
       "      <td>среднее</td>\n",
       "      <td>1</td>\n",
       "      <td>женат / замужем</td>\n",
       "      <td>0</td>\n",
       "      <td>F</td>\n",
       "      <td>сотрудник</td>\n",
       "      <td>0</td>\n",
       "      <td>133546.457238</td>\n",
       "      <td>высшее образование</td>\n",
       "    </tr>\n",
       "    <tr>\n",
       "      <th>16902</th>\n",
       "      <td>2</td>\n",
       "      <td>-1360.363902</td>\n",
       "      <td>39</td>\n",
       "      <td>среднее</td>\n",
       "      <td>1</td>\n",
       "      <td>гражданский брак</td>\n",
       "      <td>1</td>\n",
       "      <td>F</td>\n",
       "      <td>сотрудник</td>\n",
       "      <td>0</td>\n",
       "      <td>133546.457238</td>\n",
       "      <td>сыграть свадьбу</td>\n",
       "    </tr>\n",
       "    <tr>\n",
       "      <th>16904</th>\n",
       "      <td>1</td>\n",
       "      <td>-1360.363902</td>\n",
       "      <td>32</td>\n",
       "      <td>высшее</td>\n",
       "      <td>0</td>\n",
       "      <td>женат / замужем</td>\n",
       "      <td>0</td>\n",
       "      <td>F</td>\n",
       "      <td>сотрудник</td>\n",
       "      <td>0</td>\n",
       "      <td>133546.457238</td>\n",
       "      <td>на покупку подержанного автомобиля</td>\n",
       "    </tr>\n",
       "    <tr>\n",
       "      <th>17379</th>\n",
       "      <td>0</td>\n",
       "      <td>-1311.128244</td>\n",
       "      <td>54</td>\n",
       "      <td>высшее</td>\n",
       "      <td>0</td>\n",
       "      <td>женат / замужем</td>\n",
       "      <td>0</td>\n",
       "      <td>M</td>\n",
       "      <td>компаньон</td>\n",
       "      <td>0</td>\n",
       "      <td>162401.351555</td>\n",
       "      <td>операции с коммерческой недвижимостью</td>\n",
       "    </tr>\n",
       "    <tr>\n",
       "      <th>17755</th>\n",
       "      <td>1</td>\n",
       "      <td>-1360.363902</td>\n",
       "      <td>43</td>\n",
       "      <td>среднее</td>\n",
       "      <td>1</td>\n",
       "      <td>женат / замужем</td>\n",
       "      <td>0</td>\n",
       "      <td>M</td>\n",
       "      <td>сотрудник</td>\n",
       "      <td>0</td>\n",
       "      <td>133546.457238</td>\n",
       "      <td>заняться образованием</td>\n",
       "    </tr>\n",
       "    <tr>\n",
       "      <th>17774</th>\n",
       "      <td>1</td>\n",
       "      <td>-1311.128244</td>\n",
       "      <td>40</td>\n",
       "      <td>среднее</td>\n",
       "      <td>1</td>\n",
       "      <td>гражданский брак</td>\n",
       "      <td>1</td>\n",
       "      <td>F</td>\n",
       "      <td>компаньон</td>\n",
       "      <td>0</td>\n",
       "      <td>162401.351555</td>\n",
       "      <td>строительство жилой недвижимости</td>\n",
       "    </tr>\n",
       "    <tr>\n",
       "      <th>18328</th>\n",
       "      <td>0</td>\n",
       "      <td>-1360.363902</td>\n",
       "      <td>29</td>\n",
       "      <td>высшее</td>\n",
       "      <td>0</td>\n",
       "      <td>женат / замужем</td>\n",
       "      <td>0</td>\n",
       "      <td>M</td>\n",
       "      <td>сотрудник</td>\n",
       "      <td>0</td>\n",
       "      <td>133546.457238</td>\n",
       "      <td>покупка жилой недвижимости</td>\n",
       "    </tr>\n",
       "    <tr>\n",
       "      <th>18349</th>\n",
       "      <td>1</td>\n",
       "      <td>-2385.358043</td>\n",
       "      <td>30</td>\n",
       "      <td>высшее</td>\n",
       "      <td>0</td>\n",
       "      <td>женат / замужем</td>\n",
       "      <td>0</td>\n",
       "      <td>F</td>\n",
       "      <td>госслужащий</td>\n",
       "      <td>0</td>\n",
       "      <td>139034.452386</td>\n",
       "      <td>покупка жилья для семьи</td>\n",
       "    </tr>\n",
       "    <tr>\n",
       "      <th>18428</th>\n",
       "      <td>0</td>\n",
       "      <td>360505.668544</td>\n",
       "      <td>64</td>\n",
       "      <td>среднее</td>\n",
       "      <td>1</td>\n",
       "      <td>женат / замужем</td>\n",
       "      <td>0</td>\n",
       "      <td>F</td>\n",
       "      <td>пенсионер</td>\n",
       "      <td>0</td>\n",
       "      <td>110179.690761</td>\n",
       "      <td>жилье</td>\n",
       "    </tr>\n",
       "    <tr>\n",
       "      <th>18521</th>\n",
       "      <td>0</td>\n",
       "      <td>-1360.363902</td>\n",
       "      <td>56</td>\n",
       "      <td>среднее</td>\n",
       "      <td>1</td>\n",
       "      <td>гражданский брак</td>\n",
       "      <td>1</td>\n",
       "      <td>F</td>\n",
       "      <td>сотрудник</td>\n",
       "      <td>0</td>\n",
       "      <td>133546.457238</td>\n",
       "      <td>сыграть свадьбу</td>\n",
       "    </tr>\n",
       "    <tr>\n",
       "      <th>18563</th>\n",
       "      <td>0</td>\n",
       "      <td>-1360.363902</td>\n",
       "      <td>54</td>\n",
       "      <td>среднее</td>\n",
       "      <td>1</td>\n",
       "      <td>женат / замужем</td>\n",
       "      <td>0</td>\n",
       "      <td>F</td>\n",
       "      <td>сотрудник</td>\n",
       "      <td>0</td>\n",
       "      <td>133546.457238</td>\n",
       "      <td>операции со своей недвижимостью</td>\n",
       "    </tr>\n",
       "    <tr>\n",
       "      <th>18755</th>\n",
       "      <td>0</td>\n",
       "      <td>360505.668544</td>\n",
       "      <td>58</td>\n",
       "      <td>среднее</td>\n",
       "      <td>1</td>\n",
       "      <td>женат / замужем</td>\n",
       "      <td>0</td>\n",
       "      <td>F</td>\n",
       "      <td>пенсионер</td>\n",
       "      <td>0</td>\n",
       "      <td>110179.690761</td>\n",
       "      <td>заняться образованием</td>\n",
       "    </tr>\n",
       "    <tr>\n",
       "      <th>19041</th>\n",
       "      <td>0</td>\n",
       "      <td>-1360.363902</td>\n",
       "      <td>56</td>\n",
       "      <td>среднее</td>\n",
       "      <td>1</td>\n",
       "      <td>гражданский брак</td>\n",
       "      <td>1</td>\n",
       "      <td>F</td>\n",
       "      <td>сотрудник</td>\n",
       "      <td>0</td>\n",
       "      <td>133546.457238</td>\n",
       "      <td>на проведение свадьбы</td>\n",
       "    </tr>\n",
       "    <tr>\n",
       "      <th>19184</th>\n",
       "      <td>0</td>\n",
       "      <td>-1360.363902</td>\n",
       "      <td>46</td>\n",
       "      <td>среднее</td>\n",
       "      <td>1</td>\n",
       "      <td>женат / замужем</td>\n",
       "      <td>0</td>\n",
       "      <td>F</td>\n",
       "      <td>сотрудник</td>\n",
       "      <td>0</td>\n",
       "      <td>133546.457238</td>\n",
       "      <td>свой автомобиль</td>\n",
       "    </tr>\n",
       "    <tr>\n",
       "      <th>19321</th>\n",
       "      <td>0</td>\n",
       "      <td>-1360.363902</td>\n",
       "      <td>23</td>\n",
       "      <td>среднее</td>\n",
       "      <td>1</td>\n",
       "      <td>Не женат / не замужем</td>\n",
       "      <td>4</td>\n",
       "      <td>F</td>\n",
       "      <td>сотрудник</td>\n",
       "      <td>0</td>\n",
       "      <td>133546.457238</td>\n",
       "      <td>сделка с подержанным автомобилем</td>\n",
       "    </tr>\n",
       "    <tr>\n",
       "      <th>19387</th>\n",
       "      <td>0</td>\n",
       "      <td>-1311.128244</td>\n",
       "      <td>38</td>\n",
       "      <td>высшее</td>\n",
       "      <td>0</td>\n",
       "      <td>гражданский брак</td>\n",
       "      <td>1</td>\n",
       "      <td>F</td>\n",
       "      <td>компаньон</td>\n",
       "      <td>0</td>\n",
       "      <td>162401.351555</td>\n",
       "      <td>на проведение свадьбы</td>\n",
       "    </tr>\n",
       "    <tr>\n",
       "      <th>19688</th>\n",
       "      <td>0</td>\n",
       "      <td>360505.668544</td>\n",
       "      <td>61</td>\n",
       "      <td>среднее</td>\n",
       "      <td>1</td>\n",
       "      <td>женат / замужем</td>\n",
       "      <td>0</td>\n",
       "      <td>F</td>\n",
       "      <td>пенсионер</td>\n",
       "      <td>0</td>\n",
       "      <td>110179.690761</td>\n",
       "      <td>операции с недвижимостью</td>\n",
       "    </tr>\n",
       "    <tr>\n",
       "      <th>19832</th>\n",
       "      <td>0</td>\n",
       "      <td>-1360.363902</td>\n",
       "      <td>48</td>\n",
       "      <td>среднее</td>\n",
       "      <td>1</td>\n",
       "      <td>женат / замужем</td>\n",
       "      <td>0</td>\n",
       "      <td>F</td>\n",
       "      <td>сотрудник</td>\n",
       "      <td>0</td>\n",
       "      <td>133546.457238</td>\n",
       "      <td>ремонт жилью</td>\n",
       "    </tr>\n",
       "    <tr>\n",
       "      <th>19946</th>\n",
       "      <td>0</td>\n",
       "      <td>-1360.363902</td>\n",
       "      <td>57</td>\n",
       "      <td>среднее</td>\n",
       "      <td>1</td>\n",
       "      <td>женат / замужем</td>\n",
       "      <td>0</td>\n",
       "      <td>F</td>\n",
       "      <td>сотрудник</td>\n",
       "      <td>0</td>\n",
       "      <td>133546.457238</td>\n",
       "      <td>сделка с подержанным автомобилем</td>\n",
       "    </tr>\n",
       "    <tr>\n",
       "      <th>20116</th>\n",
       "      <td>0</td>\n",
       "      <td>360505.668544</td>\n",
       "      <td>57</td>\n",
       "      <td>среднее</td>\n",
       "      <td>1</td>\n",
       "      <td>гражданский брак</td>\n",
       "      <td>1</td>\n",
       "      <td>M</td>\n",
       "      <td>пенсионер</td>\n",
       "      <td>0</td>\n",
       "      <td>110179.690761</td>\n",
       "      <td>свадьба</td>\n",
       "    </tr>\n",
       "    <tr>\n",
       "      <th>20165</th>\n",
       "      <td>0</td>\n",
       "      <td>-1360.363902</td>\n",
       "      <td>42</td>\n",
       "      <td>среднее</td>\n",
       "      <td>1</td>\n",
       "      <td>женат / замужем</td>\n",
       "      <td>0</td>\n",
       "      <td>F</td>\n",
       "      <td>сотрудник</td>\n",
       "      <td>0</td>\n",
       "      <td>133546.457238</td>\n",
       "      <td>покупка жилья для семьи</td>\n",
       "    </tr>\n",
       "    <tr>\n",
       "      <th>20702</th>\n",
       "      <td>0</td>\n",
       "      <td>360505.668544</td>\n",
       "      <td>64</td>\n",
       "      <td>среднее</td>\n",
       "      <td>1</td>\n",
       "      <td>женат / замужем</td>\n",
       "      <td>0</td>\n",
       "      <td>F</td>\n",
       "      <td>пенсионер</td>\n",
       "      <td>0</td>\n",
       "      <td>110179.690761</td>\n",
       "      <td>дополнительное образование</td>\n",
       "    </tr>\n",
       "    <tr>\n",
       "      <th>21032</th>\n",
       "      <td>0</td>\n",
       "      <td>360505.668544</td>\n",
       "      <td>60</td>\n",
       "      <td>среднее</td>\n",
       "      <td>1</td>\n",
       "      <td>женат / замужем</td>\n",
       "      <td>0</td>\n",
       "      <td>F</td>\n",
       "      <td>пенсионер</td>\n",
       "      <td>0</td>\n",
       "      <td>110179.690761</td>\n",
       "      <td>заняться образованием</td>\n",
       "    </tr>\n",
       "    <tr>\n",
       "      <th>21132</th>\n",
       "      <td>0</td>\n",
       "      <td>-1360.363902</td>\n",
       "      <td>47</td>\n",
       "      <td>среднее</td>\n",
       "      <td>1</td>\n",
       "      <td>женат / замужем</td>\n",
       "      <td>0</td>\n",
       "      <td>F</td>\n",
       "      <td>сотрудник</td>\n",
       "      <td>0</td>\n",
       "      <td>133546.457238</td>\n",
       "      <td>ремонт жилью</td>\n",
       "    </tr>\n",
       "    <tr>\n",
       "      <th>21281</th>\n",
       "      <td>1</td>\n",
       "      <td>-1360.363902</td>\n",
       "      <td>30</td>\n",
       "      <td>высшее</td>\n",
       "      <td>0</td>\n",
       "      <td>женат / замужем</td>\n",
       "      <td>0</td>\n",
       "      <td>F</td>\n",
       "      <td>сотрудник</td>\n",
       "      <td>0</td>\n",
       "      <td>133546.457238</td>\n",
       "      <td>покупка коммерческой недвижимости</td>\n",
       "    </tr>\n",
       "    <tr>\n",
       "      <th>21415</th>\n",
       "      <td>0</td>\n",
       "      <td>360505.668544</td>\n",
       "      <td>54</td>\n",
       "      <td>среднее</td>\n",
       "      <td>1</td>\n",
       "      <td>женат / замужем</td>\n",
       "      <td>0</td>\n",
       "      <td>F</td>\n",
       "      <td>пенсионер</td>\n",
       "      <td>0</td>\n",
       "      <td>110179.690761</td>\n",
       "      <td>операции с жильем</td>\n",
       "    </tr>\n",
       "  </tbody>\n",
       "</table>\n",
       "</div>"
      ],
      "text/plain": [
       "       children  days_employed  dob_years education  education_id  \\\n",
       "2849          0   -1360.363902         41   среднее             1   \n",
       "4182          1   -1360.363902         34    ВЫСШЕЕ             0   \n",
       "4851          0  360505.668544         60   среднее             1   \n",
       "5557          0  360505.668544         58   среднее             1   \n",
       "7808          0  360505.668544         57   среднее             1   \n",
       "8583          0  360505.668544         58    высшее             0   \n",
       "9238          2   -1360.363902         34   среднее             1   \n",
       "9528          0  360505.668544         66   среднее             1   \n",
       "9627          0  360505.668544         56   среднее             1   \n",
       "10462         0  360505.668544         62   среднее             1   \n",
       "10697         0   -1311.128244         40   среднее             1   \n",
       "10864         0  360505.668544         62   среднее             1   \n",
       "10994         0  360505.668544         62   среднее             1   \n",
       "11791         0   -1360.363902         47   среднее             1   \n",
       "12373         0   -1360.363902         58   среднее             1   \n",
       "12375         1   -1360.363902         37   среднее             1   \n",
       "12736         0  360505.668544         59   среднее             1   \n",
       "13025         1   -1360.363902         44   среднее             1   \n",
       "13639         0  360505.668544         64   среднее             1   \n",
       "13773         0   -1360.363902         35   среднее             1   \n",
       "13878         1   -1311.128244         31   среднее             1   \n",
       "13942         0   -1360.363902         44   среднее             1   \n",
       "14432         2   -2385.358043         36    высшее             0   \n",
       "14832         0   -1360.363902         50   среднее             1   \n",
       "15091         0   -1360.363902         58   среднее             1   \n",
       "15188         0   -1360.363902         60   среднее             1   \n",
       "15273         0  360505.668544         57   среднее             1   \n",
       "16176         0   -1360.363902         47   среднее             1   \n",
       "16378         0   -1360.363902         46   среднее             1   \n",
       "16902         2   -1360.363902         39   среднее             1   \n",
       "16904         1   -1360.363902         32    высшее             0   \n",
       "17379         0   -1311.128244         54    высшее             0   \n",
       "17755         1   -1360.363902         43   среднее             1   \n",
       "17774         1   -1311.128244         40   среднее             1   \n",
       "18328         0   -1360.363902         29    высшее             0   \n",
       "18349         1   -2385.358043         30    высшее             0   \n",
       "18428         0  360505.668544         64   среднее             1   \n",
       "18521         0   -1360.363902         56   среднее             1   \n",
       "18563         0   -1360.363902         54   среднее             1   \n",
       "18755         0  360505.668544         58   среднее             1   \n",
       "19041         0   -1360.363902         56   среднее             1   \n",
       "19184         0   -1360.363902         46   среднее             1   \n",
       "19321         0   -1360.363902         23   среднее             1   \n",
       "19387         0   -1311.128244         38    высшее             0   \n",
       "19688         0  360505.668544         61   среднее             1   \n",
       "19832         0   -1360.363902         48   среднее             1   \n",
       "19946         0   -1360.363902         57   среднее             1   \n",
       "20116         0  360505.668544         57   среднее             1   \n",
       "20165         0   -1360.363902         42   среднее             1   \n",
       "20702         0  360505.668544         64   среднее             1   \n",
       "21032         0  360505.668544         60   среднее             1   \n",
       "21132         0   -1360.363902         47   среднее             1   \n",
       "21281         1   -1360.363902         30    высшее             0   \n",
       "21415         0  360505.668544         54   среднее             1   \n",
       "\n",
       "               family_status  family_status_id gender  income_type  debt  \\\n",
       "2849         женат / замужем                 0      F    сотрудник     0   \n",
       "4182        гражданский брак                 1      F    сотрудник     0   \n",
       "4851        гражданский брак                 1      F    пенсионер     0   \n",
       "5557        гражданский брак                 1      F    пенсионер     0   \n",
       "7808        гражданский брак                 1      F    пенсионер     0   \n",
       "8583   Не женат / не замужем                 4      F    пенсионер     0   \n",
       "9238         женат / замужем                 0      F    сотрудник     0   \n",
       "9528          вдовец / вдова                 2      F    пенсионер     0   \n",
       "9627         женат / замужем                 0      F    пенсионер     0   \n",
       "10462        женат / замужем                 0      F    пенсионер     0   \n",
       "10697       гражданский брак                 1      F    компаньон     0   \n",
       "10864        женат / замужем                 0      F    пенсионер     0   \n",
       "10994        женат / замужем                 0      F    пенсионер     0   \n",
       "11791        женат / замужем                 0      F    сотрудник     0   \n",
       "12373        женат / замужем                 0      M    сотрудник     0   \n",
       "12375        женат / замужем                 0      F    сотрудник     0   \n",
       "12736        женат / замужем                 0      F    пенсионер     0   \n",
       "13025        женат / замужем                 0      F    сотрудник     0   \n",
       "13639        женат / замужем                 0      F    пенсионер     0   \n",
       "13773       гражданский брак                 1      F    сотрудник     0   \n",
       "13878        женат / замужем                 0      F    компаньон     0   \n",
       "13942        женат / замужем                 0      F    сотрудник     0   \n",
       "14432        женат / замужем                 0      F  госслужащий     0   \n",
       "14832  Не женат / не замужем                 4      F    сотрудник     0   \n",
       "15091       гражданский брак                 1      M    сотрудник     0   \n",
       "15188        женат / замужем                 0      M    сотрудник     0   \n",
       "15273       гражданский брак                 1      F    пенсионер     0   \n",
       "16176        женат / замужем                 0      F    сотрудник     0   \n",
       "16378        женат / замужем                 0      F    сотрудник     0   \n",
       "16902       гражданский брак                 1      F    сотрудник     0   \n",
       "16904        женат / замужем                 0      F    сотрудник     0   \n",
       "17379        женат / замужем                 0      M    компаньон     0   \n",
       "17755        женат / замужем                 0      M    сотрудник     0   \n",
       "17774       гражданский брак                 1      F    компаньон     0   \n",
       "18328        женат / замужем                 0      M    сотрудник     0   \n",
       "18349        женат / замужем                 0      F  госслужащий     0   \n",
       "18428        женат / замужем                 0      F    пенсионер     0   \n",
       "18521       гражданский брак                 1      F    сотрудник     0   \n",
       "18563        женат / замужем                 0      F    сотрудник     0   \n",
       "18755        женат / замужем                 0      F    пенсионер     0   \n",
       "19041       гражданский брак                 1      F    сотрудник     0   \n",
       "19184        женат / замужем                 0      F    сотрудник     0   \n",
       "19321  Не женат / не замужем                 4      F    сотрудник     0   \n",
       "19387       гражданский брак                 1      F    компаньон     0   \n",
       "19688        женат / замужем                 0      F    пенсионер     0   \n",
       "19832        женат / замужем                 0      F    сотрудник     0   \n",
       "19946        женат / замужем                 0      F    сотрудник     0   \n",
       "20116       гражданский брак                 1      M    пенсионер     0   \n",
       "20165        женат / замужем                 0      F    сотрудник     0   \n",
       "20702        женат / замужем                 0      F    пенсионер     0   \n",
       "21032        женат / замужем                 0      F    пенсионер     0   \n",
       "21132        женат / замужем                 0      F    сотрудник     0   \n",
       "21281        женат / замужем                 0      F    сотрудник     0   \n",
       "21415        женат / замужем                 0      F    пенсионер     0   \n",
       "\n",
       "        total_income                                purpose  \n",
       "2849   133546.457238                покупка жилья для семьи  \n",
       "4182   133546.457238                                свадьба  \n",
       "4851   110179.690761                                свадьба  \n",
       "5557   110179.690761                        сыграть свадьбу  \n",
       "7808   110179.690761                  на проведение свадьбы  \n",
       "8583   110179.690761             дополнительное образование  \n",
       "9238   133546.457238                покупка жилья для сдачи  \n",
       "9528   110179.690761        операции со своей недвижимостью  \n",
       "9627   110179.690761        операции со своей недвижимостью  \n",
       "10462  110179.690761      покупка коммерческой недвижимости  \n",
       "10697  162401.351555                        сыграть свадьбу  \n",
       "10864  110179.690761                           ремонт жилью  \n",
       "10994  110179.690761                           ремонт жилью  \n",
       "11791  133546.457238             строительство недвижимости  \n",
       "12373  133546.457238                   покупка недвижимости  \n",
       "12375  133546.457238                   покупка недвижимости  \n",
       "12736  110179.690761                  заняться образованием  \n",
       "13025  133546.457238       сделка с подержанным автомобилем  \n",
       "13639  110179.690761                             автомобиль  \n",
       "13773  133546.457238                        сыграть свадьбу  \n",
       "13878  162401.351555                          покупка жилья  \n",
       "13942  133546.457238                приобретение автомобиля  \n",
       "14432  139034.452386                  получение образования  \n",
       "14832  133546.457238                           недвижимость  \n",
       "15091  133546.457238                  на проведение свадьбы  \n",
       "15188  133546.457238                   покупка недвижимости  \n",
       "15273  110179.690761                                свадьба  \n",
       "16176  133546.457238                           ремонт жилью  \n",
       "16378  133546.457238                     высшее образование  \n",
       "16902  133546.457238                        сыграть свадьбу  \n",
       "16904  133546.457238     на покупку подержанного автомобиля  \n",
       "17379  162401.351555  операции с коммерческой недвижимостью  \n",
       "17755  133546.457238                  заняться образованием  \n",
       "17774  162401.351555       строительство жилой недвижимости  \n",
       "18328  133546.457238             покупка жилой недвижимости  \n",
       "18349  139034.452386                покупка жилья для семьи  \n",
       "18428  110179.690761                                  жилье  \n",
       "18521  133546.457238                        сыграть свадьбу  \n",
       "18563  133546.457238        операции со своей недвижимостью  \n",
       "18755  110179.690761                  заняться образованием  \n",
       "19041  133546.457238                  на проведение свадьбы  \n",
       "19184  133546.457238                        свой автомобиль  \n",
       "19321  133546.457238       сделка с подержанным автомобилем  \n",
       "19387  162401.351555                  на проведение свадьбы  \n",
       "19688  110179.690761               операции с недвижимостью  \n",
       "19832  133546.457238                           ремонт жилью  \n",
       "19946  133546.457238       сделка с подержанным автомобилем  \n",
       "20116  110179.690761                                свадьба  \n",
       "20165  133546.457238                покупка жилья для семьи  \n",
       "20702  110179.690761             дополнительное образование  \n",
       "21032  110179.690761                  заняться образованием  \n",
       "21132  133546.457238                           ремонт жилью  \n",
       "21281  133546.457238      покупка коммерческой недвижимости  \n",
       "21415  110179.690761                      операции с жильем  "
      ]
     },
     "execution_count": 76,
     "metadata": {},
     "output_type": "execute_result"
    }
   ],
   "source": [
    "# Просмотр датафрейма с явными дубликатами\n",
    "df[df.duplicated()]"
   ]
  },
  {
   "cell_type": "code",
   "execution_count": 77,
   "id": "133dc8e0",
   "metadata": {},
   "outputs": [
    {
     "data": {
      "text/plain": [
       " 0     14149\n",
       " 1      4818\n",
       " 2      2055\n",
       " 3       330\n",
       " 20       76\n",
       "-1        47\n",
       " 4        41\n",
       " 5         9\n",
       "Name: children, dtype: int64"
      ]
     },
     "execution_count": 77,
     "metadata": {},
     "output_type": "execute_result"
    }
   ],
   "source": [
    "# Поиск неявных дубликатов в 'children'\n",
    "df['children'].value_counts()"
   ]
  },
  {
   "cell_type": "code",
   "execution_count": 78,
   "id": "dfebde22",
   "metadata": {},
   "outputs": [
    {
     "data": {
      "text/plain": [
       "count     21525.000000\n",
       "mean      63478.813196\n",
       "std      140950.114760\n",
       "min      -18388.949901\n",
       "25%       -2518.168900\n",
       "50%       -1311.128244\n",
       "75%        -316.061820\n",
       "max      401755.400475\n",
       "Name: days_employed, dtype: float64"
      ]
     },
     "execution_count": 78,
     "metadata": {},
     "output_type": "execute_result"
    }
   ],
   "source": [
    "# Вывод списка характерных значений в столбце 'days_employed'\n",
    "df['days_employed'].describe()"
   ]
  },
  {
   "cell_type": "code",
   "execution_count": 79,
   "id": "da24c7b8",
   "metadata": {},
   "outputs": [
    {
     "data": {
      "text/plain": [
       "count    21525.000000\n",
       "mean        43.293380\n",
       "std         12.574584\n",
       "min          0.000000\n",
       "25%         33.000000\n",
       "50%         42.000000\n",
       "75%         53.000000\n",
       "max         75.000000\n",
       "Name: dob_years, dtype: float64"
      ]
     },
     "execution_count": 79,
     "metadata": {},
     "output_type": "execute_result"
    }
   ],
   "source": [
    "# Вывод списка характерных значений в столбце 'dob_years'\n",
    "df['dob_years'].describe()"
   ]
  },
  {
   "cell_type": "code",
   "execution_count": 80,
   "id": "b087b42f",
   "metadata": {},
   "outputs": [
    {
     "data": {
      "text/html": [
       "<div>\n",
       "<style scoped>\n",
       "    .dataframe tbody tr th:only-of-type {\n",
       "        vertical-align: middle;\n",
       "    }\n",
       "\n",
       "    .dataframe tbody tr th {\n",
       "        vertical-align: top;\n",
       "    }\n",
       "\n",
       "    .dataframe thead th {\n",
       "        text-align: right;\n",
       "    }\n",
       "</style>\n",
       "<table border=\"1\" class=\"dataframe\">\n",
       "  <thead>\n",
       "    <tr style=\"text-align: right;\">\n",
       "      <th></th>\n",
       "      <th>children</th>\n",
       "      <th>days_employed</th>\n",
       "      <th>dob_years</th>\n",
       "      <th>education</th>\n",
       "      <th>education_id</th>\n",
       "      <th>family_status</th>\n",
       "      <th>family_status_id</th>\n",
       "      <th>gender</th>\n",
       "      <th>income_type</th>\n",
       "      <th>debt</th>\n",
       "      <th>total_income</th>\n",
       "      <th>purpose</th>\n",
       "    </tr>\n",
       "  </thead>\n",
       "  <tbody>\n",
       "    <tr>\n",
       "      <th>99</th>\n",
       "      <td>0</td>\n",
       "      <td>346541.618895</td>\n",
       "      <td>0</td>\n",
       "      <td>Среднее</td>\n",
       "      <td>1</td>\n",
       "      <td>женат / замужем</td>\n",
       "      <td>0</td>\n",
       "      <td>F</td>\n",
       "      <td>пенсионер</td>\n",
       "      <td>0</td>\n",
       "      <td>71291.522491</td>\n",
       "      <td>автомобиль</td>\n",
       "    </tr>\n",
       "    <tr>\n",
       "      <th>149</th>\n",
       "      <td>0</td>\n",
       "      <td>-2664.273168</td>\n",
       "      <td>0</td>\n",
       "      <td>среднее</td>\n",
       "      <td>1</td>\n",
       "      <td>в разводе</td>\n",
       "      <td>3</td>\n",
       "      <td>F</td>\n",
       "      <td>сотрудник</td>\n",
       "      <td>0</td>\n",
       "      <td>70176.435951</td>\n",
       "      <td>операции с жильем</td>\n",
       "    </tr>\n",
       "    <tr>\n",
       "      <th>270</th>\n",
       "      <td>3</td>\n",
       "      <td>-1872.663186</td>\n",
       "      <td>0</td>\n",
       "      <td>среднее</td>\n",
       "      <td>1</td>\n",
       "      <td>женат / замужем</td>\n",
       "      <td>0</td>\n",
       "      <td>F</td>\n",
       "      <td>сотрудник</td>\n",
       "      <td>0</td>\n",
       "      <td>102166.458894</td>\n",
       "      <td>ремонт жилью</td>\n",
       "    </tr>\n",
       "    <tr>\n",
       "      <th>578</th>\n",
       "      <td>0</td>\n",
       "      <td>397856.565013</td>\n",
       "      <td>0</td>\n",
       "      <td>среднее</td>\n",
       "      <td>1</td>\n",
       "      <td>женат / замужем</td>\n",
       "      <td>0</td>\n",
       "      <td>F</td>\n",
       "      <td>пенсионер</td>\n",
       "      <td>0</td>\n",
       "      <td>97620.687042</td>\n",
       "      <td>строительство собственной недвижимости</td>\n",
       "    </tr>\n",
       "    <tr>\n",
       "      <th>1040</th>\n",
       "      <td>0</td>\n",
       "      <td>-1158.029561</td>\n",
       "      <td>0</td>\n",
       "      <td>высшее</td>\n",
       "      <td>0</td>\n",
       "      <td>в разводе</td>\n",
       "      <td>3</td>\n",
       "      <td>F</td>\n",
       "      <td>компаньон</td>\n",
       "      <td>0</td>\n",
       "      <td>303994.134987</td>\n",
       "      <td>свой автомобиль</td>\n",
       "    </tr>\n",
       "    <tr>\n",
       "      <th>...</th>\n",
       "      <td>...</td>\n",
       "      <td>...</td>\n",
       "      <td>...</td>\n",
       "      <td>...</td>\n",
       "      <td>...</td>\n",
       "      <td>...</td>\n",
       "      <td>...</td>\n",
       "      <td>...</td>\n",
       "      <td>...</td>\n",
       "      <td>...</td>\n",
       "      <td>...</td>\n",
       "      <td>...</td>\n",
       "    </tr>\n",
       "    <tr>\n",
       "      <th>19829</th>\n",
       "      <td>0</td>\n",
       "      <td>-1360.363902</td>\n",
       "      <td>0</td>\n",
       "      <td>среднее</td>\n",
       "      <td>1</td>\n",
       "      <td>женат / замужем</td>\n",
       "      <td>0</td>\n",
       "      <td>F</td>\n",
       "      <td>сотрудник</td>\n",
       "      <td>0</td>\n",
       "      <td>133546.457238</td>\n",
       "      <td>жилье</td>\n",
       "    </tr>\n",
       "    <tr>\n",
       "      <th>20462</th>\n",
       "      <td>0</td>\n",
       "      <td>338734.868540</td>\n",
       "      <td>0</td>\n",
       "      <td>среднее</td>\n",
       "      <td>1</td>\n",
       "      <td>женат / замужем</td>\n",
       "      <td>0</td>\n",
       "      <td>F</td>\n",
       "      <td>пенсионер</td>\n",
       "      <td>0</td>\n",
       "      <td>259193.920299</td>\n",
       "      <td>покупка своего жилья</td>\n",
       "    </tr>\n",
       "    <tr>\n",
       "      <th>20577</th>\n",
       "      <td>0</td>\n",
       "      <td>331741.271455</td>\n",
       "      <td>0</td>\n",
       "      <td>среднее</td>\n",
       "      <td>1</td>\n",
       "      <td>Не женат / не замужем</td>\n",
       "      <td>4</td>\n",
       "      <td>F</td>\n",
       "      <td>пенсионер</td>\n",
       "      <td>0</td>\n",
       "      <td>129788.762899</td>\n",
       "      <td>недвижимость</td>\n",
       "    </tr>\n",
       "    <tr>\n",
       "      <th>21179</th>\n",
       "      <td>2</td>\n",
       "      <td>-108.967042</td>\n",
       "      <td>0</td>\n",
       "      <td>высшее</td>\n",
       "      <td>0</td>\n",
       "      <td>женат / замужем</td>\n",
       "      <td>0</td>\n",
       "      <td>M</td>\n",
       "      <td>компаньон</td>\n",
       "      <td>0</td>\n",
       "      <td>240702.007382</td>\n",
       "      <td>строительство жилой недвижимости</td>\n",
       "    </tr>\n",
       "    <tr>\n",
       "      <th>21313</th>\n",
       "      <td>0</td>\n",
       "      <td>-1268.487728</td>\n",
       "      <td>0</td>\n",
       "      <td>среднее</td>\n",
       "      <td>1</td>\n",
       "      <td>Не женат / не замужем</td>\n",
       "      <td>4</td>\n",
       "      <td>M</td>\n",
       "      <td>сотрудник</td>\n",
       "      <td>0</td>\n",
       "      <td>152419.184851</td>\n",
       "      <td>операции с жильем</td>\n",
       "    </tr>\n",
       "  </tbody>\n",
       "</table>\n",
       "<p>101 rows × 12 columns</p>\n",
       "</div>"
      ],
      "text/plain": [
       "       children  days_employed  dob_years education  education_id  \\\n",
       "99            0  346541.618895          0   Среднее             1   \n",
       "149           0   -2664.273168          0   среднее             1   \n",
       "270           3   -1872.663186          0   среднее             1   \n",
       "578           0  397856.565013          0   среднее             1   \n",
       "1040          0   -1158.029561          0    высшее             0   \n",
       "...         ...            ...        ...       ...           ...   \n",
       "19829         0   -1360.363902          0   среднее             1   \n",
       "20462         0  338734.868540          0   среднее             1   \n",
       "20577         0  331741.271455          0   среднее             1   \n",
       "21179         2    -108.967042          0    высшее             0   \n",
       "21313         0   -1268.487728          0   среднее             1   \n",
       "\n",
       "               family_status  family_status_id gender income_type  debt  \\\n",
       "99           женат / замужем                 0      F   пенсионер     0   \n",
       "149                в разводе                 3      F   сотрудник     0   \n",
       "270          женат / замужем                 0      F   сотрудник     0   \n",
       "578          женат / замужем                 0      F   пенсионер     0   \n",
       "1040               в разводе                 3      F   компаньон     0   \n",
       "...                      ...               ...    ...         ...   ...   \n",
       "19829        женат / замужем                 0      F   сотрудник     0   \n",
       "20462        женат / замужем                 0      F   пенсионер     0   \n",
       "20577  Не женат / не замужем                 4      F   пенсионер     0   \n",
       "21179        женат / замужем                 0      M   компаньон     0   \n",
       "21313  Не женат / не замужем                 4      M   сотрудник     0   \n",
       "\n",
       "        total_income                                 purpose  \n",
       "99      71291.522491                              автомобиль  \n",
       "149     70176.435951                       операции с жильем  \n",
       "270    102166.458894                            ремонт жилью  \n",
       "578     97620.687042  строительство собственной недвижимости  \n",
       "1040   303994.134987                         свой автомобиль  \n",
       "...              ...                                     ...  \n",
       "19829  133546.457238                                   жилье  \n",
       "20462  259193.920299                    покупка своего жилья  \n",
       "20577  129788.762899                            недвижимость  \n",
       "21179  240702.007382        строительство жилой недвижимости  \n",
       "21313  152419.184851                       операции с жильем  \n",
       "\n",
       "[101 rows x 12 columns]"
      ]
     },
     "execution_count": 80,
     "metadata": {},
     "output_type": "execute_result"
    }
   ],
   "source": [
    "# Просмотр датафрейма с нулевым значением в 'dob_years'\n",
    "df[df['dob_years'] == 0]"
   ]
  },
  {
   "cell_type": "code",
   "execution_count": 81,
   "id": "da357f91",
   "metadata": {},
   "outputs": [
    {
     "data": {
      "text/plain": [
       "среднее                13750\n",
       "высшее                  4718\n",
       "СРЕДНЕЕ                  772\n",
       "Среднее                  711\n",
       "неоконченное высшее      668\n",
       "ВЫСШЕЕ                   274\n",
       "Высшее                   268\n",
       "начальное                250\n",
       "Неоконченное высшее       47\n",
       "НЕОКОНЧЕННОЕ ВЫСШЕЕ       29\n",
       "НАЧАЛЬНОЕ                 17\n",
       "Начальное                 15\n",
       "ученая степень             4\n",
       "Ученая степень             1\n",
       "УЧЕНАЯ СТЕПЕНЬ             1\n",
       "Name: education, dtype: int64"
      ]
     },
     "execution_count": 81,
     "metadata": {},
     "output_type": "execute_result"
    }
   ],
   "source": [
    "# Поиск неявных дубликатов в 'education'\n",
    "df['education'].value_counts()"
   ]
  },
  {
   "cell_type": "code",
   "execution_count": 82,
   "id": "d3061eef",
   "metadata": {},
   "outputs": [
    {
     "data": {
      "text/plain": [
       "женат / замужем          12380\n",
       "гражданский брак          4177\n",
       "Не женат / не замужем     2813\n",
       "в разводе                 1195\n",
       "вдовец / вдова             960\n",
       "Name: family_status, dtype: int64"
      ]
     },
     "execution_count": 82,
     "metadata": {},
     "output_type": "execute_result"
    }
   ],
   "source": [
    "# Поиск неявных дубликатов в 'family_status'\n",
    "df['family_status'].value_counts()"
   ]
  },
  {
   "cell_type": "code",
   "execution_count": 83,
   "id": "5c0b05d2",
   "metadata": {
    "scrolled": true
   },
   "outputs": [
    {
     "data": {
      "text/plain": [
       "F      14236\n",
       "M       7288\n",
       "XNA        1\n",
       "Name: gender, dtype: int64"
      ]
     },
     "execution_count": 83,
     "metadata": {},
     "output_type": "execute_result"
    }
   ],
   "source": [
    "# Поиск неявных дубликатов в 'gender'\n",
    "df['gender'].value_counts()"
   ]
  },
  {
   "cell_type": "code",
   "execution_count": 84,
   "id": "e9391c27",
   "metadata": {},
   "outputs": [
    {
     "data": {
      "text/html": [
       "<div>\n",
       "<style scoped>\n",
       "    .dataframe tbody tr th:only-of-type {\n",
       "        vertical-align: middle;\n",
       "    }\n",
       "\n",
       "    .dataframe tbody tr th {\n",
       "        vertical-align: top;\n",
       "    }\n",
       "\n",
       "    .dataframe thead th {\n",
       "        text-align: right;\n",
       "    }\n",
       "</style>\n",
       "<table border=\"1\" class=\"dataframe\">\n",
       "  <thead>\n",
       "    <tr style=\"text-align: right;\">\n",
       "      <th></th>\n",
       "      <th>children</th>\n",
       "      <th>days_employed</th>\n",
       "      <th>dob_years</th>\n",
       "      <th>education</th>\n",
       "      <th>education_id</th>\n",
       "      <th>family_status</th>\n",
       "      <th>family_status_id</th>\n",
       "      <th>gender</th>\n",
       "      <th>income_type</th>\n",
       "      <th>debt</th>\n",
       "      <th>total_income</th>\n",
       "      <th>purpose</th>\n",
       "    </tr>\n",
       "  </thead>\n",
       "  <tbody>\n",
       "    <tr>\n",
       "      <th>10701</th>\n",
       "      <td>0</td>\n",
       "      <td>-2358.600502</td>\n",
       "      <td>24</td>\n",
       "      <td>неоконченное высшее</td>\n",
       "      <td>2</td>\n",
       "      <td>гражданский брак</td>\n",
       "      <td>1</td>\n",
       "      <td>XNA</td>\n",
       "      <td>компаньон</td>\n",
       "      <td>0</td>\n",
       "      <td>203905.157261</td>\n",
       "      <td>покупка недвижимости</td>\n",
       "    </tr>\n",
       "  </tbody>\n",
       "</table>\n",
       "</div>"
      ],
      "text/plain": [
       "       children  days_employed  dob_years            education  education_id  \\\n",
       "10701         0   -2358.600502         24  неоконченное высшее             2   \n",
       "\n",
       "          family_status  family_status_id gender income_type  debt  \\\n",
       "10701  гражданский брак                 1    XNA   компаньон     0   \n",
       "\n",
       "        total_income               purpose  \n",
       "10701  203905.157261  покупка недвижимости  "
      ]
     },
     "execution_count": 84,
     "metadata": {},
     "output_type": "execute_result"
    }
   ],
   "source": [
    "# Вывод строки со значением 'XNA' в 'gender'\n",
    "df[df['gender'] == 'XNA']"
   ]
  },
  {
   "cell_type": "code",
   "execution_count": 85,
   "id": "7b2ed2d7",
   "metadata": {},
   "outputs": [
    {
     "data": {
      "text/plain": [
       "array([0, 1], dtype=int64)"
      ]
     },
     "execution_count": 85,
     "metadata": {},
     "output_type": "execute_result"
    }
   ],
   "source": [
    "# Поиск неявных дубликатов в 'debt'\n",
    "df['debt'].unique()"
   ]
  },
  {
   "cell_type": "code",
   "execution_count": 86,
   "id": "60e57c63",
   "metadata": {},
   "outputs": [
    {
     "data": {
      "text/plain": [
       "count    2.152500e+04\n",
       "mean     1.642764e+05\n",
       "std      9.823691e+04\n",
       "min      2.066726e+04\n",
       "25%      1.077982e+05\n",
       "50%      1.398982e+05\n",
       "75%      1.955499e+05\n",
       "max      2.265604e+06\n",
       "Name: total_income, dtype: float64"
      ]
     },
     "execution_count": 86,
     "metadata": {},
     "output_type": "execute_result"
    }
   ],
   "source": [
    "# Вывод списка характерных значений в столбце 'total_income'\n",
    "df['total_income'].describe()"
   ]
  },
  {
   "cell_type": "code",
   "execution_count": 87,
   "id": "15fb2e67",
   "metadata": {
    "scrolled": true
   },
   "outputs": [
    {
     "data": {
      "text/plain": [
       "свадьба                                   797\n",
       "на проведение свадьбы                     777\n",
       "сыграть свадьбу                           774\n",
       "операции с недвижимостью                  676\n",
       "покупка коммерческой недвижимости         664\n",
       "покупка жилья для сдачи                   653\n",
       "операции с жильем                         653\n",
       "операции с коммерческой недвижимостью     651\n",
       "покупка жилья                             647\n",
       "жилье                                     647\n",
       "покупка жилья для семьи                   641\n",
       "строительство собственной недвижимости    635\n",
       "недвижимость                              634\n",
       "операции со своей недвижимостью           630\n",
       "строительство жилой недвижимости          626\n",
       "покупка недвижимости                      624\n",
       "строительство недвижимости                620\n",
       "покупка своего жилья                      620\n",
       "ремонт жилью                              612\n",
       "покупка жилой недвижимости                607\n",
       "на покупку своего автомобиля              505\n",
       "заняться высшим образованием              496\n",
       "автомобиль                                495\n",
       "сделка с подержанным автомобилем          489\n",
       "свой автомобиль                           480\n",
       "на покупку подержанного автомобиля        479\n",
       "автомобили                                478\n",
       "на покупку автомобиля                     472\n",
       "дополнительное образование                462\n",
       "приобретение автомобиля                   462\n",
       "сделка с автомобилем                      455\n",
       "высшее образование                        453\n",
       "образование                               447\n",
       "получение дополнительного образования     447\n",
       "получение образования                     443\n",
       "профильное образование                    436\n",
       "получение высшего образования             426\n",
       "заняться образованием                     412\n",
       "Name: purpose, dtype: int64"
      ]
     },
     "execution_count": 87,
     "metadata": {},
     "output_type": "execute_result"
    }
   ],
   "source": [
    "# Поиск неявных дубликатов в 'purpose'\n",
    "df['purpose'].value_counts()"
   ]
  },
  {
   "cell_type": "markdown",
   "id": "ed42ffba",
   "metadata": {},
   "source": [
    "<div class=\"alert alert-block alert-warning\">\n",
    "\n",
    "<span style=\"color:green\"><font size=\"3\"><b>Промежуточные выводы 2:</b></span>\n",
    "\n",
    "<span style=\"color:steelblue\"><font size=\"2\"><b>1. Функция 'without_nan()' заполнила пропуски медианными значениями.\\\n",
    "    2. Выявлено 54 явных дубликата методом '.duplicated()'.\\\n",
    "    3.1. В колонке 'children' обнаружено отрицательное значение -1.\\\n",
    "    Количество детей не может быть меньше 0. Возможно при внесении анкетных данных была допущена ошибка в виде знака '-' перед цифрой 1. Так как количество таких значений 47 и составляет малую часть, то в рамках проекта -1 заменяю на 1.\\\n",
    "    3.2. Также вызывает сомнение количество детей 20. Возможно случайно набрали либо 0, либо 2. Так как цифра положительная, а в России/мире существуют многодетные семьи, то в рамках проекта оставляю данное значение.\\\n",
    "    3.3. Данные необходимо уточнить у заказчика.\\\n",
    "    4.1. В колонке 'days_employed' числа представлены с отрицательным значением. Исключение составляют значения для пенсионеров - числа положительные и аномально большие.\\\n",
    "    Медиана для колонки с положительными и отрицательными значениями будет некорректной.\\\n",
    "    4.2. Появление отрицательных значений возможно связано с методикой расчёта стажа - в системе unix time от колонки с меньшим числом (дата/возраст начала трудового стажа) отнимают колонку с большим числом (дата/возраст на момент подачи заявления на получение кредита).\\\n",
    "    4.3. Появление положительных и аномально больших значений трудового стажа для пенсионеров возможно связано с иным методом расчёта в банковской системе.\\\n",
    "    4.4. Возможно произошёл технический сбой. Данные лучше уточнить у заказчика.\\\n",
    "    Так как общий трудовой стаж в колонке 'days_employed' не влияет на выполнение поставленных задач, данную колонку заполнил медианным значением.\\\n",
    "    Необходимо заменить отрицательные значения на положительные.\\\n",
    "    5. Колонка 'dob_years' содержит 101 строку с нулевым значением. Возраст не может равняться нулю.\\\n",
    "    6. В колонках 'education' и 'family_status' содержатся неявные дубликаты, имеющие написание с одинаковым значением, но в разных регистрах.\\\n",
    "    Возможен человеческий фактор при внесении данных в базу с использованием клавиш 'Shift' и 'Caps Lock'.\\\n",
    "    Необходимо привести все значения к единому регистру.\\\n",
    "    7. Колонка 'gender' содержит одну строку со странным пропуском 'XNA'.\\\n",
    "    Так как значение единичное, то можем не принимать во внимание.\\\n",
    "    8. Колонка 'debt' принимает два значения: 0 и 1.\\\n",
    "    9. Колонка 'purpose' содержит неявные дубликаты с одинаковым смыслом, которые необходимо удалить.\\\n",
    "    Причиной появления дубликатов возможно является отсутствие конкретного перечня для выбора целевых займов при заполнении анкеты.</b></span></div>"
   ]
  },
  {
   "cell_type": "markdown",
   "id": "f7f982e4",
   "metadata": {},
   "source": [
    "## Изменение аномалий и типов данных"
   ]
  },
  {
   "cell_type": "code",
   "execution_count": 88,
   "id": "30b7d052",
   "metadata": {},
   "outputs": [],
   "source": [
    "# Изменение отрицательных значений в 'days_employed' на\n",
    "# положительные в соответствии с источником дохода в 'income_type'\n",
    "# Создание функции для замены отрицательных значений положительными:\n",
    "# 1. Объявление функции drop_minus()\n",
    "def drop_minus(columns):\n",
    "    # 2. Вложенный цикл для перебора названий\n",
    "    # колонок из списка drop_minus_columns\n",
    "    for value in columns:\n",
    "        # 2.1. Замена отрицательных значений в колонках положительными\n",
    "        df.loc[df[value] < 0, value] = df[value] * -1\n",
    "    display(df.head())"
   ]
  },
  {
   "cell_type": "code",
   "execution_count": 89,
   "id": "8d44e90a",
   "metadata": {},
   "outputs": [],
   "source": [
    "# Список колонок с отрицательными значениями\n",
    "drop_minus_columns = ['days_employed']"
   ]
  },
  {
   "cell_type": "code",
   "execution_count": 90,
   "id": "f9d12b10",
   "metadata": {},
   "outputs": [
    {
     "data": {
      "text/html": [
       "<div>\n",
       "<style scoped>\n",
       "    .dataframe tbody tr th:only-of-type {\n",
       "        vertical-align: middle;\n",
       "    }\n",
       "\n",
       "    .dataframe tbody tr th {\n",
       "        vertical-align: top;\n",
       "    }\n",
       "\n",
       "    .dataframe thead th {\n",
       "        text-align: right;\n",
       "    }\n",
       "</style>\n",
       "<table border=\"1\" class=\"dataframe\">\n",
       "  <thead>\n",
       "    <tr style=\"text-align: right;\">\n",
       "      <th></th>\n",
       "      <th>children</th>\n",
       "      <th>days_employed</th>\n",
       "      <th>dob_years</th>\n",
       "      <th>education</th>\n",
       "      <th>education_id</th>\n",
       "      <th>family_status</th>\n",
       "      <th>family_status_id</th>\n",
       "      <th>gender</th>\n",
       "      <th>income_type</th>\n",
       "      <th>debt</th>\n",
       "      <th>total_income</th>\n",
       "      <th>purpose</th>\n",
       "    </tr>\n",
       "  </thead>\n",
       "  <tbody>\n",
       "    <tr>\n",
       "      <th>0</th>\n",
       "      <td>1</td>\n",
       "      <td>8437.673028</td>\n",
       "      <td>42</td>\n",
       "      <td>высшее</td>\n",
       "      <td>0</td>\n",
       "      <td>женат / замужем</td>\n",
       "      <td>0</td>\n",
       "      <td>F</td>\n",
       "      <td>сотрудник</td>\n",
       "      <td>0</td>\n",
       "      <td>253875.639453</td>\n",
       "      <td>покупка жилья</td>\n",
       "    </tr>\n",
       "    <tr>\n",
       "      <th>1</th>\n",
       "      <td>1</td>\n",
       "      <td>4024.803754</td>\n",
       "      <td>36</td>\n",
       "      <td>среднее</td>\n",
       "      <td>1</td>\n",
       "      <td>женат / замужем</td>\n",
       "      <td>0</td>\n",
       "      <td>F</td>\n",
       "      <td>сотрудник</td>\n",
       "      <td>0</td>\n",
       "      <td>112080.014102</td>\n",
       "      <td>приобретение автомобиля</td>\n",
       "    </tr>\n",
       "    <tr>\n",
       "      <th>2</th>\n",
       "      <td>0</td>\n",
       "      <td>5623.422610</td>\n",
       "      <td>33</td>\n",
       "      <td>Среднее</td>\n",
       "      <td>1</td>\n",
       "      <td>женат / замужем</td>\n",
       "      <td>0</td>\n",
       "      <td>M</td>\n",
       "      <td>сотрудник</td>\n",
       "      <td>0</td>\n",
       "      <td>145885.952297</td>\n",
       "      <td>покупка жилья</td>\n",
       "    </tr>\n",
       "    <tr>\n",
       "      <th>3</th>\n",
       "      <td>3</td>\n",
       "      <td>4124.747207</td>\n",
       "      <td>32</td>\n",
       "      <td>среднее</td>\n",
       "      <td>1</td>\n",
       "      <td>женат / замужем</td>\n",
       "      <td>0</td>\n",
       "      <td>M</td>\n",
       "      <td>сотрудник</td>\n",
       "      <td>0</td>\n",
       "      <td>267628.550329</td>\n",
       "      <td>дополнительное образование</td>\n",
       "    </tr>\n",
       "    <tr>\n",
       "      <th>4</th>\n",
       "      <td>0</td>\n",
       "      <td>340266.072047</td>\n",
       "      <td>53</td>\n",
       "      <td>среднее</td>\n",
       "      <td>1</td>\n",
       "      <td>гражданский брак</td>\n",
       "      <td>1</td>\n",
       "      <td>F</td>\n",
       "      <td>пенсионер</td>\n",
       "      <td>0</td>\n",
       "      <td>158616.077870</td>\n",
       "      <td>сыграть свадьбу</td>\n",
       "    </tr>\n",
       "  </tbody>\n",
       "</table>\n",
       "</div>"
      ],
      "text/plain": [
       "   children  days_employed  dob_years education  education_id  \\\n",
       "0         1    8437.673028         42    высшее             0   \n",
       "1         1    4024.803754         36   среднее             1   \n",
       "2         0    5623.422610         33   Среднее             1   \n",
       "3         3    4124.747207         32   среднее             1   \n",
       "4         0  340266.072047         53   среднее             1   \n",
       "\n",
       "      family_status  family_status_id gender income_type  debt   total_income  \\\n",
       "0   женат / замужем                 0      F   сотрудник     0  253875.639453   \n",
       "1   женат / замужем                 0      F   сотрудник     0  112080.014102   \n",
       "2   женат / замужем                 0      M   сотрудник     0  145885.952297   \n",
       "3   женат / замужем                 0      M   сотрудник     0  267628.550329   \n",
       "4  гражданский брак                 1      F   пенсионер     0  158616.077870   \n",
       "\n",
       "                      purpose  \n",
       "0               покупка жилья  \n",
       "1     приобретение автомобиля  \n",
       "2               покупка жилья  \n",
       "3  дополнительное образование  \n",
       "4             сыграть свадьбу  "
      ]
     },
     "metadata": {},
     "output_type": "display_data"
    }
   ],
   "source": [
    "# Применение функции drop_minus() к списку drop_minus_columns для\n",
    "# получения положительных значений с обработкой ошибок try-except\n",
    "try:\n",
    "    drop_minus(drop_minus_columns)\n",
    "except:\n",
    "    print('Проверь алгоритм работы функции \"drop_minus()\"!')"
   ]
  },
  {
   "cell_type": "code",
   "execution_count": 91,
   "id": "edcfdfe2",
   "metadata": {},
   "outputs": [],
   "source": [
    "# Замена нулевых значений в 'dob_years' средним значением \n",
    "# в соответствии с источником дохода в 'income_type'\n",
    "# Создание функции для замены нулевых значений средним значением:\n",
    "# 1. Объявление функции to_mean()\n",
    "def to_mean(columns):\n",
    "    # 2. Вложенный цикл для перебора названий\n",
    "    # колонок из списка dob_years_columns\n",
    "    for value in columns:\n",
    "        # 2.1. Создание списка уникальных видов дохода\n",
    "        income_type_list = df['income_type'].unique()\n",
    "        # 3. Вложенный цикл второго периода для перебора\n",
    "        # видов дохода из списка income_type_list\n",
    "        # и формирования датафреймов при соблюдении\n",
    "        # условий логической индексации с дальнейшим\n",
    "        # вычислением средних значений в необходимых\n",
    "        # столбцах value полученных датафреймов\n",
    "        for string in income_type_list:\n",
    "            # 3.1. Формирование датафреймов с помощью\n",
    "            # логической индексации по значению string\n",
    "            df_string = df[df['income_type'] == string]\n",
    "            # 3.2. Получение среднего значения столбца\n",
    "            # value в сформированном датафрейме\n",
    "            df_mean = df_string[value].mean()\n",
    "            # 3.3. Замена нулевых значений в колонках\n",
    "            # value полученными средними значениями\n",
    "            df.loc[(df[value] == 0) & (df['income_type'] == string), value] = df_mean\n",
    "    df[value] = df[value].astype('int64')\n",
    "    display(df[value].describe())"
   ]
  },
  {
   "cell_type": "code",
   "execution_count": 92,
   "id": "fc7084e0",
   "metadata": {},
   "outputs": [],
   "source": [
    "# Список колонок с нулевыми значениями возраста\n",
    "dob_years_columns = ['dob_years']"
   ]
  },
  {
   "cell_type": "code",
   "execution_count": 93,
   "id": "e10d91f5",
   "metadata": {},
   "outputs": [
    {
     "data": {
      "text/plain": [
       "count    21525.000000\n",
       "mean        43.495238\n",
       "std         12.230322\n",
       "min         19.000000\n",
       "25%         34.000000\n",
       "50%         43.000000\n",
       "75%         53.000000\n",
       "max         75.000000\n",
       "Name: dob_years, dtype: float64"
      ]
     },
     "metadata": {},
     "output_type": "display_data"
    }
   ],
   "source": [
    "# Применение функции to_mean() к списку dob_years_columns для\n",
    "# замены нулевых значений с обработкой ошибок try-except\n",
    "try:\n",
    "    to_mean(dob_years_columns)\n",
    "except:\n",
    "    print('Проверь алгоритм работы функции \"to_mean()\"!')"
   ]
  },
  {
   "cell_type": "code",
   "execution_count": 94,
   "id": "37bf3cb7",
   "metadata": {
    "scrolled": true
   },
   "outputs": [],
   "source": [
    "# Изменение типа данных с вщественного float64 на числовой int64 в\n",
    "# колонках 'days_employed' и 'total_income' внешним циклом для\n",
    "# перебора названий колонок из списка columns_list\n",
    "for value in columns_list:\n",
    "    df[value] = df[value].astype('int64')"
   ]
  },
  {
   "cell_type": "code",
   "execution_count": 95,
   "id": "98717d0d",
   "metadata": {},
   "outputs": [
    {
     "name": "stdout",
     "output_type": "stream",
     "text": [
      "<class 'pandas.core.frame.DataFrame'>\n",
      "RangeIndex: 21525 entries, 0 to 21524\n",
      "Data columns (total 12 columns):\n",
      " #   Column            Non-Null Count  Dtype \n",
      "---  ------            --------------  ----- \n",
      " 0   children          21525 non-null  int64 \n",
      " 1   days_employed     21525 non-null  int64 \n",
      " 2   dob_years         21525 non-null  int64 \n",
      " 3   education         21525 non-null  object\n",
      " 4   education_id      21525 non-null  int64 \n",
      " 5   family_status     21525 non-null  object\n",
      " 6   family_status_id  21525 non-null  int64 \n",
      " 7   gender            21525 non-null  object\n",
      " 8   income_type       21525 non-null  object\n",
      " 9   debt              21525 non-null  int64 \n",
      " 10  total_income      21525 non-null  int64 \n",
      " 11  purpose           21525 non-null  object\n",
      "dtypes: int64(7), object(5)\n",
      "memory usage: 2.0+ MB\n"
     ]
    }
   ],
   "source": [
    "# Вывод информации\n",
    "df.info()"
   ]
  },
  {
   "cell_type": "markdown",
   "id": "71869052",
   "metadata": {},
   "source": [
    "## Удаление дубликатов"
   ]
  },
  {
   "cell_type": "code",
   "execution_count": 96,
   "id": "db779bbc",
   "metadata": {},
   "outputs": [],
   "source": [
    "# Замена отрицательного количества детей в колонке 'children'\n",
    "# с помощью логической индексации\n",
    "df.loc[df['children'] == -1, 'children'] = 1"
   ]
  },
  {
   "cell_type": "code",
   "execution_count": 97,
   "id": "afe0e7a4",
   "metadata": {},
   "outputs": [
    {
     "data": {
      "text/plain": [
       "0     14149\n",
       "1      4865\n",
       "2      2055\n",
       "3       330\n",
       "20       76\n",
       "4        41\n",
       "5         9\n",
       "Name: children, dtype: int64"
      ]
     },
     "execution_count": 97,
     "metadata": {},
     "output_type": "execute_result"
    }
   ],
   "source": [
    "# Вывод списка неявных дубликатов для проверки\n",
    "df['children'].value_counts()"
   ]
  },
  {
   "cell_type": "code",
   "execution_count": 98,
   "id": "801f1e96",
   "metadata": {},
   "outputs": [
    {
     "data": {
      "text/plain": [
       "среднее                15233\n",
       "высшее                  5260\n",
       "неоконченное высшее      744\n",
       "начальное                282\n",
       "ученая степень             6\n",
       "Name: education, dtype: int64"
      ]
     },
     "metadata": {},
     "output_type": "display_data"
    },
    {
     "data": {
      "text/plain": [
       "женат / замужем          12380\n",
       "гражданский брак          4177\n",
       "не женат / не замужем     2813\n",
       "в разводе                 1195\n",
       "вдовец / вдова             960\n",
       "Name: family_status, dtype: int64"
      ]
     },
     "metadata": {},
     "output_type": "display_data"
    }
   ],
   "source": [
    "# Удаление неявных дубликатов в 'education' и 'family_status'\n",
    "# понижением регистра с использованием внешнего цикла и\n",
    "# выводом нового списка неявных дубликатов для проверки\n",
    "drop_unique_duplicates = ['education', 'family_status']\n",
    "for column in drop_unique_duplicates:\n",
    "    df[column] = df[column].str.lower()\n",
    "    display(df[column].value_counts())"
   ]
  },
  {
   "cell_type": "code",
   "execution_count": 99,
   "id": "5b14f9e3",
   "metadata": {
    "scrolled": true
   },
   "outputs": [],
   "source": [
    "# Удаление явных дубликатов с перезаписью индексации и выводом на экран\n",
    "df = df.drop_duplicates().reset_index(drop=True)"
   ]
  },
  {
   "cell_type": "code",
   "execution_count": 100,
   "id": "67748589",
   "metadata": {},
   "outputs": [
    {
     "data": {
      "text/html": [
       "<div>\n",
       "<style scoped>\n",
       "    .dataframe tbody tr th:only-of-type {\n",
       "        vertical-align: middle;\n",
       "    }\n",
       "\n",
       "    .dataframe tbody tr th {\n",
       "        vertical-align: top;\n",
       "    }\n",
       "\n",
       "    .dataframe thead th {\n",
       "        text-align: right;\n",
       "    }\n",
       "</style>\n",
       "<table border=\"1\" class=\"dataframe\">\n",
       "  <thead>\n",
       "    <tr style=\"text-align: right;\">\n",
       "      <th></th>\n",
       "      <th>children</th>\n",
       "      <th>days_employed</th>\n",
       "      <th>dob_years</th>\n",
       "      <th>education</th>\n",
       "      <th>education_id</th>\n",
       "      <th>family_status</th>\n",
       "      <th>family_status_id</th>\n",
       "      <th>gender</th>\n",
       "      <th>income_type</th>\n",
       "      <th>debt</th>\n",
       "      <th>total_income</th>\n",
       "      <th>purpose</th>\n",
       "    </tr>\n",
       "  </thead>\n",
       "  <tbody>\n",
       "    <tr>\n",
       "      <th>0</th>\n",
       "      <td>1</td>\n",
       "      <td>8437</td>\n",
       "      <td>42</td>\n",
       "      <td>высшее</td>\n",
       "      <td>0</td>\n",
       "      <td>женат / замужем</td>\n",
       "      <td>0</td>\n",
       "      <td>F</td>\n",
       "      <td>сотрудник</td>\n",
       "      <td>0</td>\n",
       "      <td>253875</td>\n",
       "      <td>покупка жилья</td>\n",
       "    </tr>\n",
       "    <tr>\n",
       "      <th>1</th>\n",
       "      <td>1</td>\n",
       "      <td>4024</td>\n",
       "      <td>36</td>\n",
       "      <td>среднее</td>\n",
       "      <td>1</td>\n",
       "      <td>женат / замужем</td>\n",
       "      <td>0</td>\n",
       "      <td>F</td>\n",
       "      <td>сотрудник</td>\n",
       "      <td>0</td>\n",
       "      <td>112080</td>\n",
       "      <td>приобретение автомобиля</td>\n",
       "    </tr>\n",
       "    <tr>\n",
       "      <th>2</th>\n",
       "      <td>0</td>\n",
       "      <td>5623</td>\n",
       "      <td>33</td>\n",
       "      <td>среднее</td>\n",
       "      <td>1</td>\n",
       "      <td>женат / замужем</td>\n",
       "      <td>0</td>\n",
       "      <td>M</td>\n",
       "      <td>сотрудник</td>\n",
       "      <td>0</td>\n",
       "      <td>145885</td>\n",
       "      <td>покупка жилья</td>\n",
       "    </tr>\n",
       "    <tr>\n",
       "      <th>3</th>\n",
       "      <td>3</td>\n",
       "      <td>4124</td>\n",
       "      <td>32</td>\n",
       "      <td>среднее</td>\n",
       "      <td>1</td>\n",
       "      <td>женат / замужем</td>\n",
       "      <td>0</td>\n",
       "      <td>M</td>\n",
       "      <td>сотрудник</td>\n",
       "      <td>0</td>\n",
       "      <td>267628</td>\n",
       "      <td>дополнительное образование</td>\n",
       "    </tr>\n",
       "    <tr>\n",
       "      <th>4</th>\n",
       "      <td>0</td>\n",
       "      <td>340266</td>\n",
       "      <td>53</td>\n",
       "      <td>среднее</td>\n",
       "      <td>1</td>\n",
       "      <td>гражданский брак</td>\n",
       "      <td>1</td>\n",
       "      <td>F</td>\n",
       "      <td>пенсионер</td>\n",
       "      <td>0</td>\n",
       "      <td>158616</td>\n",
       "      <td>сыграть свадьбу</td>\n",
       "    </tr>\n",
       "    <tr>\n",
       "      <th>...</th>\n",
       "      <td>...</td>\n",
       "      <td>...</td>\n",
       "      <td>...</td>\n",
       "      <td>...</td>\n",
       "      <td>...</td>\n",
       "      <td>...</td>\n",
       "      <td>...</td>\n",
       "      <td>...</td>\n",
       "      <td>...</td>\n",
       "      <td>...</td>\n",
       "      <td>...</td>\n",
       "      <td>...</td>\n",
       "    </tr>\n",
       "    <tr>\n",
       "      <th>21449</th>\n",
       "      <td>1</td>\n",
       "      <td>4529</td>\n",
       "      <td>43</td>\n",
       "      <td>среднее</td>\n",
       "      <td>1</td>\n",
       "      <td>гражданский брак</td>\n",
       "      <td>1</td>\n",
       "      <td>F</td>\n",
       "      <td>компаньон</td>\n",
       "      <td>0</td>\n",
       "      <td>224791</td>\n",
       "      <td>операции с жильем</td>\n",
       "    </tr>\n",
       "    <tr>\n",
       "      <th>21450</th>\n",
       "      <td>0</td>\n",
       "      <td>343937</td>\n",
       "      <td>67</td>\n",
       "      <td>среднее</td>\n",
       "      <td>1</td>\n",
       "      <td>женат / замужем</td>\n",
       "      <td>0</td>\n",
       "      <td>F</td>\n",
       "      <td>пенсионер</td>\n",
       "      <td>0</td>\n",
       "      <td>155999</td>\n",
       "      <td>сделка с автомобилем</td>\n",
       "    </tr>\n",
       "    <tr>\n",
       "      <th>21451</th>\n",
       "      <td>1</td>\n",
       "      <td>2113</td>\n",
       "      <td>38</td>\n",
       "      <td>среднее</td>\n",
       "      <td>1</td>\n",
       "      <td>гражданский брак</td>\n",
       "      <td>1</td>\n",
       "      <td>M</td>\n",
       "      <td>сотрудник</td>\n",
       "      <td>1</td>\n",
       "      <td>89672</td>\n",
       "      <td>недвижимость</td>\n",
       "    </tr>\n",
       "    <tr>\n",
       "      <th>21452</th>\n",
       "      <td>3</td>\n",
       "      <td>3112</td>\n",
       "      <td>38</td>\n",
       "      <td>среднее</td>\n",
       "      <td>1</td>\n",
       "      <td>женат / замужем</td>\n",
       "      <td>0</td>\n",
       "      <td>M</td>\n",
       "      <td>сотрудник</td>\n",
       "      <td>1</td>\n",
       "      <td>244093</td>\n",
       "      <td>на покупку своего автомобиля</td>\n",
       "    </tr>\n",
       "    <tr>\n",
       "      <th>21453</th>\n",
       "      <td>2</td>\n",
       "      <td>1984</td>\n",
       "      <td>40</td>\n",
       "      <td>среднее</td>\n",
       "      <td>1</td>\n",
       "      <td>женат / замужем</td>\n",
       "      <td>0</td>\n",
       "      <td>F</td>\n",
       "      <td>сотрудник</td>\n",
       "      <td>0</td>\n",
       "      <td>82047</td>\n",
       "      <td>на покупку автомобиля</td>\n",
       "    </tr>\n",
       "  </tbody>\n",
       "</table>\n",
       "<p>21454 rows × 12 columns</p>\n",
       "</div>"
      ],
      "text/plain": [
       "       children  days_employed  dob_years education  education_id  \\\n",
       "0             1           8437         42    высшее             0   \n",
       "1             1           4024         36   среднее             1   \n",
       "2             0           5623         33   среднее             1   \n",
       "3             3           4124         32   среднее             1   \n",
       "4             0         340266         53   среднее             1   \n",
       "...         ...            ...        ...       ...           ...   \n",
       "21449         1           4529         43   среднее             1   \n",
       "21450         0         343937         67   среднее             1   \n",
       "21451         1           2113         38   среднее             1   \n",
       "21452         3           3112         38   среднее             1   \n",
       "21453         2           1984         40   среднее             1   \n",
       "\n",
       "          family_status  family_status_id gender income_type  debt  \\\n",
       "0       женат / замужем                 0      F   сотрудник     0   \n",
       "1       женат / замужем                 0      F   сотрудник     0   \n",
       "2       женат / замужем                 0      M   сотрудник     0   \n",
       "3       женат / замужем                 0      M   сотрудник     0   \n",
       "4      гражданский брак                 1      F   пенсионер     0   \n",
       "...                 ...               ...    ...         ...   ...   \n",
       "21449  гражданский брак                 1      F   компаньон     0   \n",
       "21450   женат / замужем                 0      F   пенсионер     0   \n",
       "21451  гражданский брак                 1      M   сотрудник     1   \n",
       "21452   женат / замужем                 0      M   сотрудник     1   \n",
       "21453   женат / замужем                 0      F   сотрудник     0   \n",
       "\n",
       "       total_income                       purpose  \n",
       "0            253875                 покупка жилья  \n",
       "1            112080       приобретение автомобиля  \n",
       "2            145885                 покупка жилья  \n",
       "3            267628    дополнительное образование  \n",
       "4            158616               сыграть свадьбу  \n",
       "...             ...                           ...  \n",
       "21449        224791             операции с жильем  \n",
       "21450        155999          сделка с автомобилем  \n",
       "21451         89672                  недвижимость  \n",
       "21452        244093  на покупку своего автомобиля  \n",
       "21453         82047         на покупку автомобиля  \n",
       "\n",
       "[21454 rows x 12 columns]"
      ]
     },
     "execution_count": 100,
     "metadata": {},
     "output_type": "execute_result"
    }
   ],
   "source": [
    "# Вывод датафрейма после удаления явных дубликатов\n",
    "df"
   ]
  },
  {
   "cell_type": "markdown",
   "id": "ea6f5732",
   "metadata": {},
   "source": [
    "<div class=\"alert alert-block alert-warning\">\n",
    "\n",
    "<span style=\"color:green\"><font size=\"3\"><b>Промежуточные выводы 3:</b></span>\n",
    "\n",
    "<span style=\"color:steelblue\"><font size=\"2\"><b>После удаления неявных дубликатов в колонках 'education' и 'family_status' были удалены явные дубликаты, количество которых увеличилось до 71.</b></span></div>"
   ]
  },
  {
   "cell_type": "markdown",
   "id": "70817120",
   "metadata": {},
   "source": [
    "## Формирование дополнительных датафреймов словарей, декомпозиция исходного датафрейма"
   ]
  },
  {
   "cell_type": "code",
   "execution_count": 101,
   "id": "b86469b8",
   "metadata": {},
   "outputs": [],
   "source": [
    "# Создание нового датафрейма df_education из уникальных\n",
    "# значений с удалением дубликатов и сбросом индексации\n",
    "df_education = df.loc[:, ['education', 'education_id']].drop_duplicates().reset_index(drop=True)"
   ]
  },
  {
   "cell_type": "code",
   "execution_count": 102,
   "id": "de0c7c4a",
   "metadata": {},
   "outputs": [
    {
     "data": {
      "text/html": [
       "<div>\n",
       "<style scoped>\n",
       "    .dataframe tbody tr th:only-of-type {\n",
       "        vertical-align: middle;\n",
       "    }\n",
       "\n",
       "    .dataframe tbody tr th {\n",
       "        vertical-align: top;\n",
       "    }\n",
       "\n",
       "    .dataframe thead th {\n",
       "        text-align: right;\n",
       "    }\n",
       "</style>\n",
       "<table border=\"1\" class=\"dataframe\">\n",
       "  <thead>\n",
       "    <tr style=\"text-align: right;\">\n",
       "      <th></th>\n",
       "      <th>education</th>\n",
       "      <th>education_id</th>\n",
       "    </tr>\n",
       "  </thead>\n",
       "  <tbody>\n",
       "    <tr>\n",
       "      <th>0</th>\n",
       "      <td>высшее</td>\n",
       "      <td>0</td>\n",
       "    </tr>\n",
       "    <tr>\n",
       "      <th>1</th>\n",
       "      <td>среднее</td>\n",
       "      <td>1</td>\n",
       "    </tr>\n",
       "    <tr>\n",
       "      <th>2</th>\n",
       "      <td>неоконченное высшее</td>\n",
       "      <td>2</td>\n",
       "    </tr>\n",
       "    <tr>\n",
       "      <th>3</th>\n",
       "      <td>начальное</td>\n",
       "      <td>3</td>\n",
       "    </tr>\n",
       "    <tr>\n",
       "      <th>4</th>\n",
       "      <td>ученая степень</td>\n",
       "      <td>4</td>\n",
       "    </tr>\n",
       "  </tbody>\n",
       "</table>\n",
       "</div>"
      ],
      "text/plain": [
       "             education  education_id\n",
       "0               высшее             0\n",
       "1              среднее             1\n",
       "2  неоконченное высшее             2\n",
       "3            начальное             3\n",
       "4       ученая степень             4"
      ]
     },
     "execution_count": 102,
     "metadata": {},
     "output_type": "execute_result"
    }
   ],
   "source": [
    "# Вывод созданного датафрейма на экран\n",
    "df_education"
   ]
  },
  {
   "cell_type": "code",
   "execution_count": 103,
   "id": "634439b5",
   "metadata": {},
   "outputs": [],
   "source": [
    "# Создание нового датафрейма df_family_status из уникальных\n",
    "# значений с удалением дубликатов и сбросом индексации\n",
    "df_family_status = df.loc[:, ['family_status', 'family_status_id']].drop_duplicates().reset_index(drop=True)"
   ]
  },
  {
   "cell_type": "code",
   "execution_count": 104,
   "id": "9ed04f8f",
   "metadata": {},
   "outputs": [
    {
     "data": {
      "text/html": [
       "<div>\n",
       "<style scoped>\n",
       "    .dataframe tbody tr th:only-of-type {\n",
       "        vertical-align: middle;\n",
       "    }\n",
       "\n",
       "    .dataframe tbody tr th {\n",
       "        vertical-align: top;\n",
       "    }\n",
       "\n",
       "    .dataframe thead th {\n",
       "        text-align: right;\n",
       "    }\n",
       "</style>\n",
       "<table border=\"1\" class=\"dataframe\">\n",
       "  <thead>\n",
       "    <tr style=\"text-align: right;\">\n",
       "      <th></th>\n",
       "      <th>family_status</th>\n",
       "      <th>family_status_id</th>\n",
       "    </tr>\n",
       "  </thead>\n",
       "  <tbody>\n",
       "    <tr>\n",
       "      <th>0</th>\n",
       "      <td>женат / замужем</td>\n",
       "      <td>0</td>\n",
       "    </tr>\n",
       "    <tr>\n",
       "      <th>1</th>\n",
       "      <td>гражданский брак</td>\n",
       "      <td>1</td>\n",
       "    </tr>\n",
       "    <tr>\n",
       "      <th>2</th>\n",
       "      <td>вдовец / вдова</td>\n",
       "      <td>2</td>\n",
       "    </tr>\n",
       "    <tr>\n",
       "      <th>3</th>\n",
       "      <td>в разводе</td>\n",
       "      <td>3</td>\n",
       "    </tr>\n",
       "    <tr>\n",
       "      <th>4</th>\n",
       "      <td>не женат / не замужем</td>\n",
       "      <td>4</td>\n",
       "    </tr>\n",
       "  </tbody>\n",
       "</table>\n",
       "</div>"
      ],
      "text/plain": [
       "           family_status  family_status_id\n",
       "0        женат / замужем                 0\n",
       "1       гражданский брак                 1\n",
       "2         вдовец / вдова                 2\n",
       "3              в разводе                 3\n",
       "4  не женат / не замужем                 4"
      ]
     },
     "execution_count": 104,
     "metadata": {},
     "output_type": "execute_result"
    }
   ],
   "source": [
    "# Вывод созданного датафрейма на экран\n",
    "df_family_status"
   ]
  },
  {
   "cell_type": "code",
   "execution_count": 105,
   "id": "6b6dcf8f",
   "metadata": {
    "scrolled": false
   },
   "outputs": [],
   "source": [
    "# Декомпозиция исходного датафрейма удалением\n",
    "# колонок 'education' и 'family_status'\n",
    "df = df.loc[:, \n",
    "     ['children',\n",
    "      'days_employed',\n",
    "      'dob_years',\n",
    "      'education_id',\n",
    "      'family_status_id',\n",
    "      'gender',\n",
    "      'income_type',\n",
    "      'debt',\n",
    "      'total_income',\n",
    "      'purpose']\n",
    "]"
   ]
  },
  {
   "cell_type": "code",
   "execution_count": 106,
   "id": "5fa49cc5",
   "metadata": {},
   "outputs": [
    {
     "data": {
      "text/html": [
       "<div>\n",
       "<style scoped>\n",
       "    .dataframe tbody tr th:only-of-type {\n",
       "        vertical-align: middle;\n",
       "    }\n",
       "\n",
       "    .dataframe tbody tr th {\n",
       "        vertical-align: top;\n",
       "    }\n",
       "\n",
       "    .dataframe thead th {\n",
       "        text-align: right;\n",
       "    }\n",
       "</style>\n",
       "<table border=\"1\" class=\"dataframe\">\n",
       "  <thead>\n",
       "    <tr style=\"text-align: right;\">\n",
       "      <th></th>\n",
       "      <th>children</th>\n",
       "      <th>days_employed</th>\n",
       "      <th>dob_years</th>\n",
       "      <th>education_id</th>\n",
       "      <th>family_status_id</th>\n",
       "      <th>gender</th>\n",
       "      <th>income_type</th>\n",
       "      <th>debt</th>\n",
       "      <th>total_income</th>\n",
       "      <th>purpose</th>\n",
       "    </tr>\n",
       "  </thead>\n",
       "  <tbody>\n",
       "    <tr>\n",
       "      <th>0</th>\n",
       "      <td>1</td>\n",
       "      <td>8437</td>\n",
       "      <td>42</td>\n",
       "      <td>0</td>\n",
       "      <td>0</td>\n",
       "      <td>F</td>\n",
       "      <td>сотрудник</td>\n",
       "      <td>0</td>\n",
       "      <td>253875</td>\n",
       "      <td>покупка жилья</td>\n",
       "    </tr>\n",
       "    <tr>\n",
       "      <th>1</th>\n",
       "      <td>1</td>\n",
       "      <td>4024</td>\n",
       "      <td>36</td>\n",
       "      <td>1</td>\n",
       "      <td>0</td>\n",
       "      <td>F</td>\n",
       "      <td>сотрудник</td>\n",
       "      <td>0</td>\n",
       "      <td>112080</td>\n",
       "      <td>приобретение автомобиля</td>\n",
       "    </tr>\n",
       "    <tr>\n",
       "      <th>2</th>\n",
       "      <td>0</td>\n",
       "      <td>5623</td>\n",
       "      <td>33</td>\n",
       "      <td>1</td>\n",
       "      <td>0</td>\n",
       "      <td>M</td>\n",
       "      <td>сотрудник</td>\n",
       "      <td>0</td>\n",
       "      <td>145885</td>\n",
       "      <td>покупка жилья</td>\n",
       "    </tr>\n",
       "    <tr>\n",
       "      <th>3</th>\n",
       "      <td>3</td>\n",
       "      <td>4124</td>\n",
       "      <td>32</td>\n",
       "      <td>1</td>\n",
       "      <td>0</td>\n",
       "      <td>M</td>\n",
       "      <td>сотрудник</td>\n",
       "      <td>0</td>\n",
       "      <td>267628</td>\n",
       "      <td>дополнительное образование</td>\n",
       "    </tr>\n",
       "    <tr>\n",
       "      <th>4</th>\n",
       "      <td>0</td>\n",
       "      <td>340266</td>\n",
       "      <td>53</td>\n",
       "      <td>1</td>\n",
       "      <td>1</td>\n",
       "      <td>F</td>\n",
       "      <td>пенсионер</td>\n",
       "      <td>0</td>\n",
       "      <td>158616</td>\n",
       "      <td>сыграть свадьбу</td>\n",
       "    </tr>\n",
       "    <tr>\n",
       "      <th>...</th>\n",
       "      <td>...</td>\n",
       "      <td>...</td>\n",
       "      <td>...</td>\n",
       "      <td>...</td>\n",
       "      <td>...</td>\n",
       "      <td>...</td>\n",
       "      <td>...</td>\n",
       "      <td>...</td>\n",
       "      <td>...</td>\n",
       "      <td>...</td>\n",
       "    </tr>\n",
       "    <tr>\n",
       "      <th>21449</th>\n",
       "      <td>1</td>\n",
       "      <td>4529</td>\n",
       "      <td>43</td>\n",
       "      <td>1</td>\n",
       "      <td>1</td>\n",
       "      <td>F</td>\n",
       "      <td>компаньон</td>\n",
       "      <td>0</td>\n",
       "      <td>224791</td>\n",
       "      <td>операции с жильем</td>\n",
       "    </tr>\n",
       "    <tr>\n",
       "      <th>21450</th>\n",
       "      <td>0</td>\n",
       "      <td>343937</td>\n",
       "      <td>67</td>\n",
       "      <td>1</td>\n",
       "      <td>0</td>\n",
       "      <td>F</td>\n",
       "      <td>пенсионер</td>\n",
       "      <td>0</td>\n",
       "      <td>155999</td>\n",
       "      <td>сделка с автомобилем</td>\n",
       "    </tr>\n",
       "    <tr>\n",
       "      <th>21451</th>\n",
       "      <td>1</td>\n",
       "      <td>2113</td>\n",
       "      <td>38</td>\n",
       "      <td>1</td>\n",
       "      <td>1</td>\n",
       "      <td>M</td>\n",
       "      <td>сотрудник</td>\n",
       "      <td>1</td>\n",
       "      <td>89672</td>\n",
       "      <td>недвижимость</td>\n",
       "    </tr>\n",
       "    <tr>\n",
       "      <th>21452</th>\n",
       "      <td>3</td>\n",
       "      <td>3112</td>\n",
       "      <td>38</td>\n",
       "      <td>1</td>\n",
       "      <td>0</td>\n",
       "      <td>M</td>\n",
       "      <td>сотрудник</td>\n",
       "      <td>1</td>\n",
       "      <td>244093</td>\n",
       "      <td>на покупку своего автомобиля</td>\n",
       "    </tr>\n",
       "    <tr>\n",
       "      <th>21453</th>\n",
       "      <td>2</td>\n",
       "      <td>1984</td>\n",
       "      <td>40</td>\n",
       "      <td>1</td>\n",
       "      <td>0</td>\n",
       "      <td>F</td>\n",
       "      <td>сотрудник</td>\n",
       "      <td>0</td>\n",
       "      <td>82047</td>\n",
       "      <td>на покупку автомобиля</td>\n",
       "    </tr>\n",
       "  </tbody>\n",
       "</table>\n",
       "<p>21454 rows × 10 columns</p>\n",
       "</div>"
      ],
      "text/plain": [
       "       children  days_employed  dob_years  education_id  family_status_id  \\\n",
       "0             1           8437         42             0                 0   \n",
       "1             1           4024         36             1                 0   \n",
       "2             0           5623         33             1                 0   \n",
       "3             3           4124         32             1                 0   \n",
       "4             0         340266         53             1                 1   \n",
       "...         ...            ...        ...           ...               ...   \n",
       "21449         1           4529         43             1                 1   \n",
       "21450         0         343937         67             1                 0   \n",
       "21451         1           2113         38             1                 1   \n",
       "21452         3           3112         38             1                 0   \n",
       "21453         2           1984         40             1                 0   \n",
       "\n",
       "      gender income_type  debt  total_income                       purpose  \n",
       "0          F   сотрудник     0        253875                 покупка жилья  \n",
       "1          F   сотрудник     0        112080       приобретение автомобиля  \n",
       "2          M   сотрудник     0        145885                 покупка жилья  \n",
       "3          M   сотрудник     0        267628    дополнительное образование  \n",
       "4          F   пенсионер     0        158616               сыграть свадьбу  \n",
       "...      ...         ...   ...           ...                           ...  \n",
       "21449      F   компаньон     0        224791             операции с жильем  \n",
       "21450      F   пенсионер     0        155999          сделка с автомобилем  \n",
       "21451      M   сотрудник     1         89672                  недвижимость  \n",
       "21452      M   сотрудник     1        244093  на покупку своего автомобиля  \n",
       "21453      F   сотрудник     0         82047         на покупку автомобиля  \n",
       "\n",
       "[21454 rows x 10 columns]"
      ]
     },
     "execution_count": 106,
     "metadata": {},
     "output_type": "execute_result"
    }
   ],
   "source": [
    "# Вывод на экран нового датафрейма df\n",
    "df"
   ]
  },
  {
   "cell_type": "markdown",
   "id": "dc3e996d",
   "metadata": {},
   "source": [
    "<div class=\"alert alert-block alert-warning\">\n",
    "\n",
    "<span style=\"color:green\"><font size=\"3\"><b>Промежуточные выводы 4:</b></span>\n",
    "\n",
    "<span style=\"color:steelblue\"><font size=\"2\"><b>1. Сформированы два датафрейма с уникальными значениями.\\\n",
    "    1.1. Датафрейм с информацией об образовании 'df_education' содержит 5 категорий.\\\n",
    "    1.2. Датафрейм с информацией о семейном статусе 'df_family_status' так же содержит 5 категорий.\\\n",
    "    2. Декомпозиция исходного датафрейма выполнена. Колонки 'education' и 'family_status' успешно удалены.</b></span></div>"
   ]
  },
  {
   "cell_type": "markdown",
   "id": "60b499de",
   "metadata": {},
   "source": [
    "## Категоризация дохода"
   ]
  },
  {
   "cell_type": "code",
   "execution_count": 107,
   "id": "41743247",
   "metadata": {
    "scrolled": false
   },
   "outputs": [],
   "source": [
    "# Создание колонки 'total_income_category' с категориями дохода\n",
    "# при помощи функции total_income_category()\n",
    "# 1. Объявление функции total_income_category()\n",
    "def total_income_category(total_income):\n",
    "    # 2. Логические условия для присвоения буквенной категории\n",
    "    # в зависимости от уровня дохода\n",
    "    if total_income in range(0, 30000):\n",
    "        return 'E'\n",
    "    if total_income in range(30001, 50000):\n",
    "        return 'D'\n",
    "    if total_income in range(50001, 200000):\n",
    "        return 'C'\n",
    "    if total_income in range(200001, 1000000):\n",
    "        return 'B'\n",
    "    return 'A'"
   ]
  },
  {
   "cell_type": "code",
   "execution_count": 108,
   "id": "d414059c",
   "metadata": {},
   "outputs": [
    {
     "data": {
      "text/html": [
       "<div>\n",
       "<style scoped>\n",
       "    .dataframe tbody tr th:only-of-type {\n",
       "        vertical-align: middle;\n",
       "    }\n",
       "\n",
       "    .dataframe tbody tr th {\n",
       "        vertical-align: top;\n",
       "    }\n",
       "\n",
       "    .dataframe thead th {\n",
       "        text-align: right;\n",
       "    }\n",
       "</style>\n",
       "<table border=\"1\" class=\"dataframe\">\n",
       "  <thead>\n",
       "    <tr style=\"text-align: right;\">\n",
       "      <th></th>\n",
       "      <th>children</th>\n",
       "      <th>days_employed</th>\n",
       "      <th>dob_years</th>\n",
       "      <th>education_id</th>\n",
       "      <th>family_status_id</th>\n",
       "      <th>gender</th>\n",
       "      <th>income_type</th>\n",
       "      <th>debt</th>\n",
       "      <th>total_income</th>\n",
       "      <th>purpose</th>\n",
       "      <th>total_income_category</th>\n",
       "    </tr>\n",
       "  </thead>\n",
       "  <tbody>\n",
       "    <tr>\n",
       "      <th>0</th>\n",
       "      <td>1</td>\n",
       "      <td>8437</td>\n",
       "      <td>42</td>\n",
       "      <td>0</td>\n",
       "      <td>0</td>\n",
       "      <td>F</td>\n",
       "      <td>сотрудник</td>\n",
       "      <td>0</td>\n",
       "      <td>253875</td>\n",
       "      <td>покупка жилья</td>\n",
       "      <td>B</td>\n",
       "    </tr>\n",
       "    <tr>\n",
       "      <th>1</th>\n",
       "      <td>1</td>\n",
       "      <td>4024</td>\n",
       "      <td>36</td>\n",
       "      <td>1</td>\n",
       "      <td>0</td>\n",
       "      <td>F</td>\n",
       "      <td>сотрудник</td>\n",
       "      <td>0</td>\n",
       "      <td>112080</td>\n",
       "      <td>приобретение автомобиля</td>\n",
       "      <td>C</td>\n",
       "    </tr>\n",
       "    <tr>\n",
       "      <th>2</th>\n",
       "      <td>0</td>\n",
       "      <td>5623</td>\n",
       "      <td>33</td>\n",
       "      <td>1</td>\n",
       "      <td>0</td>\n",
       "      <td>M</td>\n",
       "      <td>сотрудник</td>\n",
       "      <td>0</td>\n",
       "      <td>145885</td>\n",
       "      <td>покупка жилья</td>\n",
       "      <td>C</td>\n",
       "    </tr>\n",
       "    <tr>\n",
       "      <th>3</th>\n",
       "      <td>3</td>\n",
       "      <td>4124</td>\n",
       "      <td>32</td>\n",
       "      <td>1</td>\n",
       "      <td>0</td>\n",
       "      <td>M</td>\n",
       "      <td>сотрудник</td>\n",
       "      <td>0</td>\n",
       "      <td>267628</td>\n",
       "      <td>дополнительное образование</td>\n",
       "      <td>B</td>\n",
       "    </tr>\n",
       "    <tr>\n",
       "      <th>4</th>\n",
       "      <td>0</td>\n",
       "      <td>340266</td>\n",
       "      <td>53</td>\n",
       "      <td>1</td>\n",
       "      <td>1</td>\n",
       "      <td>F</td>\n",
       "      <td>пенсионер</td>\n",
       "      <td>0</td>\n",
       "      <td>158616</td>\n",
       "      <td>сыграть свадьбу</td>\n",
       "      <td>C</td>\n",
       "    </tr>\n",
       "    <tr>\n",
       "      <th>...</th>\n",
       "      <td>...</td>\n",
       "      <td>...</td>\n",
       "      <td>...</td>\n",
       "      <td>...</td>\n",
       "      <td>...</td>\n",
       "      <td>...</td>\n",
       "      <td>...</td>\n",
       "      <td>...</td>\n",
       "      <td>...</td>\n",
       "      <td>...</td>\n",
       "      <td>...</td>\n",
       "    </tr>\n",
       "    <tr>\n",
       "      <th>21449</th>\n",
       "      <td>1</td>\n",
       "      <td>4529</td>\n",
       "      <td>43</td>\n",
       "      <td>1</td>\n",
       "      <td>1</td>\n",
       "      <td>F</td>\n",
       "      <td>компаньон</td>\n",
       "      <td>0</td>\n",
       "      <td>224791</td>\n",
       "      <td>операции с жильем</td>\n",
       "      <td>B</td>\n",
       "    </tr>\n",
       "    <tr>\n",
       "      <th>21450</th>\n",
       "      <td>0</td>\n",
       "      <td>343937</td>\n",
       "      <td>67</td>\n",
       "      <td>1</td>\n",
       "      <td>0</td>\n",
       "      <td>F</td>\n",
       "      <td>пенсионер</td>\n",
       "      <td>0</td>\n",
       "      <td>155999</td>\n",
       "      <td>сделка с автомобилем</td>\n",
       "      <td>C</td>\n",
       "    </tr>\n",
       "    <tr>\n",
       "      <th>21451</th>\n",
       "      <td>1</td>\n",
       "      <td>2113</td>\n",
       "      <td>38</td>\n",
       "      <td>1</td>\n",
       "      <td>1</td>\n",
       "      <td>M</td>\n",
       "      <td>сотрудник</td>\n",
       "      <td>1</td>\n",
       "      <td>89672</td>\n",
       "      <td>недвижимость</td>\n",
       "      <td>C</td>\n",
       "    </tr>\n",
       "    <tr>\n",
       "      <th>21452</th>\n",
       "      <td>3</td>\n",
       "      <td>3112</td>\n",
       "      <td>38</td>\n",
       "      <td>1</td>\n",
       "      <td>0</td>\n",
       "      <td>M</td>\n",
       "      <td>сотрудник</td>\n",
       "      <td>1</td>\n",
       "      <td>244093</td>\n",
       "      <td>на покупку своего автомобиля</td>\n",
       "      <td>B</td>\n",
       "    </tr>\n",
       "    <tr>\n",
       "      <th>21453</th>\n",
       "      <td>2</td>\n",
       "      <td>1984</td>\n",
       "      <td>40</td>\n",
       "      <td>1</td>\n",
       "      <td>0</td>\n",
       "      <td>F</td>\n",
       "      <td>сотрудник</td>\n",
       "      <td>0</td>\n",
       "      <td>82047</td>\n",
       "      <td>на покупку автомобиля</td>\n",
       "      <td>C</td>\n",
       "    </tr>\n",
       "  </tbody>\n",
       "</table>\n",
       "<p>21454 rows × 11 columns</p>\n",
       "</div>"
      ],
      "text/plain": [
       "       children  days_employed  dob_years  education_id  family_status_id  \\\n",
       "0             1           8437         42             0                 0   \n",
       "1             1           4024         36             1                 0   \n",
       "2             0           5623         33             1                 0   \n",
       "3             3           4124         32             1                 0   \n",
       "4             0         340266         53             1                 1   \n",
       "...         ...            ...        ...           ...               ...   \n",
       "21449         1           4529         43             1                 1   \n",
       "21450         0         343937         67             1                 0   \n",
       "21451         1           2113         38             1                 1   \n",
       "21452         3           3112         38             1                 0   \n",
       "21453         2           1984         40             1                 0   \n",
       "\n",
       "      gender income_type  debt  total_income                       purpose  \\\n",
       "0          F   сотрудник     0        253875                 покупка жилья   \n",
       "1          F   сотрудник     0        112080       приобретение автомобиля   \n",
       "2          M   сотрудник     0        145885                 покупка жилья   \n",
       "3          M   сотрудник     0        267628    дополнительное образование   \n",
       "4          F   пенсионер     0        158616               сыграть свадьбу   \n",
       "...      ...         ...   ...           ...                           ...   \n",
       "21449      F   компаньон     0        224791             операции с жильем   \n",
       "21450      F   пенсионер     0        155999          сделка с автомобилем   \n",
       "21451      M   сотрудник     1         89672                  недвижимость   \n",
       "21452      M   сотрудник     1        244093  на покупку своего автомобиля   \n",
       "21453      F   сотрудник     0         82047         на покупку автомобиля   \n",
       "\n",
       "      total_income_category  \n",
       "0                         B  \n",
       "1                         C  \n",
       "2                         C  \n",
       "3                         B  \n",
       "4                         C  \n",
       "...                     ...  \n",
       "21449                     B  \n",
       "21450                     C  \n",
       "21451                     C  \n",
       "21452                     B  \n",
       "21453                     C  \n",
       "\n",
       "[21454 rows x 11 columns]"
      ]
     },
     "metadata": {},
     "output_type": "display_data"
    }
   ],
   "source": [
    "# Объединение данных в буквенные категории на основании\n",
    "# колонки 'total_income' с проверкой ошибок try-except\n",
    "# и выводом на экран\n",
    "try:\n",
    "    df['total_income_category'] = df['total_income'].apply(total_income_category)\n",
    "    display(df)\n",
    "except:\n",
    "    print('Проверь алгоритм работы функции \"total_income_category()\"!')"
   ]
  },
  {
   "cell_type": "code",
   "execution_count": 109,
   "id": "7f70e6a1",
   "metadata": {
    "scrolled": true
   },
   "outputs": [
    {
     "data": {
      "text/plain": [
       "C    16015\n",
       "B     5042\n",
       "D      350\n",
       "A       25\n",
       "E       22\n",
       "Name: total_income_category, dtype: int64"
      ]
     },
     "execution_count": 109,
     "metadata": {},
     "output_type": "execute_result"
    }
   ],
   "source": [
    "# Вывод на экран информации о категориях и\n",
    "# количестве заёмщиков в данных категориях\n",
    "df['total_income_category'].value_counts()"
   ]
  },
  {
   "cell_type": "markdown",
   "id": "2ea61ac1",
   "metadata": {},
   "source": [
    "<div class=\"alert alert-block alert-warning\">\n",
    "\n",
    "<span style=\"color:green\"><font size=\"3\"><b>Промежуточные выводы 5:</b></span>\n",
    "\n",
    "<span style=\"color:steelblue\"><font size=\"2\"><b>1. Функция 'total_income_category()' работает.\\\n",
    "    2.1. В датафрейме создана новая колонка 'total_income_category'.\\\n",
    "    2.2. Согласно полученным данным 74% заёмщиков относятся к категории 'C' с доходом от 50001 до 200000.</b></span></div>"
   ]
  },
  {
   "cell_type": "markdown",
   "id": "d725c780",
   "metadata": {},
   "source": [
    "## Категоризация целей кредита"
   ]
  },
  {
   "cell_type": "code",
   "execution_count": 110,
   "id": "e6e1ca15",
   "metadata": {
    "scrolled": false
   },
   "outputs": [],
   "source": [
    "# Создание колонки 'purpose_category' с категориями\n",
    "# целей займов при помощи функции purpose_category()\n",
    "# 1. Объявление функции purpose_category()\n",
    "def purpose_category(purpose):\n",
    "    if 'автомоб' in purpose:\n",
    "        return 'операции с автомобилем'\n",
    "    if ('недвиж' in purpose or\n",
    "        'жиль' in purpose):\n",
    "        return 'операции с недвижимостью'\n",
    "    if 'свадь' in purpose:\n",
    "        return 'проведение свадьбы'\n",
    "    if 'образов' in purpose:\n",
    "        return 'получение образования'\n",
    "    return 'проверь ключевые слова и правильность логических условий'"
   ]
  },
  {
   "cell_type": "code",
   "execution_count": 111,
   "id": "7ff0e3e2",
   "metadata": {},
   "outputs": [
    {
     "data": {
      "text/html": [
       "<div>\n",
       "<style scoped>\n",
       "    .dataframe tbody tr th:only-of-type {\n",
       "        vertical-align: middle;\n",
       "    }\n",
       "\n",
       "    .dataframe tbody tr th {\n",
       "        vertical-align: top;\n",
       "    }\n",
       "\n",
       "    .dataframe thead th {\n",
       "        text-align: right;\n",
       "    }\n",
       "</style>\n",
       "<table border=\"1\" class=\"dataframe\">\n",
       "  <thead>\n",
       "    <tr style=\"text-align: right;\">\n",
       "      <th></th>\n",
       "      <th>children</th>\n",
       "      <th>days_employed</th>\n",
       "      <th>dob_years</th>\n",
       "      <th>education_id</th>\n",
       "      <th>family_status_id</th>\n",
       "      <th>gender</th>\n",
       "      <th>income_type</th>\n",
       "      <th>debt</th>\n",
       "      <th>total_income</th>\n",
       "      <th>purpose</th>\n",
       "      <th>total_income_category</th>\n",
       "      <th>purpose_category</th>\n",
       "    </tr>\n",
       "  </thead>\n",
       "  <tbody>\n",
       "    <tr>\n",
       "      <th>0</th>\n",
       "      <td>1</td>\n",
       "      <td>8437</td>\n",
       "      <td>42</td>\n",
       "      <td>0</td>\n",
       "      <td>0</td>\n",
       "      <td>F</td>\n",
       "      <td>сотрудник</td>\n",
       "      <td>0</td>\n",
       "      <td>253875</td>\n",
       "      <td>покупка жилья</td>\n",
       "      <td>B</td>\n",
       "      <td>операции с недвижимостью</td>\n",
       "    </tr>\n",
       "    <tr>\n",
       "      <th>1</th>\n",
       "      <td>1</td>\n",
       "      <td>4024</td>\n",
       "      <td>36</td>\n",
       "      <td>1</td>\n",
       "      <td>0</td>\n",
       "      <td>F</td>\n",
       "      <td>сотрудник</td>\n",
       "      <td>0</td>\n",
       "      <td>112080</td>\n",
       "      <td>приобретение автомобиля</td>\n",
       "      <td>C</td>\n",
       "      <td>операции с автомобилем</td>\n",
       "    </tr>\n",
       "    <tr>\n",
       "      <th>2</th>\n",
       "      <td>0</td>\n",
       "      <td>5623</td>\n",
       "      <td>33</td>\n",
       "      <td>1</td>\n",
       "      <td>0</td>\n",
       "      <td>M</td>\n",
       "      <td>сотрудник</td>\n",
       "      <td>0</td>\n",
       "      <td>145885</td>\n",
       "      <td>покупка жилья</td>\n",
       "      <td>C</td>\n",
       "      <td>операции с недвижимостью</td>\n",
       "    </tr>\n",
       "    <tr>\n",
       "      <th>3</th>\n",
       "      <td>3</td>\n",
       "      <td>4124</td>\n",
       "      <td>32</td>\n",
       "      <td>1</td>\n",
       "      <td>0</td>\n",
       "      <td>M</td>\n",
       "      <td>сотрудник</td>\n",
       "      <td>0</td>\n",
       "      <td>267628</td>\n",
       "      <td>дополнительное образование</td>\n",
       "      <td>B</td>\n",
       "      <td>получение образования</td>\n",
       "    </tr>\n",
       "    <tr>\n",
       "      <th>4</th>\n",
       "      <td>0</td>\n",
       "      <td>340266</td>\n",
       "      <td>53</td>\n",
       "      <td>1</td>\n",
       "      <td>1</td>\n",
       "      <td>F</td>\n",
       "      <td>пенсионер</td>\n",
       "      <td>0</td>\n",
       "      <td>158616</td>\n",
       "      <td>сыграть свадьбу</td>\n",
       "      <td>C</td>\n",
       "      <td>проведение свадьбы</td>\n",
       "    </tr>\n",
       "    <tr>\n",
       "      <th>...</th>\n",
       "      <td>...</td>\n",
       "      <td>...</td>\n",
       "      <td>...</td>\n",
       "      <td>...</td>\n",
       "      <td>...</td>\n",
       "      <td>...</td>\n",
       "      <td>...</td>\n",
       "      <td>...</td>\n",
       "      <td>...</td>\n",
       "      <td>...</td>\n",
       "      <td>...</td>\n",
       "      <td>...</td>\n",
       "    </tr>\n",
       "    <tr>\n",
       "      <th>21449</th>\n",
       "      <td>1</td>\n",
       "      <td>4529</td>\n",
       "      <td>43</td>\n",
       "      <td>1</td>\n",
       "      <td>1</td>\n",
       "      <td>F</td>\n",
       "      <td>компаньон</td>\n",
       "      <td>0</td>\n",
       "      <td>224791</td>\n",
       "      <td>операции с жильем</td>\n",
       "      <td>B</td>\n",
       "      <td>операции с недвижимостью</td>\n",
       "    </tr>\n",
       "    <tr>\n",
       "      <th>21450</th>\n",
       "      <td>0</td>\n",
       "      <td>343937</td>\n",
       "      <td>67</td>\n",
       "      <td>1</td>\n",
       "      <td>0</td>\n",
       "      <td>F</td>\n",
       "      <td>пенсионер</td>\n",
       "      <td>0</td>\n",
       "      <td>155999</td>\n",
       "      <td>сделка с автомобилем</td>\n",
       "      <td>C</td>\n",
       "      <td>операции с автомобилем</td>\n",
       "    </tr>\n",
       "    <tr>\n",
       "      <th>21451</th>\n",
       "      <td>1</td>\n",
       "      <td>2113</td>\n",
       "      <td>38</td>\n",
       "      <td>1</td>\n",
       "      <td>1</td>\n",
       "      <td>M</td>\n",
       "      <td>сотрудник</td>\n",
       "      <td>1</td>\n",
       "      <td>89672</td>\n",
       "      <td>недвижимость</td>\n",
       "      <td>C</td>\n",
       "      <td>операции с недвижимостью</td>\n",
       "    </tr>\n",
       "    <tr>\n",
       "      <th>21452</th>\n",
       "      <td>3</td>\n",
       "      <td>3112</td>\n",
       "      <td>38</td>\n",
       "      <td>1</td>\n",
       "      <td>0</td>\n",
       "      <td>M</td>\n",
       "      <td>сотрудник</td>\n",
       "      <td>1</td>\n",
       "      <td>244093</td>\n",
       "      <td>на покупку своего автомобиля</td>\n",
       "      <td>B</td>\n",
       "      <td>операции с автомобилем</td>\n",
       "    </tr>\n",
       "    <tr>\n",
       "      <th>21453</th>\n",
       "      <td>2</td>\n",
       "      <td>1984</td>\n",
       "      <td>40</td>\n",
       "      <td>1</td>\n",
       "      <td>0</td>\n",
       "      <td>F</td>\n",
       "      <td>сотрудник</td>\n",
       "      <td>0</td>\n",
       "      <td>82047</td>\n",
       "      <td>на покупку автомобиля</td>\n",
       "      <td>C</td>\n",
       "      <td>операции с автомобилем</td>\n",
       "    </tr>\n",
       "  </tbody>\n",
       "</table>\n",
       "<p>21454 rows × 12 columns</p>\n",
       "</div>"
      ],
      "text/plain": [
       "       children  days_employed  dob_years  education_id  family_status_id  \\\n",
       "0             1           8437         42             0                 0   \n",
       "1             1           4024         36             1                 0   \n",
       "2             0           5623         33             1                 0   \n",
       "3             3           4124         32             1                 0   \n",
       "4             0         340266         53             1                 1   \n",
       "...         ...            ...        ...           ...               ...   \n",
       "21449         1           4529         43             1                 1   \n",
       "21450         0         343937         67             1                 0   \n",
       "21451         1           2113         38             1                 1   \n",
       "21452         3           3112         38             1                 0   \n",
       "21453         2           1984         40             1                 0   \n",
       "\n",
       "      gender income_type  debt  total_income                       purpose  \\\n",
       "0          F   сотрудник     0        253875                 покупка жилья   \n",
       "1          F   сотрудник     0        112080       приобретение автомобиля   \n",
       "2          M   сотрудник     0        145885                 покупка жилья   \n",
       "3          M   сотрудник     0        267628    дополнительное образование   \n",
       "4          F   пенсионер     0        158616               сыграть свадьбу   \n",
       "...      ...         ...   ...           ...                           ...   \n",
       "21449      F   компаньон     0        224791             операции с жильем   \n",
       "21450      F   пенсионер     0        155999          сделка с автомобилем   \n",
       "21451      M   сотрудник     1         89672                  недвижимость   \n",
       "21452      M   сотрудник     1        244093  на покупку своего автомобиля   \n",
       "21453      F   сотрудник     0         82047         на покупку автомобиля   \n",
       "\n",
       "      total_income_category          purpose_category  \n",
       "0                         B  операции с недвижимостью  \n",
       "1                         C    операции с автомобилем  \n",
       "2                         C  операции с недвижимостью  \n",
       "3                         B     получение образования  \n",
       "4                         C        проведение свадьбы  \n",
       "...                     ...                       ...  \n",
       "21449                     B  операции с недвижимостью  \n",
       "21450                     C    операции с автомобилем  \n",
       "21451                     C  операции с недвижимостью  \n",
       "21452                     B    операции с автомобилем  \n",
       "21453                     C    операции с автомобилем  \n",
       "\n",
       "[21454 rows x 12 columns]"
      ]
     },
     "metadata": {},
     "output_type": "display_data"
    }
   ],
   "source": [
    "# Объединение данных в категории на основании\n",
    "# колонки 'purpose' с проверкой ошибок try-except\n",
    "# и выводом на экран\n",
    "try:\n",
    "    df['purpose_category'] = df['purpose'].apply(purpose_category)\n",
    "    display(df)\n",
    "except:\n",
    "    print('Проверь алгоритм работы функции \"purpose_category()\"!')"
   ]
  },
  {
   "cell_type": "code",
   "execution_count": 112,
   "id": "ac79a0f4",
   "metadata": {},
   "outputs": [
    {
     "data": {
      "text/plain": [
       "операции с недвижимостью    10811\n",
       "операции с автомобилем       4306\n",
       "получение образования        4013\n",
       "проведение свадьбы           2324\n",
       "Name: purpose_category, dtype: int64"
      ]
     },
     "execution_count": 112,
     "metadata": {},
     "output_type": "execute_result"
    }
   ],
   "source": [
    "# Вывод на экран информации о категориях и\n",
    "# количестве заёмщиков в данных категориях\n",
    "df['purpose_category'].value_counts()"
   ]
  },
  {
   "cell_type": "markdown",
   "id": "83170959",
   "metadata": {},
   "source": [
    "<div class=\"alert alert-block alert-warning\">\n",
    "\n",
    "<span style=\"color:green\"><font size=\"3\"><b>Промежуточные выводы 6:</b></span>\n",
    "\n",
    "<span style=\"color:steelblue\"><font size=\"2\"><b>1. Функция 'purpose_category()' работает.\\\n",
    "    2.1. В датафрейме создана новая колонка 'purposee_category'.\\\n",
    "    2.2. Согласно полученным данным 50% займов относятся к категории 'операции с недвижимостью'.</b></span></div>"
   ]
  },
  {
   "cell_type": "markdown",
   "id": "c216b477",
   "metadata": {},
   "source": [
    "## Формирование сводных таблиц"
   ]
  },
  {
   "cell_type": "markdown",
   "id": "2605dd27",
   "metadata": {},
   "source": [
    "### Зависимость между количеством детей и возвратом кредита в срок"
   ]
  },
  {
   "cell_type": "code",
   "execution_count": 113,
   "id": "052bd56f",
   "metadata": {
    "scrolled": false
   },
   "outputs": [],
   "source": [
    "# Формирование сводной таблицы методом pivot_table()\n",
    "# с индексацией по колонке 'children'\n",
    "df_pivot_children = df.pivot_table(index=['children'], columns='debt', values='income_type', aggfunc='count')"
   ]
  },
  {
   "cell_type": "code",
   "execution_count": 114,
   "id": "0fd9a7b1",
   "metadata": {},
   "outputs": [],
   "source": [
    "# Добавление колонки с процентным соотношением по задолженности\n",
    "df_pivot_children['percent'] = df_pivot_children[1] / (df_pivot_children[0] + df_pivot_children[1]) * 100"
   ]
  },
  {
   "cell_type": "code",
   "execution_count": 115,
   "id": "743880a4",
   "metadata": {},
   "outputs": [
    {
     "data": {
      "text/html": [
       "<div>\n",
       "<style scoped>\n",
       "    .dataframe tbody tr th:only-of-type {\n",
       "        vertical-align: middle;\n",
       "    }\n",
       "\n",
       "    .dataframe tbody tr th {\n",
       "        vertical-align: top;\n",
       "    }\n",
       "\n",
       "    .dataframe thead th {\n",
       "        text-align: right;\n",
       "    }\n",
       "</style>\n",
       "<table border=\"1\" class=\"dataframe\">\n",
       "  <thead>\n",
       "    <tr style=\"text-align: right;\">\n",
       "      <th>debt</th>\n",
       "      <th>0</th>\n",
       "      <th>1</th>\n",
       "      <th>percent</th>\n",
       "    </tr>\n",
       "    <tr>\n",
       "      <th>children</th>\n",
       "      <th></th>\n",
       "      <th></th>\n",
       "      <th></th>\n",
       "    </tr>\n",
       "  </thead>\n",
       "  <tbody>\n",
       "    <tr>\n",
       "      <th>0</th>\n",
       "      <td>13028.0</td>\n",
       "      <td>1063.0</td>\n",
       "      <td>7.543822</td>\n",
       "    </tr>\n",
       "    <tr>\n",
       "      <th>3</th>\n",
       "      <td>303.0</td>\n",
       "      <td>27.0</td>\n",
       "      <td>8.181818</td>\n",
       "    </tr>\n",
       "    <tr>\n",
       "      <th>1</th>\n",
       "      <td>4410.0</td>\n",
       "      <td>445.0</td>\n",
       "      <td>9.165808</td>\n",
       "    </tr>\n",
       "    <tr>\n",
       "      <th>2</th>\n",
       "      <td>1858.0</td>\n",
       "      <td>194.0</td>\n",
       "      <td>9.454191</td>\n",
       "    </tr>\n",
       "    <tr>\n",
       "      <th>4</th>\n",
       "      <td>37.0</td>\n",
       "      <td>4.0</td>\n",
       "      <td>9.756098</td>\n",
       "    </tr>\n",
       "    <tr>\n",
       "      <th>20</th>\n",
       "      <td>68.0</td>\n",
       "      <td>8.0</td>\n",
       "      <td>10.526316</td>\n",
       "    </tr>\n",
       "    <tr>\n",
       "      <th>5</th>\n",
       "      <td>9.0</td>\n",
       "      <td>NaN</td>\n",
       "      <td>NaN</td>\n",
       "    </tr>\n",
       "  </tbody>\n",
       "</table>\n",
       "</div>"
      ],
      "text/plain": [
       "debt            0       1    percent\n",
       "children                            \n",
       "0         13028.0  1063.0   7.543822\n",
       "3           303.0    27.0   8.181818\n",
       "1          4410.0   445.0   9.165808\n",
       "2          1858.0   194.0   9.454191\n",
       "4            37.0     4.0   9.756098\n",
       "20           68.0     8.0  10.526316\n",
       "5             9.0     NaN        NaN"
      ]
     },
     "execution_count": 115,
     "metadata": {},
     "output_type": "execute_result"
    }
   ],
   "source": [
    "# Вывод сводной таблицы с сортировокй по процентам\n",
    "df_pivot_children.sort_values(by='percent')"
   ]
  },
  {
   "cell_type": "markdown",
   "id": "20e22e12",
   "metadata": {},
   "source": [
    "<div class=\"alert alert-block alert-warning\">\n",
    "\n",
    "<span style=\"color:green\"><font size=\"3\"><b>Промежуточные выводы 7:</b></span>\n",
    "\n",
    "<span style=\"color:steelblue\"><font size=\"2\"><b>1. В сводной таблице по колонке 'children' с количеством детей присутствует значение NaN(Not-a-Number). В связи с этим все значения приобрели вещественный тип данных float64.\\\n",
    "    Появление NaN возможно обусловлено отсутствием задолженности (1) в колонке 'debt' у семей с 5 детьми.\\\n",
    "    2. Количество детей у семьи влияет на общее количество займов: чем меньше детей, тем больше займов.\\\n",
    "    Исключение составляют семьи с аномальным количеством детей 20.\\\n",
    "    3. Нименьшее количество задолженностей по возврату кредитов имеют семьи с количеством детей 0: примерно 7,5% задолженностей от взятых займов этой категорией семей.\\\n",
    "    С увеличением числа детей увеличивается процент задолженностей, за исключением семей с 3 детьми.</b></span></div>"
   ]
  },
  {
   "cell_type": "markdown",
   "id": "291aa932",
   "metadata": {},
   "source": [
    "### Зависимость между семейным положением и возвратом кредита в срок"
   ]
  },
  {
   "cell_type": "code",
   "execution_count": 116,
   "id": "9cbfcb4b",
   "metadata": {},
   "outputs": [],
   "source": [
    "# Формирование сводной таблицы методом pivot_table()\n",
    "# с индексацией по колонке 'family_status_id'\n",
    "df_pivot_family = df.pivot_table(index=['family_status_id'], columns='debt', values='income_type', aggfunc='count')"
   ]
  },
  {
   "cell_type": "code",
   "execution_count": 117,
   "id": "75b42fbe",
   "metadata": {},
   "outputs": [],
   "source": [
    "# Добавление колонки с процентным соотношением по задолженности\n",
    "df_pivot_family['percent'] = df_pivot_family[1] / (df_pivot_family[0] + df_pivot_family[1]) * 100"
   ]
  },
  {
   "cell_type": "code",
   "execution_count": 118,
   "id": "c5061889",
   "metadata": {},
   "outputs": [
    {
     "data": {
      "text/html": [
       "<div>\n",
       "<style scoped>\n",
       "    .dataframe tbody tr th:only-of-type {\n",
       "        vertical-align: middle;\n",
       "    }\n",
       "\n",
       "    .dataframe tbody tr th {\n",
       "        vertical-align: top;\n",
       "    }\n",
       "\n",
       "    .dataframe thead th {\n",
       "        text-align: right;\n",
       "    }\n",
       "</style>\n",
       "<table border=\"1\" class=\"dataframe\">\n",
       "  <thead>\n",
       "    <tr style=\"text-align: right;\">\n",
       "      <th>debt</th>\n",
       "      <th>0</th>\n",
       "      <th>1</th>\n",
       "      <th>percent</th>\n",
       "    </tr>\n",
       "    <tr>\n",
       "      <th>family_status_id</th>\n",
       "      <th></th>\n",
       "      <th></th>\n",
       "      <th></th>\n",
       "    </tr>\n",
       "  </thead>\n",
       "  <tbody>\n",
       "    <tr>\n",
       "      <th>2</th>\n",
       "      <td>896</td>\n",
       "      <td>63</td>\n",
       "      <td>6.569343</td>\n",
       "    </tr>\n",
       "    <tr>\n",
       "      <th>3</th>\n",
       "      <td>1110</td>\n",
       "      <td>85</td>\n",
       "      <td>7.112971</td>\n",
       "    </tr>\n",
       "    <tr>\n",
       "      <th>0</th>\n",
       "      <td>11408</td>\n",
       "      <td>931</td>\n",
       "      <td>7.545182</td>\n",
       "    </tr>\n",
       "    <tr>\n",
       "      <th>1</th>\n",
       "      <td>3763</td>\n",
       "      <td>388</td>\n",
       "      <td>9.347145</td>\n",
       "    </tr>\n",
       "    <tr>\n",
       "      <th>4</th>\n",
       "      <td>2536</td>\n",
       "      <td>274</td>\n",
       "      <td>9.750890</td>\n",
       "    </tr>\n",
       "  </tbody>\n",
       "</table>\n",
       "</div>"
      ],
      "text/plain": [
       "debt                  0    1   percent\n",
       "family_status_id                      \n",
       "2                   896   63  6.569343\n",
       "3                  1110   85  7.112971\n",
       "0                 11408  931  7.545182\n",
       "1                  3763  388  9.347145\n",
       "4                  2536  274  9.750890"
      ]
     },
     "execution_count": 118,
     "metadata": {},
     "output_type": "execute_result"
    }
   ],
   "source": [
    "# Вывод сводной таблицы с сортировокй по процентам\n",
    "df_pivot_family.sort_values(by='percent')"
   ]
  },
  {
   "cell_type": "markdown",
   "id": "7873b23a",
   "metadata": {},
   "source": [
    "<div class=\"alert alert-block alert-warning\">\n",
    "\n",
    "<span style=\"color:green\"><font size=\"3\"><b>Промежуточные выводы 8:</b></span>\n",
    "\n",
    "<span style=\"color:steelblue\"><font size=\"2\"><b>1. Семейный статус влияет на количество задолженностей.\\\n",
    "    2. Наименьшее количество задолженностей у категории 2 и 3 - вдовцов и разведённых. Возможно люди, состоявшие в браке, меньше берут займы, так как рассчитывают только на свои доходы.\\\n",
    "    3. Наибольшее количество займов со средним показателем задолженности у семей, состоящих в браке - категория 0. Возможно это связано с общим бюджетом семьи и взаимной поддержкой.\\\n",
    "    4. Наибольший процент задолженности наблюдается у семей, нескреплённых брачными узами - категория 1, и одиночек - категория 4. Возможно у них слабая взаимная поддержка и также переоценённая платёжеспособность.</b></span></div>"
   ]
  },
  {
   "cell_type": "markdown",
   "id": "7e32588f",
   "metadata": {},
   "source": [
    "### Зависимость между уровнем дохода и возвратом кредита в срок"
   ]
  },
  {
   "cell_type": "code",
   "execution_count": 119,
   "id": "43f49df4",
   "metadata": {},
   "outputs": [],
   "source": [
    "# Формирование сводной таблицы методом pivot_table()\n",
    "# с индексацией по колонке 'total_income_category'\n",
    "df_pivot_income = df.pivot_table(index=['total_income_category'], columns='debt', values='income_type', aggfunc='count')"
   ]
  },
  {
   "cell_type": "code",
   "execution_count": 120,
   "id": "2fddc03b",
   "metadata": {},
   "outputs": [],
   "source": [
    "# Добавление колонки с процентным соотношением по задолженности\n",
    "df_pivot_income['percent'] = df_pivot_income[1] / (df_pivot_income[0] + df_pivot_income[1]) * 100"
   ]
  },
  {
   "cell_type": "code",
   "execution_count": 121,
   "id": "5c9dd4fe",
   "metadata": {},
   "outputs": [
    {
     "data": {
      "text/html": [
       "<div>\n",
       "<style scoped>\n",
       "    .dataframe tbody tr th:only-of-type {\n",
       "        vertical-align: middle;\n",
       "    }\n",
       "\n",
       "    .dataframe tbody tr th {\n",
       "        vertical-align: top;\n",
       "    }\n",
       "\n",
       "    .dataframe thead th {\n",
       "        text-align: right;\n",
       "    }\n",
       "</style>\n",
       "<table border=\"1\" class=\"dataframe\">\n",
       "  <thead>\n",
       "    <tr style=\"text-align: right;\">\n",
       "      <th>debt</th>\n",
       "      <th>0</th>\n",
       "      <th>1</th>\n",
       "      <th>percent</th>\n",
       "    </tr>\n",
       "    <tr>\n",
       "      <th>total_income_category</th>\n",
       "      <th></th>\n",
       "      <th></th>\n",
       "      <th></th>\n",
       "    </tr>\n",
       "  </thead>\n",
       "  <tbody>\n",
       "    <tr>\n",
       "      <th>D</th>\n",
       "      <td>329</td>\n",
       "      <td>21</td>\n",
       "      <td>6.000000</td>\n",
       "    </tr>\n",
       "    <tr>\n",
       "      <th>B</th>\n",
       "      <td>4686</td>\n",
       "      <td>356</td>\n",
       "      <td>7.060690</td>\n",
       "    </tr>\n",
       "    <tr>\n",
       "      <th>A</th>\n",
       "      <td>23</td>\n",
       "      <td>2</td>\n",
       "      <td>8.000000</td>\n",
       "    </tr>\n",
       "    <tr>\n",
       "      <th>C</th>\n",
       "      <td>14655</td>\n",
       "      <td>1360</td>\n",
       "      <td>8.492039</td>\n",
       "    </tr>\n",
       "    <tr>\n",
       "      <th>E</th>\n",
       "      <td>20</td>\n",
       "      <td>2</td>\n",
       "      <td>9.090909</td>\n",
       "    </tr>\n",
       "  </tbody>\n",
       "</table>\n",
       "</div>"
      ],
      "text/plain": [
       "debt                       0     1   percent\n",
       "total_income_category                       \n",
       "D                        329    21  6.000000\n",
       "B                       4686   356  7.060690\n",
       "A                         23     2  8.000000\n",
       "C                      14655  1360  8.492039\n",
       "E                         20     2  9.090909"
      ]
     },
     "execution_count": 121,
     "metadata": {},
     "output_type": "execute_result"
    }
   ],
   "source": [
    "# Вывод сводной таблицы с сортировокй по процентам\n",
    "df_pivot_income.sort_values(by='percent')"
   ]
  },
  {
   "cell_type": "markdown",
   "id": "967afdbe",
   "metadata": {},
   "source": [
    "<div class=\"alert alert-block alert-warning\">\n",
    "\n",
    "<span style=\"color:green\"><font size=\"3\"><b>Промежуточные выводы 9:</b></span>\n",
    "\n",
    "<span style=\"color:steelblue\"><font size=\"2\"><b>1. Ситуация с влиянием уровня дохода на количество задолженностей неоднозначная.\\\n",
    "    2. Наименьшее количество задолженностей в категории с предпоследним уровнем дохода - категории D, но и займов в данной категории небольшое количество.\\\n",
    "    3. У категорий с большими доходами - категрии A и B, задолженности так же имеются, хоть и с меньшим процентом. Большие доходы предполагают большие расходы и связанные с ними риски.\\\n",
    "    4. В категории с наибольшим количеством займов - категории C, наблюдается предпоследний по величине процент по задолженностям.\\\n",
    "    5. В категории с наименьшим доходом - категории E, самый высокий процент задолженности.</b></span></div>"
   ]
  },
  {
   "cell_type": "markdown",
   "id": "46067c81",
   "metadata": {},
   "source": [
    "### Влияние целей кредита на его возврат в срок"
   ]
  },
  {
   "cell_type": "code",
   "execution_count": 122,
   "id": "f8a39f14",
   "metadata": {},
   "outputs": [],
   "source": [
    "# Формирование сводной таблицы методом pivot_table()\n",
    "# с индексацией по колонке 'purpose_category'\n",
    "df_pivot_purpose = df.pivot_table(index=['purpose_category'], columns='debt', values='income_type', aggfunc='count')"
   ]
  },
  {
   "cell_type": "code",
   "execution_count": 123,
   "id": "e1990f82",
   "metadata": {},
   "outputs": [],
   "source": [
    "# Добавление колонки с процентным соотношением по задолженности\n",
    "df_pivot_purpose['percent'] = df_pivot_purpose[1] / (df_pivot_purpose[0] + df_pivot_purpose[1]) * 100"
   ]
  },
  {
   "cell_type": "code",
   "execution_count": 124,
   "id": "df5a9afb",
   "metadata": {},
   "outputs": [
    {
     "data": {
      "text/html": [
       "<div>\n",
       "<style scoped>\n",
       "    .dataframe tbody tr th:only-of-type {\n",
       "        vertical-align: middle;\n",
       "    }\n",
       "\n",
       "    .dataframe tbody tr th {\n",
       "        vertical-align: top;\n",
       "    }\n",
       "\n",
       "    .dataframe thead th {\n",
       "        text-align: right;\n",
       "    }\n",
       "</style>\n",
       "<table border=\"1\" class=\"dataframe\">\n",
       "  <thead>\n",
       "    <tr style=\"text-align: right;\">\n",
       "      <th>debt</th>\n",
       "      <th>0</th>\n",
       "      <th>1</th>\n",
       "      <th>percent</th>\n",
       "    </tr>\n",
       "    <tr>\n",
       "      <th>purpose_category</th>\n",
       "      <th></th>\n",
       "      <th></th>\n",
       "      <th></th>\n",
       "    </tr>\n",
       "  </thead>\n",
       "  <tbody>\n",
       "    <tr>\n",
       "      <th>операции с недвижимостью</th>\n",
       "      <td>10029</td>\n",
       "      <td>782</td>\n",
       "      <td>7.233373</td>\n",
       "    </tr>\n",
       "    <tr>\n",
       "      <th>проведение свадьбы</th>\n",
       "      <td>2138</td>\n",
       "      <td>186</td>\n",
       "      <td>8.003442</td>\n",
       "    </tr>\n",
       "    <tr>\n",
       "      <th>получение образования</th>\n",
       "      <td>3643</td>\n",
       "      <td>370</td>\n",
       "      <td>9.220035</td>\n",
       "    </tr>\n",
       "    <tr>\n",
       "      <th>операции с автомобилем</th>\n",
       "      <td>3903</td>\n",
       "      <td>403</td>\n",
       "      <td>9.359034</td>\n",
       "    </tr>\n",
       "  </tbody>\n",
       "</table>\n",
       "</div>"
      ],
      "text/plain": [
       "debt                          0    1   percent\n",
       "purpose_category                              \n",
       "операции с недвижимостью  10029  782  7.233373\n",
       "проведение свадьбы         2138  186  8.003442\n",
       "получение образования      3643  370  9.220035\n",
       "операции с автомобилем     3903  403  9.359034"
      ]
     },
     "execution_count": 124,
     "metadata": {},
     "output_type": "execute_result"
    }
   ],
   "source": [
    "# Вывод сводной таблицы с сортировокй по процентам\n",
    "df_pivot_purpose.sort_values(by='percent')"
   ]
  },
  {
   "cell_type": "markdown",
   "id": "1f3606fc",
   "metadata": {},
   "source": [
    "<div class=\"alert alert-block alert-warning\">\n",
    "\n",
    "<span style=\"color:green\"><font size=\"3\"><b>Промежуточные выводы 10:</b></span>\n",
    "\n",
    "<span style=\"color:steelblue\"><font size=\"2\"><b>1. Операции с недвижимостью занимают большую часть займов. В виду высокой стоимости недвижимости заёмщики подходят основательно к данной операции, поэтому и процент задолженностей самый низкий.\\\n",
    "    2. Проведение свадеб не несёт огромных расходов. У молодожёнов свадьбы часто выстраиваются на окупаемость. Возможно поэтому процент задолженностей занимает второе место.\\\n",
    "    3. В операциях с получением образования возможно займы берут люди с низким доходом, сами студенты с нестабильным источником заработка.\\\n",
    "    4. Самый высокий процент задолженностей в опреациях с автомобилями. Возможно такой займ чаще берут спонтанно, находясь в автосалоне. Также автокредиты берут молодые люди без опыта вождения. Не исключаю влияние высокого уровня аварийности на дорогах.</b></span></div>"
   ]
  },
  {
   "cell_type": "markdown",
   "id": "a5ce9e6b",
   "metadata": {},
   "source": [
    "## Общий вывод"
   ]
  },
  {
   "cell_type": "markdown",
   "id": "aa2ffc7b",
   "metadata": {},
   "source": [
    "<div class=\"alert alert-block alert-warning\">\n",
    "\n",
    "<span style=\"color:green\"><font size=\"3\"><b>В ходе исследования выявлена зависимость количества детей, семейного положения, дохода, цели займа с количеством задолженностей по платежу.\\\n",
    "    В целом больших интервалов по проценту задолженностей между категориями не выявлено. Риски существуют во всех категориях.\\\n",
    "    Идеальным заёмщиком является вдовец/вдова без детей, с уровнем дохода 30001-50000 либо 200001-1000000, нацеленный на операцию с недвижимостью, и которого в трудную минуту может поддержать другой вдовец/вдова.**</b></span></div>"
   ]
  }
 ],
 "metadata": {
  "ExecuteTimeLog": [
   {
    "duration": 606,
    "start_time": "2022-03-12T14:17:14.888Z"
   },
   {
    "duration": 75,
    "start_time": "2022-03-12T14:22:32.096Z"
   },
   {
    "duration": 87,
    "start_time": "2022-03-12T14:29:13.568Z"
   },
   {
    "duration": 86,
    "start_time": "2022-03-12T14:31:49.359Z"
   },
   {
    "duration": 70,
    "start_time": "2022-03-12T14:34:32.640Z"
   },
   {
    "duration": 11,
    "start_time": "2022-03-12T14:34:45.306Z"
   },
   {
    "duration": 11,
    "start_time": "2022-03-12T14:37:33.001Z"
   },
   {
    "duration": 12,
    "start_time": "2022-03-12T14:39:59.936Z"
   },
   {
    "duration": 12,
    "start_time": "2022-03-12T14:40:16.176Z"
   },
   {
    "duration": 4,
    "start_time": "2022-03-12T14:42:09.713Z"
   },
   {
    "duration": 79,
    "start_time": "2022-03-12T14:43:16.616Z"
   },
   {
    "duration": 686,
    "start_time": "2022-03-13T07:58:05.182Z"
   },
   {
    "duration": 61,
    "start_time": "2022-03-13T08:00:07.382Z"
   },
   {
    "duration": 11,
    "start_time": "2022-03-13T09:18:05.881Z"
   },
   {
    "duration": 3,
    "start_time": "2022-03-13T09:18:08.681Z"
   },
   {
    "duration": 28,
    "start_time": "2022-03-13T09:18:50.589Z"
   },
   {
    "duration": 12,
    "start_time": "2022-03-13T09:18:57.892Z"
   },
   {
    "duration": 10,
    "start_time": "2022-03-13T09:19:12.837Z"
   },
   {
    "duration": 4,
    "start_time": "2022-03-13T09:20:34.864Z"
   },
   {
    "duration": 9,
    "start_time": "2022-03-13T09:20:44.244Z"
   },
   {
    "duration": 9,
    "start_time": "2022-03-13T09:21:53.148Z"
   },
   {
    "duration": 10,
    "start_time": "2022-03-13T09:21:59.700Z"
   },
   {
    "duration": 9,
    "start_time": "2022-03-13T09:22:10.428Z"
   },
   {
    "duration": 9,
    "start_time": "2022-03-13T09:22:11.760Z"
   },
   {
    "duration": 10,
    "start_time": "2022-03-13T09:22:14.144Z"
   },
   {
    "duration": 10,
    "start_time": "2022-03-13T09:22:15.212Z"
   },
   {
    "duration": 10,
    "start_time": "2022-03-13T09:22:19.692Z"
   },
   {
    "duration": 89,
    "start_time": "2022-03-13T09:52:56.197Z"
   },
   {
    "duration": 297,
    "start_time": "2022-03-14T10:51:19.918Z"
   },
   {
    "duration": 656,
    "start_time": "2022-03-14T10:51:27.514Z"
   },
   {
    "duration": 4,
    "start_time": "2022-03-14T10:51:30.758Z"
   },
   {
    "duration": 9,
    "start_time": "2022-03-14T10:51:32.439Z"
   },
   {
    "duration": 10,
    "start_time": "2022-03-14T10:51:35.906Z"
   },
   {
    "duration": 4,
    "start_time": "2022-03-14T10:51:39.503Z"
   },
   {
    "duration": 282,
    "start_time": "2022-03-14T10:51:51.854Z"
   },
   {
    "duration": 18,
    "start_time": "2022-03-14T10:51:55.523Z"
   },
   {
    "duration": 17,
    "start_time": "2022-03-14T10:52:11.947Z"
   },
   {
    "duration": 10,
    "start_time": "2022-03-14T10:52:20.430Z"
   },
   {
    "duration": 10,
    "start_time": "2022-03-14T10:52:28.210Z"
   },
   {
    "duration": 10,
    "start_time": "2022-03-14T10:52:41.242Z"
   },
   {
    "duration": 3,
    "start_time": "2022-03-14T11:03:51.026Z"
   },
   {
    "duration": 26,
    "start_time": "2022-03-14T11:48:55.332Z"
   },
   {
    "duration": 12,
    "start_time": "2022-03-14T11:49:05.833Z"
   },
   {
    "duration": 9,
    "start_time": "2022-03-14T11:49:13.739Z"
   },
   {
    "duration": 64,
    "start_time": "2022-03-14T11:49:45.055Z"
   },
   {
    "duration": 4,
    "start_time": "2022-03-14T11:49:49.075Z"
   },
   {
    "duration": 10,
    "start_time": "2022-03-14T11:49:51.111Z"
   },
   {
    "duration": 8,
    "start_time": "2022-03-14T11:49:53.731Z"
   },
   {
    "duration": 16,
    "start_time": "2022-03-14T11:53:58.015Z"
   },
   {
    "duration": 14,
    "start_time": "2022-03-14T11:54:19.999Z"
   },
   {
    "duration": 14,
    "start_time": "2022-03-14T12:15:32.394Z"
   },
   {
    "duration": 30,
    "start_time": "2022-03-14T13:18:03.034Z"
   },
   {
    "duration": 447,
    "start_time": "2022-03-14T13:19:31.582Z"
   },
   {
    "duration": 17,
    "start_time": "2022-03-14T13:19:42.575Z"
   },
   {
    "duration": 28,
    "start_time": "2022-03-14T13:20:04.934Z"
   },
   {
    "duration": 13,
    "start_time": "2022-03-14T13:27:15.206Z"
   },
   {
    "duration": 42,
    "start_time": "2022-03-14T13:31:29.786Z"
   },
   {
    "duration": 30,
    "start_time": "2022-03-14T13:31:51.682Z"
   },
   {
    "duration": 16,
    "start_time": "2022-03-14T13:31:59.433Z"
   },
   {
    "duration": 13,
    "start_time": "2022-03-14T13:32:06.362Z"
   },
   {
    "duration": 10,
    "start_time": "2022-03-14T13:32:40.089Z"
   },
   {
    "duration": 9,
    "start_time": "2022-03-14T13:34:56.945Z"
   },
   {
    "duration": 30,
    "start_time": "2022-03-14T13:35:01.373Z"
   },
   {
    "duration": 10,
    "start_time": "2022-03-14T13:35:06.472Z"
   },
   {
    "duration": 9,
    "start_time": "2022-03-14T13:35:26.269Z"
   },
   {
    "duration": 9,
    "start_time": "2022-03-14T13:35:35.501Z"
   },
   {
    "duration": 9,
    "start_time": "2022-03-14T13:35:39.713Z"
   },
   {
    "duration": 9,
    "start_time": "2022-03-14T13:35:41.993Z"
   },
   {
    "duration": 59,
    "start_time": "2022-03-14T13:35:45.883Z"
   },
   {
    "duration": 4,
    "start_time": "2022-03-14T13:35:50.041Z"
   },
   {
    "duration": 10,
    "start_time": "2022-03-14T13:35:52.597Z"
   },
   {
    "duration": 9,
    "start_time": "2022-03-14T13:35:55.089Z"
   },
   {
    "duration": 29,
    "start_time": "2022-03-14T13:36:03.961Z"
   },
   {
    "duration": 6,
    "start_time": "2022-03-14T13:38:12.505Z"
   },
   {
    "duration": 16,
    "start_time": "2022-03-14T13:41:06.485Z"
   },
   {
    "duration": 35,
    "start_time": "2022-03-14T13:41:28.193Z"
   },
   {
    "duration": 14,
    "start_time": "2022-03-14T13:46:27.092Z"
   },
   {
    "duration": 29,
    "start_time": "2022-03-14T13:48:24.384Z"
   },
   {
    "duration": 13,
    "start_time": "2022-03-14T13:48:48.948Z"
   },
   {
    "duration": 18,
    "start_time": "2022-03-14T13:51:35.492Z"
   },
   {
    "duration": 31,
    "start_time": "2022-03-14T13:52:33.152Z"
   },
   {
    "duration": 4,
    "start_time": "2022-03-14T13:54:18.876Z"
   },
   {
    "duration": 4,
    "start_time": "2022-03-14T13:54:59.812Z"
   },
   {
    "duration": 4,
    "start_time": "2022-03-14T13:56:03.891Z"
   },
   {
    "duration": 11,
    "start_time": "2022-03-14T13:56:37.288Z"
   },
   {
    "duration": 14,
    "start_time": "2022-03-14T13:56:46.184Z"
   },
   {
    "duration": 11,
    "start_time": "2022-03-14T13:58:23.907Z"
   },
   {
    "duration": 28,
    "start_time": "2022-03-14T14:05:53.478Z"
   },
   {
    "duration": 5,
    "start_time": "2022-03-14T14:06:57.975Z"
   },
   {
    "duration": 17,
    "start_time": "2022-03-14T14:08:20.354Z"
   },
   {
    "duration": 13,
    "start_time": "2022-03-14T14:08:28.127Z"
   },
   {
    "duration": 14,
    "start_time": "2022-03-14T14:08:32.687Z"
   },
   {
    "duration": 61,
    "start_time": "2022-03-14T14:26:17.753Z"
   },
   {
    "duration": 4,
    "start_time": "2022-03-14T14:26:20.325Z"
   },
   {
    "duration": 10,
    "start_time": "2022-03-14T14:26:22.233Z"
   },
   {
    "duration": 8,
    "start_time": "2022-03-14T14:26:24.857Z"
   },
   {
    "duration": 6,
    "start_time": "2022-03-14T14:26:34.813Z"
   },
   {
    "duration": 11,
    "start_time": "2022-03-14T14:26:37.381Z"
   },
   {
    "duration": 31,
    "start_time": "2022-03-14T14:26:42.093Z"
   },
   {
    "duration": 14,
    "start_time": "2022-03-14T14:26:45.345Z"
   },
   {
    "duration": 13,
    "start_time": "2022-03-14T14:27:08.121Z"
   },
   {
    "duration": 34,
    "start_time": "2022-03-14T14:27:10.169Z"
   },
   {
    "duration": 14,
    "start_time": "2022-03-14T14:32:38.472Z"
   },
   {
    "duration": 15,
    "start_time": "2022-03-14T14:33:05.505Z"
   },
   {
    "duration": 89,
    "start_time": "2022-03-14T14:33:22.040Z"
   },
   {
    "duration": 14,
    "start_time": "2022-03-14T14:33:39.048Z"
   },
   {
    "duration": 29,
    "start_time": "2022-03-14T14:33:54.760Z"
   },
   {
    "duration": 14,
    "start_time": "2022-03-14T14:34:54.168Z"
   },
   {
    "duration": 7,
    "start_time": "2022-03-14T15:11:56.798Z"
   },
   {
    "duration": 7,
    "start_time": "2022-03-14T15:13:23.001Z"
   },
   {
    "duration": 124,
    "start_time": "2022-03-14T15:14:52.025Z"
   },
   {
    "duration": 6,
    "start_time": "2022-03-14T15:16:13.469Z"
   },
   {
    "duration": 6,
    "start_time": "2022-03-14T15:19:12.893Z"
   },
   {
    "duration": 11,
    "start_time": "2022-03-14T15:20:40.155Z"
   },
   {
    "duration": 7,
    "start_time": "2022-03-14T15:24:36.976Z"
   },
   {
    "duration": 31,
    "start_time": "2022-03-14T15:43:39.646Z"
   },
   {
    "duration": 13,
    "start_time": "2022-03-14T15:53:25.770Z"
   },
   {
    "duration": 12,
    "start_time": "2022-03-14T15:56:49.626Z"
   },
   {
    "duration": 30,
    "start_time": "2022-03-14T15:59:15.429Z"
   },
   {
    "duration": 550,
    "start_time": "2022-03-14T16:09:58.741Z"
   },
   {
    "duration": 23,
    "start_time": "2022-03-14T16:10:06.561Z"
   },
   {
    "duration": 22,
    "start_time": "2022-03-14T16:10:11.557Z"
   },
   {
    "duration": 25,
    "start_time": "2022-03-14T16:10:15.641Z"
   },
   {
    "duration": 28,
    "start_time": "2022-03-14T16:10:26.001Z"
   },
   {
    "duration": 29,
    "start_time": "2022-03-14T16:11:28.109Z"
   },
   {
    "duration": 454,
    "start_time": "2022-03-14T16:12:36.481Z"
   },
   {
    "duration": 42,
    "start_time": "2022-03-14T16:13:01.559Z"
   },
   {
    "duration": 28,
    "start_time": "2022-03-14T16:15:00.114Z"
   },
   {
    "duration": 29,
    "start_time": "2022-03-14T16:15:03.432Z"
   },
   {
    "duration": 48,
    "start_time": "2022-03-14T16:15:21.353Z"
   },
   {
    "duration": 48,
    "start_time": "2022-03-14T16:15:33.557Z"
   },
   {
    "duration": 16,
    "start_time": "2022-03-14T16:16:33.080Z"
   },
   {
    "duration": 20,
    "start_time": "2022-03-14T16:16:39.488Z"
   },
   {
    "duration": 27,
    "start_time": "2022-03-14T16:17:02.680Z"
   },
   {
    "duration": 1114,
    "start_time": "2022-03-15T10:12:28.364Z"
   },
   {
    "duration": 5,
    "start_time": "2022-03-15T10:12:36.387Z"
   },
   {
    "duration": 15,
    "start_time": "2022-03-15T10:12:38.599Z"
   },
   {
    "duration": 18,
    "start_time": "2022-03-15T10:12:41.703Z"
   },
   {
    "duration": 10,
    "start_time": "2022-03-15T10:12:46.808Z"
   },
   {
    "duration": 18,
    "start_time": "2022-03-15T10:12:49.379Z"
   },
   {
    "duration": 7,
    "start_time": "2022-03-15T10:13:00.540Z"
   },
   {
    "duration": 8,
    "start_time": "2022-03-15T10:13:08.559Z"
   },
   {
    "duration": 17,
    "start_time": "2022-03-15T10:13:14.807Z"
   },
   {
    "duration": 24,
    "start_time": "2022-03-15T10:13:58.707Z"
   },
   {
    "duration": 56,
    "start_time": "2022-03-15T10:14:01.151Z"
   },
   {
    "duration": 9,
    "start_time": "2022-03-15T10:14:06.611Z"
   },
   {
    "duration": 17,
    "start_time": "2022-03-15T10:14:09.395Z"
   },
   {
    "duration": 13,
    "start_time": "2022-03-15T10:14:12.159Z"
   },
   {
    "duration": 18,
    "start_time": "2022-03-15T10:14:14.943Z"
   },
   {
    "duration": 10,
    "start_time": "2022-03-15T10:14:20.267Z"
   },
   {
    "duration": 18,
    "start_time": "2022-03-15T10:14:47.767Z"
   },
   {
    "duration": 50,
    "start_time": "2022-03-15T10:14:54.075Z"
   },
   {
    "duration": 55,
    "start_time": "2022-03-15T10:15:09.259Z"
   },
   {
    "duration": 71,
    "start_time": "2022-03-15T10:27:34.219Z"
   },
   {
    "duration": 50,
    "start_time": "2022-03-15T11:09:45.999Z"
   },
   {
    "duration": 51,
    "start_time": "2022-03-15T11:10:05.242Z"
   },
   {
    "duration": 422,
    "start_time": "2022-03-15T11:11:00.731Z"
   },
   {
    "duration": 387,
    "start_time": "2022-03-15T11:11:24.994Z"
   },
   {
    "duration": 51,
    "start_time": "2022-03-15T11:11:37.267Z"
   },
   {
    "duration": 7,
    "start_time": "2022-03-16T08:51:41.103Z"
   },
   {
    "duration": 908,
    "start_time": "2022-03-16T08:51:47.918Z"
   },
   {
    "duration": 6,
    "start_time": "2022-03-16T08:51:59.225Z"
   },
   {
    "duration": 15,
    "start_time": "2022-03-16T08:52:01.362Z"
   },
   {
    "duration": 15,
    "start_time": "2022-03-16T08:52:04.058Z"
   },
   {
    "duration": 10,
    "start_time": "2022-03-16T08:52:08.556Z"
   },
   {
    "duration": 17,
    "start_time": "2022-03-16T08:52:11.982Z"
   },
   {
    "duration": 25,
    "start_time": "2022-03-16T08:52:14.559Z"
   },
   {
    "duration": 83,
    "start_time": "2022-03-16T08:52:19.798Z"
   },
   {
    "duration": 14,
    "start_time": "2022-03-16T08:52:43.090Z"
   },
   {
    "duration": 13,
    "start_time": "2022-03-16T08:52:45.918Z"
   },
   {
    "duration": 11,
    "start_time": "2022-03-16T08:52:49.761Z"
   },
   {
    "duration": 18,
    "start_time": "2022-03-16T08:52:51.914Z"
   },
   {
    "duration": 12,
    "start_time": "2022-03-16T08:52:59.409Z"
   },
   {
    "duration": 20,
    "start_time": "2022-03-16T08:53:15.009Z"
   },
   {
    "duration": 395,
    "start_time": "2022-03-16T09:02:41.125Z"
   },
   {
    "duration": 10,
    "start_time": "2022-03-16T09:02:56.472Z"
   },
   {
    "duration": 9,
    "start_time": "2022-03-16T09:02:59.161Z"
   },
   {
    "duration": 16,
    "start_time": "2022-03-16T09:03:08.792Z"
   },
   {
    "duration": 17,
    "start_time": "2022-03-16T09:03:49.008Z"
   },
   {
    "duration": 67,
    "start_time": "2022-03-16T09:04:09.119Z"
   },
   {
    "duration": 72,
    "start_time": "2022-03-16T09:04:17.653Z"
   },
   {
    "duration": 78,
    "start_time": "2022-03-16T09:04:20.300Z"
   },
   {
    "duration": 23,
    "start_time": "2022-03-16T09:04:25.973Z"
   },
   {
    "duration": 92,
    "start_time": "2022-03-16T09:04:39.540Z"
   },
   {
    "duration": 5,
    "start_time": "2022-03-16T09:04:42.302Z"
   },
   {
    "duration": 14,
    "start_time": "2022-03-16T09:04:44.304Z"
   },
   {
    "duration": 17,
    "start_time": "2022-03-16T09:04:47.160Z"
   },
   {
    "duration": 10,
    "start_time": "2022-03-16T09:04:50.556Z"
   },
   {
    "duration": 17,
    "start_time": "2022-03-16T09:04:53.946Z"
   },
   {
    "duration": 29,
    "start_time": "2022-03-16T09:04:56.040Z"
   },
   {
    "duration": 60,
    "start_time": "2022-03-16T09:04:58.400Z"
   },
   {
    "duration": 11,
    "start_time": "2022-03-16T09:05:02.580Z"
   },
   {
    "duration": 10,
    "start_time": "2022-03-16T09:05:05.508Z"
   },
   {
    "duration": 14,
    "start_time": "2022-03-16T09:05:07.352Z"
   },
   {
    "duration": 19,
    "start_time": "2022-03-16T09:05:09.532Z"
   },
   {
    "duration": 10,
    "start_time": "2022-03-16T09:05:11.960Z"
   },
   {
    "duration": 18,
    "start_time": "2022-03-16T09:05:15.268Z"
   },
   {
    "duration": 53,
    "start_time": "2022-03-16T09:05:17.949Z"
   },
   {
    "duration": 59,
    "start_time": "2022-03-16T09:05:21.408Z"
   },
   {
    "duration": 19,
    "start_time": "2022-03-16T09:05:27.884Z"
   },
   {
    "duration": 21,
    "start_time": "2022-03-16T09:07:55.608Z"
   },
   {
    "duration": 24,
    "start_time": "2022-03-16T09:26:03.936Z"
   },
   {
    "duration": 26,
    "start_time": "2022-03-16T09:32:04.065Z"
   },
   {
    "duration": 29,
    "start_time": "2022-03-16T09:33:21.277Z"
   },
   {
    "duration": 44,
    "start_time": "2022-03-16T13:11:33.769Z"
   },
   {
    "duration": 42,
    "start_time": "2022-03-16T13:11:41.164Z"
   },
   {
    "duration": 25,
    "start_time": "2022-03-16T13:11:50.708Z"
   },
   {
    "duration": 41,
    "start_time": "2022-03-16T13:21:02.713Z"
   },
   {
    "duration": 36,
    "start_time": "2022-03-16T13:21:10.400Z"
   },
   {
    "duration": 62,
    "start_time": "2022-03-16T13:24:25.400Z"
   },
   {
    "duration": 60,
    "start_time": "2022-03-16T13:43:41.763Z"
   },
   {
    "duration": 72,
    "start_time": "2022-03-16T13:56:22.410Z"
   },
   {
    "duration": 69,
    "start_time": "2022-03-16T13:57:12.561Z"
   },
   {
    "duration": 63,
    "start_time": "2022-03-16T14:04:46.521Z"
   },
   {
    "duration": 9,
    "start_time": "2022-03-16T14:10:43.373Z"
   },
   {
    "duration": 39,
    "start_time": "2022-03-16T16:29:57.448Z"
   },
   {
    "duration": 10,
    "start_time": "2022-03-16T16:31:10.720Z"
   },
   {
    "duration": 4,
    "start_time": "2022-03-16T16:42:40.132Z"
   },
   {
    "duration": 23,
    "start_time": "2022-03-16T17:58:46.056Z"
   },
   {
    "duration": 90,
    "start_time": "2022-03-16T17:58:51.214Z"
   },
   {
    "duration": 8,
    "start_time": "2022-03-16T17:58:54.087Z"
   },
   {
    "duration": 21,
    "start_time": "2022-03-16T17:58:56.646Z"
   },
   {
    "duration": 18,
    "start_time": "2022-03-16T17:58:59.318Z"
   },
   {
    "duration": 11,
    "start_time": "2022-03-16T17:59:03.127Z"
   },
   {
    "duration": 14,
    "start_time": "2022-03-16T17:59:05.522Z"
   },
   {
    "duration": 24,
    "start_time": "2022-03-16T17:59:07.802Z"
   },
   {
    "duration": 54,
    "start_time": "2022-03-16T17:59:09.786Z"
   },
   {
    "duration": 11,
    "start_time": "2022-03-16T17:59:23.410Z"
   },
   {
    "duration": 8,
    "start_time": "2022-03-16T17:59:49.358Z"
   },
   {
    "duration": 10,
    "start_time": "2022-03-16T18:22:15.364Z"
   },
   {
    "duration": 9,
    "start_time": "2022-03-16T18:22:18.850Z"
   },
   {
    "duration": 9,
    "start_time": "2022-03-16T18:22:21.125Z"
   },
   {
    "duration": 18,
    "start_time": "2022-03-16T18:22:24.089Z"
   },
   {
    "duration": 11,
    "start_time": "2022-03-16T18:22:27.452Z"
   },
   {
    "duration": 19,
    "start_time": "2022-03-16T18:22:39.308Z"
   },
   {
    "duration": 46,
    "start_time": "2022-03-16T18:22:45.501Z"
   },
   {
    "duration": 13,
    "start_time": "2022-03-16T18:24:09.932Z"
   },
   {
    "duration": 50,
    "start_time": "2022-03-16T18:24:16.360Z"
   },
   {
    "duration": 53,
    "start_time": "2022-03-16T18:31:45.443Z"
   },
   {
    "duration": 7,
    "start_time": "2022-03-16T18:41:00.291Z"
   },
   {
    "duration": 18,
    "start_time": "2022-03-16T18:41:10.091Z"
   },
   {
    "duration": 12,
    "start_time": "2022-03-16T18:41:12.823Z"
   },
   {
    "duration": 26,
    "start_time": "2022-03-16T18:43:23.067Z"
   },
   {
    "duration": 13,
    "start_time": "2022-03-16T18:43:25.351Z"
   },
   {
    "duration": 50,
    "start_time": "2022-03-16T18:43:30.575Z"
   },
   {
    "duration": 55,
    "start_time": "2022-03-16T18:43:36.328Z"
   },
   {
    "duration": 16,
    "start_time": "2022-03-16T18:43:52.675Z"
   },
   {
    "duration": 17,
    "start_time": "2022-03-16T18:43:55.647Z"
   },
   {
    "duration": 292,
    "start_time": "2022-03-16T18:44:11.095Z"
   },
   {
    "duration": 17,
    "start_time": "2022-03-16T18:44:17.083Z"
   },
   {
    "duration": 29,
    "start_time": "2022-03-16T18:44:25.887Z"
   },
   {
    "duration": 61,
    "start_time": "2022-03-16T18:44:46.928Z"
   },
   {
    "duration": 9,
    "start_time": "2022-03-16T18:44:51.748Z"
   },
   {
    "duration": 36,
    "start_time": "2022-03-16T18:44:55.879Z"
   },
   {
    "duration": 10,
    "start_time": "2022-03-16T18:45:35.791Z"
   },
   {
    "duration": 547,
    "start_time": "2022-03-17T08:25:22.571Z"
   },
   {
    "duration": 4,
    "start_time": "2022-03-17T08:26:56.113Z"
   },
   {
    "duration": 17,
    "start_time": "2022-03-17T08:26:59.201Z"
   },
   {
    "duration": 12,
    "start_time": "2022-03-17T08:27:04.961Z"
   },
   {
    "duration": 8,
    "start_time": "2022-03-17T08:27:10.273Z"
   },
   {
    "duration": 11,
    "start_time": "2022-03-17T08:27:12.944Z"
   },
   {
    "duration": 25,
    "start_time": "2022-03-17T08:27:15.568Z"
   },
   {
    "duration": 37,
    "start_time": "2022-03-17T08:27:20.229Z"
   },
   {
    "duration": 6,
    "start_time": "2022-03-17T08:27:51.309Z"
   },
   {
    "duration": 8,
    "start_time": "2022-03-17T08:27:53.733Z"
   },
   {
    "duration": 8,
    "start_time": "2022-03-17T08:27:56.737Z"
   },
   {
    "duration": 8,
    "start_time": "2022-03-17T08:27:59.041Z"
   },
   {
    "duration": 5,
    "start_time": "2022-03-17T08:28:01.573Z"
   },
   {
    "duration": 15,
    "start_time": "2022-03-17T08:28:03.689Z"
   },
   {
    "duration": 17,
    "start_time": "2022-03-17T08:28:07.925Z"
   },
   {
    "duration": 12,
    "start_time": "2022-03-17T08:28:17.601Z"
   },
   {
    "duration": 35,
    "start_time": "2022-03-17T08:28:26.061Z"
   },
   {
    "duration": 43,
    "start_time": "2022-03-17T08:28:31.133Z"
   },
   {
    "duration": 15,
    "start_time": "2022-03-17T08:28:36.081Z"
   },
   {
    "duration": 15,
    "start_time": "2022-03-17T08:28:38.706Z"
   },
   {
    "duration": 20,
    "start_time": "2022-03-17T08:28:41.577Z"
   },
   {
    "duration": 37,
    "start_time": "2022-03-17T08:28:47.962Z"
   },
   {
    "duration": 7,
    "start_time": "2022-03-17T08:28:53.662Z"
   },
   {
    "duration": 25,
    "start_time": "2022-03-17T08:28:56.978Z"
   },
   {
    "duration": 9,
    "start_time": "2022-03-17T08:29:00.654Z"
   },
   {
    "duration": 19,
    "start_time": "2022-03-17T08:40:54.285Z"
   },
   {
    "duration": 80,
    "start_time": "2022-03-17T10:43:46.477Z"
   },
   {
    "duration": 5,
    "start_time": "2022-03-17T10:43:49.285Z"
   },
   {
    "duration": 18,
    "start_time": "2022-03-17T10:43:51.393Z"
   },
   {
    "duration": 14,
    "start_time": "2022-03-17T10:43:55.005Z"
   },
   {
    "duration": 7,
    "start_time": "2022-03-17T10:43:59.021Z"
   },
   {
    "duration": 12,
    "start_time": "2022-03-17T10:44:04.081Z"
   },
   {
    "duration": 29,
    "start_time": "2022-03-17T10:44:06.357Z"
   },
   {
    "duration": 37,
    "start_time": "2022-03-17T10:44:08.557Z"
   },
   {
    "duration": 7,
    "start_time": "2022-03-17T10:44:12.485Z"
   },
   {
    "duration": 8,
    "start_time": "2022-03-17T10:44:15.077Z"
   },
   {
    "duration": 8,
    "start_time": "2022-03-17T10:44:17.709Z"
   },
   {
    "duration": 9,
    "start_time": "2022-03-17T10:44:20.013Z"
   },
   {
    "duration": 14,
    "start_time": "2022-03-17T10:44:21.713Z"
   },
   {
    "duration": 5,
    "start_time": "2022-03-17T10:44:24.385Z"
   },
   {
    "duration": 9,
    "start_time": "2022-03-17T10:44:26.673Z"
   },
   {
    "duration": 21,
    "start_time": "2022-03-17T10:44:33.061Z"
   },
   {
    "duration": 10,
    "start_time": "2022-03-17T10:44:36.416Z"
   },
   {
    "duration": 38,
    "start_time": "2022-03-17T10:44:49.689Z"
   },
   {
    "duration": 41,
    "start_time": "2022-03-17T10:44:52.593Z"
   },
   {
    "duration": 15,
    "start_time": "2022-03-17T10:44:59.856Z"
   },
   {
    "duration": 13,
    "start_time": "2022-03-17T10:45:07.897Z"
   },
   {
    "duration": 18,
    "start_time": "2022-03-17T10:45:11.625Z"
   },
   {
    "duration": 47,
    "start_time": "2022-03-17T10:47:22.280Z"
   },
   {
    "duration": 11,
    "start_time": "2022-03-17T10:47:27.916Z"
   },
   {
    "duration": 26,
    "start_time": "2022-03-17T10:49:16.860Z"
   },
   {
    "duration": 10,
    "start_time": "2022-03-17T10:49:33.547Z"
   },
   {
    "duration": 105,
    "start_time": "2022-03-17T12:17:43.535Z"
   },
   {
    "duration": 24,
    "start_time": "2022-03-17T12:18:33.234Z"
   },
   {
    "duration": 24,
    "start_time": "2022-03-17T12:19:41.446Z"
   },
   {
    "duration": 22,
    "start_time": "2022-03-17T12:21:33.911Z"
   },
   {
    "duration": 55,
    "start_time": "2022-03-17T12:23:18.970Z"
   },
   {
    "duration": 53,
    "start_time": "2022-03-17T12:24:26.032Z"
   },
   {
    "duration": 20,
    "start_time": "2022-03-17T12:25:31.469Z"
   },
   {
    "duration": 19,
    "start_time": "2022-03-17T12:25:53.826Z"
   },
   {
    "duration": 20,
    "start_time": "2022-03-17T12:26:46.261Z"
   },
   {
    "duration": 62,
    "start_time": "2022-03-17T12:30:10.872Z"
   },
   {
    "duration": 51,
    "start_time": "2022-03-17T12:32:57.737Z"
   },
   {
    "duration": 43,
    "start_time": "2022-03-17T12:34:05.293Z"
   },
   {
    "duration": 58,
    "start_time": "2022-03-17T12:34:18.961Z"
   },
   {
    "duration": 81,
    "start_time": "2022-03-17T12:34:55.385Z"
   },
   {
    "duration": 32,
    "start_time": "2022-03-17T12:35:16.149Z"
   },
   {
    "duration": 21,
    "start_time": "2022-03-17T12:36:44.572Z"
   },
   {
    "duration": 21,
    "start_time": "2022-03-17T12:37:39.569Z"
   },
   {
    "duration": 18,
    "start_time": "2022-03-17T12:39:46.423Z"
   },
   {
    "duration": 89,
    "start_time": "2022-03-17T12:40:23.148Z"
   },
   {
    "duration": 16,
    "start_time": "2022-03-17T12:41:02.945Z"
   },
   {
    "duration": 18,
    "start_time": "2022-03-17T12:41:17.145Z"
   },
   {
    "duration": 28,
    "start_time": "2022-03-17T12:41:50.488Z"
   },
   {
    "duration": 18,
    "start_time": "2022-03-17T12:43:14.688Z"
   },
   {
    "duration": 21,
    "start_time": "2022-03-17T12:46:46.884Z"
   },
   {
    "duration": 125,
    "start_time": "2022-03-17T12:47:44.309Z"
   },
   {
    "duration": 139,
    "start_time": "2022-03-17T12:47:51.236Z"
   },
   {
    "duration": 24,
    "start_time": "2022-03-17T12:48:15.789Z"
   },
   {
    "duration": 9,
    "start_time": "2022-03-17T12:48:29.763Z"
   },
   {
    "duration": 12,
    "start_time": "2022-03-17T12:48:38.323Z"
   },
   {
    "duration": 23,
    "start_time": "2022-03-17T12:48:45.076Z"
   },
   {
    "duration": 24,
    "start_time": "2022-03-17T12:49:01.851Z"
   },
   {
    "duration": 20,
    "start_time": "2022-03-17T12:49:30.872Z"
   },
   {
    "duration": 21,
    "start_time": "2022-03-17T12:52:43.448Z"
   },
   {
    "duration": 25,
    "start_time": "2022-03-17T12:53:00.300Z"
   },
   {
    "duration": 20,
    "start_time": "2022-03-17T12:55:08.080Z"
   },
   {
    "duration": 21,
    "start_time": "2022-03-17T12:56:16.220Z"
   },
   {
    "duration": 22,
    "start_time": "2022-03-17T12:57:37.419Z"
   },
   {
    "duration": 25,
    "start_time": "2022-03-17T13:03:18.419Z"
   },
   {
    "duration": 1795,
    "start_time": "2022-03-17T13:03:41.946Z"
   },
   {
    "duration": 2081,
    "start_time": "2022-03-17T13:04:02.308Z"
   },
   {
    "duration": 19,
    "start_time": "2022-03-17T13:04:24.747Z"
   },
   {
    "duration": 26,
    "start_time": "2022-03-17T13:04:30.883Z"
   },
   {
    "duration": 24,
    "start_time": "2022-03-17T13:04:49.118Z"
   },
   {
    "duration": 1870,
    "start_time": "2022-03-17T13:05:01.087Z"
   },
   {
    "duration": 17,
    "start_time": "2022-03-17T13:05:20.279Z"
   },
   {
    "duration": 25,
    "start_time": "2022-03-17T13:05:38.322Z"
   },
   {
    "duration": 28,
    "start_time": "2022-03-17T13:22:39.902Z"
   },
   {
    "duration": 26,
    "start_time": "2022-03-17T13:28:21.002Z"
   },
   {
    "duration": 22,
    "start_time": "2022-03-17T13:28:23.513Z"
   },
   {
    "duration": 21,
    "start_time": "2022-03-17T13:32:12.130Z"
   },
   {
    "duration": 24,
    "start_time": "2022-03-17T13:52:21.955Z"
   },
   {
    "duration": 22,
    "start_time": "2022-03-17T13:57:46.959Z"
   },
   {
    "duration": 21,
    "start_time": "2022-03-17T14:00:00.327Z"
   },
   {
    "duration": 22,
    "start_time": "2022-03-17T14:00:12.186Z"
   },
   {
    "duration": 23,
    "start_time": "2022-03-17T14:01:50.450Z"
   },
   {
    "duration": 22,
    "start_time": "2022-03-17T14:05:58.166Z"
   },
   {
    "duration": 27,
    "start_time": "2022-03-17T15:58:42.494Z"
   },
   {
    "duration": 27,
    "start_time": "2022-03-17T15:59:43.709Z"
   },
   {
    "duration": 23,
    "start_time": "2022-03-17T16:01:11.357Z"
   },
   {
    "duration": 21,
    "start_time": "2022-03-17T16:01:22.654Z"
   },
   {
    "duration": 34,
    "start_time": "2022-03-17T16:01:29.902Z"
   },
   {
    "duration": 24,
    "start_time": "2022-03-17T16:02:06.153Z"
   },
   {
    "duration": 24,
    "start_time": "2022-03-17T16:02:49.457Z"
   },
   {
    "duration": 87,
    "start_time": "2022-03-17T16:17:03.224Z"
   },
   {
    "duration": 4,
    "start_time": "2022-03-17T16:17:51.660Z"
   },
   {
    "duration": 90,
    "start_time": "2022-03-17T16:18:30.480Z"
   },
   {
    "duration": 22,
    "start_time": "2022-03-17T16:53:03.489Z"
   },
   {
    "duration": 86,
    "start_time": "2022-03-17T16:53:10.933Z"
   },
   {
    "duration": 4,
    "start_time": "2022-03-17T16:53:14.273Z"
   },
   {
    "duration": 25,
    "start_time": "2022-03-17T16:53:16.297Z"
   },
   {
    "duration": 12,
    "start_time": "2022-03-17T16:53:18.736Z"
   },
   {
    "duration": 7,
    "start_time": "2022-03-17T16:53:22.612Z"
   },
   {
    "duration": 12,
    "start_time": "2022-03-17T16:53:26.125Z"
   },
   {
    "duration": 20,
    "start_time": "2022-03-17T16:53:28.161Z"
   },
   {
    "duration": 38,
    "start_time": "2022-03-17T16:53:30.241Z"
   },
   {
    "duration": 6,
    "start_time": "2022-03-17T16:53:33.921Z"
   },
   {
    "duration": 9,
    "start_time": "2022-03-17T16:53:38.241Z"
   },
   {
    "duration": 11,
    "start_time": "2022-03-17T16:53:40.598Z"
   },
   {
    "duration": 9,
    "start_time": "2022-03-17T16:53:43.837Z"
   },
   {
    "duration": 14,
    "start_time": "2022-03-17T16:53:45.753Z"
   },
   {
    "duration": 5,
    "start_time": "2022-03-17T16:53:47.787Z"
   },
   {
    "duration": 8,
    "start_time": "2022-03-17T16:53:51.453Z"
   },
   {
    "duration": 18,
    "start_time": "2022-03-17T16:53:56.614Z"
   },
   {
    "duration": 10,
    "start_time": "2022-03-17T16:54:05.512Z"
   },
   {
    "duration": 38,
    "start_time": "2022-03-17T16:54:10.140Z"
   },
   {
    "duration": 41,
    "start_time": "2022-03-17T16:54:13.221Z"
   },
   {
    "duration": 13,
    "start_time": "2022-03-17T16:54:26.341Z"
   },
   {
    "duration": 14,
    "start_time": "2022-03-17T16:54:31.749Z"
   },
   {
    "duration": 18,
    "start_time": "2022-03-17T16:54:35.353Z"
   },
   {
    "duration": 42,
    "start_time": "2022-03-17T16:54:42.837Z"
   },
   {
    "duration": 8,
    "start_time": "2022-03-17T16:54:47.669Z"
   },
   {
    "duration": 27,
    "start_time": "2022-03-17T16:54:57.768Z"
   },
   {
    "duration": 14,
    "start_time": "2022-03-17T16:55:03.306Z"
   },
   {
    "duration": 23,
    "start_time": "2022-03-17T16:55:07.249Z"
   },
   {
    "duration": 21,
    "start_time": "2022-03-17T16:55:10.945Z"
   },
   {
    "duration": 21,
    "start_time": "2022-03-17T16:55:14.544Z"
   },
   {
    "duration": 24,
    "start_time": "2022-03-17T16:55:19.617Z"
   },
   {
    "duration": 86,
    "start_time": "2022-03-17T18:05:46.668Z"
   },
   {
    "duration": 5,
    "start_time": "2022-03-17T18:05:54.020Z"
   },
   {
    "duration": 17,
    "start_time": "2022-03-17T18:05:56.581Z"
   },
   {
    "duration": 13,
    "start_time": "2022-03-17T18:05:59.832Z"
   },
   {
    "duration": 7,
    "start_time": "2022-03-17T18:06:09.164Z"
   },
   {
    "duration": 11,
    "start_time": "2022-03-17T18:06:11.688Z"
   },
   {
    "duration": 19,
    "start_time": "2022-03-17T18:06:14.568Z"
   },
   {
    "duration": 43,
    "start_time": "2022-03-17T18:06:16.795Z"
   },
   {
    "duration": 6,
    "start_time": "2022-03-17T18:06:28.348Z"
   },
   {
    "duration": 9,
    "start_time": "2022-03-17T18:06:31.222Z"
   },
   {
    "duration": 8,
    "start_time": "2022-03-17T18:06:33.380Z"
   },
   {
    "duration": 13,
    "start_time": "2022-03-17T18:06:35.405Z"
   },
   {
    "duration": 17,
    "start_time": "2022-03-17T18:06:38.592Z"
   },
   {
    "duration": 5,
    "start_time": "2022-03-17T18:06:40.516Z"
   },
   {
    "duration": 14,
    "start_time": "2022-03-17T18:06:42.500Z"
   },
   {
    "duration": 19,
    "start_time": "2022-03-17T18:06:46.571Z"
   },
   {
    "duration": 7,
    "start_time": "2022-03-17T18:06:53.452Z"
   },
   {
    "duration": 41,
    "start_time": "2022-03-17T18:06:57.200Z"
   },
   {
    "duration": 51,
    "start_time": "2022-03-17T18:06:59.504Z"
   },
   {
    "duration": 14,
    "start_time": "2022-03-17T18:07:03.124Z"
   },
   {
    "duration": 14,
    "start_time": "2022-03-17T18:07:06.515Z"
   },
   {
    "duration": 18,
    "start_time": "2022-03-17T18:07:09.436Z"
   },
   {
    "duration": 93,
    "start_time": "2022-03-17T18:07:15.792Z"
   },
   {
    "duration": 8,
    "start_time": "2022-03-17T18:07:19.031Z"
   },
   {
    "duration": 35,
    "start_time": "2022-03-17T18:07:22.292Z"
   },
   {
    "duration": 9,
    "start_time": "2022-03-17T18:07:25.588Z"
   },
   {
    "duration": 31,
    "start_time": "2022-03-17T18:08:08.513Z"
   },
   {
    "duration": 29,
    "start_time": "2022-03-17T18:08:13.200Z"
   },
   {
    "duration": 24,
    "start_time": "2022-03-17T18:08:16.123Z"
   },
   {
    "duration": 23,
    "start_time": "2022-03-17T18:08:18.852Z"
   },
   {
    "duration": 450,
    "start_time": "2022-03-28T16:58:04.145Z"
   },
   {
    "duration": 5,
    "start_time": "2022-03-28T16:58:04.598Z"
   },
   {
    "duration": 16,
    "start_time": "2022-03-28T16:58:04.604Z"
   },
   {
    "duration": 10,
    "start_time": "2022-03-28T16:58:04.622Z"
   },
   {
    "duration": 6,
    "start_time": "2022-03-28T16:58:04.634Z"
   },
   {
    "duration": 13,
    "start_time": "2022-03-28T16:58:04.642Z"
   },
   {
    "duration": 17,
    "start_time": "2022-03-28T16:58:04.657Z"
   },
   {
    "duration": 55,
    "start_time": "2022-03-28T16:58:04.676Z"
   },
   {
    "duration": 6,
    "start_time": "2022-03-28T16:58:04.733Z"
   },
   {
    "duration": 7,
    "start_time": "2022-03-28T16:58:04.740Z"
   },
   {
    "duration": 6,
    "start_time": "2022-03-28T16:58:04.749Z"
   },
   {
    "duration": 7,
    "start_time": "2022-03-28T16:58:04.757Z"
   },
   {
    "duration": 45,
    "start_time": "2022-03-28T16:58:04.766Z"
   },
   {
    "duration": 4,
    "start_time": "2022-03-28T16:58:04.814Z"
   },
   {
    "duration": 9,
    "start_time": "2022-03-28T16:58:04.819Z"
   },
   {
    "duration": 22,
    "start_time": "2022-03-28T16:58:04.830Z"
   },
   {
    "duration": 8,
    "start_time": "2022-03-28T16:58:04.854Z"
   },
   {
    "duration": 62,
    "start_time": "2022-03-28T16:58:04.863Z"
   },
   {
    "duration": 39,
    "start_time": "2022-03-28T16:58:04.926Z"
   },
   {
    "duration": 11,
    "start_time": "2022-03-28T16:58:04.967Z"
   },
   {
    "duration": 14,
    "start_time": "2022-03-28T16:58:05.000Z"
   },
   {
    "duration": 18,
    "start_time": "2022-03-28T16:58:05.016Z"
   },
   {
    "duration": 65,
    "start_time": "2022-03-28T16:58:05.036Z"
   },
   {
    "duration": 8,
    "start_time": "2022-03-28T16:58:05.103Z"
   },
   {
    "duration": 25,
    "start_time": "2022-03-28T16:58:05.113Z"
   },
   {
    "duration": 8,
    "start_time": "2022-03-28T16:58:05.140Z"
   },
   {
    "duration": 52,
    "start_time": "2022-03-28T16:58:05.150Z"
   },
   {
    "duration": 20,
    "start_time": "2022-03-28T16:58:05.204Z"
   },
   {
    "duration": 22,
    "start_time": "2022-03-28T16:58:05.226Z"
   },
   {
    "duration": 20,
    "start_time": "2022-03-28T16:58:05.250Z"
   },
   {
    "duration": 19,
    "start_time": "2022-03-28T17:05:51.687Z"
   },
   {
    "duration": 15,
    "start_time": "2022-03-28T17:27:40.718Z"
   },
   {
    "duration": 8,
    "start_time": "2022-03-28T17:27:53.728Z"
   },
   {
    "duration": 401,
    "start_time": "2022-03-29T10:21:22.205Z"
   },
   {
    "duration": 62,
    "start_time": "2022-03-29T10:21:47.001Z"
   },
   {
    "duration": 27,
    "start_time": "2022-03-29T10:21:54.625Z"
   },
   {
    "duration": 103,
    "start_time": "2022-03-29T10:22:43.841Z"
   },
   {
    "duration": 7,
    "start_time": "2022-03-29T10:22:56.189Z"
   },
   {
    "duration": 30,
    "start_time": "2022-03-29T10:23:06.329Z"
   },
   {
    "duration": 28,
    "start_time": "2022-03-29T10:23:46.121Z"
   },
   {
    "duration": 35,
    "start_time": "2022-03-29T11:12:48.186Z"
   },
   {
    "duration": 3,
    "start_time": "2022-03-29T11:12:54.122Z"
   },
   {
    "duration": 70,
    "start_time": "2022-03-29T11:12:56.770Z"
   },
   {
    "duration": 19,
    "start_time": "2022-03-29T11:13:01.337Z"
   },
   {
    "duration": 30,
    "start_time": "2022-03-29T11:13:05.274Z"
   },
   {
    "duration": 28,
    "start_time": "2022-03-29T11:15:20.734Z"
   },
   {
    "duration": 4,
    "start_time": "2022-03-29T11:15:46.150Z"
   },
   {
    "duration": 13,
    "start_time": "2022-03-29T11:15:49.726Z"
   },
   {
    "duration": 11,
    "start_time": "2022-03-29T11:15:52.357Z"
   },
   {
    "duration": 10,
    "start_time": "2022-03-29T11:16:00.618Z"
   },
   {
    "duration": 29,
    "start_time": "2022-03-29T11:24:08.624Z"
   },
   {
    "duration": 4,
    "start_time": "2022-03-29T11:24:09.701Z"
   },
   {
    "duration": 14,
    "start_time": "2022-03-29T11:24:13.185Z"
   },
   {
    "duration": 10,
    "start_time": "2022-03-29T11:24:15.697Z"
   },
   {
    "duration": 3,
    "start_time": "2022-03-29T11:24:39.436Z"
   },
   {
    "duration": 3,
    "start_time": "2022-03-29T11:24:40.024Z"
   },
   {
    "duration": 7,
    "start_time": "2022-03-29T11:24:40.720Z"
   },
   {
    "duration": 12,
    "start_time": "2022-03-29T11:25:05.599Z"
   },
   {
    "duration": 451,
    "start_time": "2022-03-29T12:50:28.204Z"
   },
   {
    "duration": 65,
    "start_time": "2022-03-29T12:50:29.001Z"
   },
   {
    "duration": 28,
    "start_time": "2022-03-29T12:50:31.325Z"
   },
   {
    "duration": 35,
    "start_time": "2022-03-29T12:50:33.989Z"
   },
   {
    "duration": 5,
    "start_time": "2022-03-29T12:50:36.205Z"
   },
   {
    "duration": 19,
    "start_time": "2022-03-29T12:50:39.049Z"
   },
   {
    "duration": 12,
    "start_time": "2022-03-29T12:50:40.725Z"
   },
   {
    "duration": 3,
    "start_time": "2022-03-29T12:50:45.869Z"
   },
   {
    "duration": 3,
    "start_time": "2022-03-29T12:50:47.193Z"
   },
   {
    "duration": 7,
    "start_time": "2022-03-29T12:50:48.685Z"
   },
   {
    "duration": 6,
    "start_time": "2022-03-29T13:03:33.919Z"
   },
   {
    "duration": 14,
    "start_time": "2022-03-29T17:22:00.790Z"
   },
   {
    "duration": 398,
    "start_time": "2022-03-29T17:22:07.786Z"
   },
   {
    "duration": 63,
    "start_time": "2022-03-29T17:22:09.002Z"
   },
   {
    "duration": 29,
    "start_time": "2022-03-29T17:22:09.481Z"
   },
   {
    "duration": 32,
    "start_time": "2022-03-29T17:22:13.270Z"
   },
   {
    "duration": 4,
    "start_time": "2022-03-29T17:22:14.294Z"
   },
   {
    "duration": 18,
    "start_time": "2022-03-29T17:22:15.014Z"
   },
   {
    "duration": 11,
    "start_time": "2022-03-29T17:22:17.917Z"
   },
   {
    "duration": 7,
    "start_time": "2022-03-29T17:22:22.473Z"
   },
   {
    "duration": 4,
    "start_time": "2022-03-29T17:22:26.018Z"
   },
   {
    "duration": 1915,
    "start_time": "2022-03-29T17:22:33.422Z"
   },
   {
    "duration": 7,
    "start_time": "2022-03-29T17:22:43.517Z"
   },
   {
    "duration": 5,
    "start_time": "2022-03-29T17:23:08.109Z"
   },
   {
    "duration": 2,
    "start_time": "2022-03-29T17:23:08.746Z"
   },
   {
    "duration": 5,
    "start_time": "2022-03-29T17:23:09.182Z"
   },
   {
    "duration": 1813,
    "start_time": "2022-03-29T17:23:10.010Z"
   },
   {
    "duration": 11,
    "start_time": "2022-03-29T17:23:21.546Z"
   },
   {
    "duration": 4,
    "start_time": "2022-03-29T17:24:09.422Z"
   },
   {
    "duration": 3,
    "start_time": "2022-03-29T17:24:10.282Z"
   },
   {
    "duration": 1879,
    "start_time": "2022-03-29T17:24:10.818Z"
   },
   {
    "duration": 16,
    "start_time": "2022-03-29T17:24:22.121Z"
   },
   {
    "duration": 5,
    "start_time": "2022-03-29T17:25:02.301Z"
   },
   {
    "duration": 2,
    "start_time": "2022-03-29T17:25:05.590Z"
   },
   {
    "duration": 1805,
    "start_time": "2022-03-29T17:25:05.946Z"
   },
   {
    "duration": 11,
    "start_time": "2022-03-29T17:25:09.810Z"
   },
   {
    "duration": 436,
    "start_time": "2022-03-30T05:58:27.110Z"
   },
   {
    "duration": 64,
    "start_time": "2022-03-30T05:58:27.557Z"
   },
   {
    "duration": 26,
    "start_time": "2022-03-30T05:58:27.989Z"
   },
   {
    "duration": 30,
    "start_time": "2022-03-30T05:58:32.726Z"
   },
   {
    "duration": 4,
    "start_time": "2022-03-30T05:58:34.785Z"
   },
   {
    "duration": 16,
    "start_time": "2022-03-30T05:58:35.129Z"
   },
   {
    "duration": 10,
    "start_time": "2022-03-30T05:58:35.670Z"
   },
   {
    "duration": 22,
    "start_time": "2022-03-30T05:58:39.593Z"
   },
   {
    "duration": 22,
    "start_time": "2022-03-30T06:01:33.205Z"
   },
   {
    "duration": 8,
    "start_time": "2022-03-30T06:06:26.436Z"
   },
   {
    "duration": 5,
    "start_time": "2022-03-30T06:06:54.000Z"
   },
   {
    "duration": 64,
    "start_time": "2022-03-30T06:08:55.539Z"
   },
   {
    "duration": 8,
    "start_time": "2022-03-30T06:10:10.571Z"
   },
   {
    "duration": 1546,
    "start_time": "2022-03-30T06:23:27.888Z"
   },
   {
    "duration": 1606,
    "start_time": "2022-03-30T06:24:27.212Z"
   },
   {
    "duration": 1620,
    "start_time": "2022-03-30T06:26:30.844Z"
   },
   {
    "duration": 23,
    "start_time": "2022-03-30T06:26:32.732Z"
   },
   {
    "duration": 1486,
    "start_time": "2022-03-30T06:27:05.760Z"
   },
   {
    "duration": 20,
    "start_time": "2022-03-30T06:27:07.972Z"
   },
   {
    "duration": 9,
    "start_time": "2022-03-30T06:28:27.908Z"
   },
   {
    "duration": 1390,
    "start_time": "2022-03-30T06:29:38.428Z"
   },
   {
    "duration": 20,
    "start_time": "2022-03-30T06:29:44.243Z"
   },
   {
    "duration": 1485,
    "start_time": "2022-03-30T06:30:52.539Z"
   },
   {
    "duration": 19,
    "start_time": "2022-03-30T06:30:54.816Z"
   },
   {
    "duration": 1896,
    "start_time": "2022-03-30T06:31:32.259Z"
   },
   {
    "duration": 9,
    "start_time": "2022-03-30T06:31:35.183Z"
   },
   {
    "duration": 8,
    "start_time": "2022-03-30T06:31:46.771Z"
   },
   {
    "duration": 10,
    "start_time": "2022-03-30T06:32:41.987Z"
   },
   {
    "duration": 8,
    "start_time": "2022-03-30T06:33:16.195Z"
   },
   {
    "duration": 10,
    "start_time": "2022-03-30T06:34:45.843Z"
   },
   {
    "duration": 838,
    "start_time": "2022-03-30T06:38:19.910Z"
   },
   {
    "duration": 8,
    "start_time": "2022-03-30T06:41:08.795Z"
   },
   {
    "duration": 10,
    "start_time": "2022-03-30T06:43:28.215Z"
   },
   {
    "duration": 11,
    "start_time": "2022-03-30T06:45:49.020Z"
   },
   {
    "duration": 748,
    "start_time": "2022-03-30T06:46:33.996Z"
   },
   {
    "duration": 902,
    "start_time": "2022-03-30T06:47:23.440Z"
   },
   {
    "duration": 5,
    "start_time": "2022-03-30T06:49:47.640Z"
   },
   {
    "duration": 9,
    "start_time": "2022-03-30T06:49:56.259Z"
   },
   {
    "duration": 22,
    "start_time": "2022-03-30T06:50:07.752Z"
   },
   {
    "duration": 21,
    "start_time": "2022-03-30T06:51:00.412Z"
   },
   {
    "duration": 21,
    "start_time": "2022-03-30T06:51:25.176Z"
   },
   {
    "duration": 30,
    "start_time": "2022-03-30T06:52:18.132Z"
   },
   {
    "duration": 3,
    "start_time": "2022-03-30T06:52:39.485Z"
   },
   {
    "duration": 61,
    "start_time": "2022-03-30T06:52:40.100Z"
   },
   {
    "duration": 20,
    "start_time": "2022-03-30T06:52:41.080Z"
   },
   {
    "duration": 30,
    "start_time": "2022-03-30T06:52:41.996Z"
   },
   {
    "duration": 4,
    "start_time": "2022-03-30T06:52:42.839Z"
   },
   {
    "duration": 14,
    "start_time": "2022-03-30T06:52:43.436Z"
   },
   {
    "duration": 10,
    "start_time": "2022-03-30T06:52:47.092Z"
   },
   {
    "duration": 20,
    "start_time": "2022-03-30T06:52:51.084Z"
   },
   {
    "duration": 23,
    "start_time": "2022-03-30T06:52:55.224Z"
   },
   {
    "duration": 5,
    "start_time": "2022-03-30T06:53:07.292Z"
   },
   {
    "duration": 21,
    "start_time": "2022-03-30T06:53:10.991Z"
   },
   {
    "duration": 11,
    "start_time": "2022-03-30T06:53:35.235Z"
   },
   {
    "duration": 19,
    "start_time": "2022-03-30T06:53:40.512Z"
   },
   {
    "duration": 21,
    "start_time": "2022-03-30T06:54:41.259Z"
   },
   {
    "duration": 19,
    "start_time": "2022-03-30T06:54:56.832Z"
   },
   {
    "duration": 17,
    "start_time": "2022-03-30T06:55:09.028Z"
   },
   {
    "duration": 17,
    "start_time": "2022-03-30T06:56:05.760Z"
   },
   {
    "duration": 108,
    "start_time": "2022-03-30T06:57:19.368Z"
   },
   {
    "duration": 18,
    "start_time": "2022-03-30T06:57:34.024Z"
   },
   {
    "duration": 8,
    "start_time": "2022-03-30T06:57:51.836Z"
   },
   {
    "duration": 18,
    "start_time": "2022-03-30T06:59:35.195Z"
   },
   {
    "duration": 19,
    "start_time": "2022-03-30T07:01:31.092Z"
   },
   {
    "duration": 9,
    "start_time": "2022-03-30T07:01:44.504Z"
   },
   {
    "duration": 9,
    "start_time": "2022-03-30T07:01:50.743Z"
   },
   {
    "duration": 20,
    "start_time": "2022-03-30T07:01:57.919Z"
   },
   {
    "duration": 18,
    "start_time": "2022-03-30T07:02:06.158Z"
   },
   {
    "duration": 20,
    "start_time": "2022-03-30T07:05:58.515Z"
   },
   {
    "duration": 19,
    "start_time": "2022-03-30T07:06:30.423Z"
   },
   {
    "duration": 4,
    "start_time": "2022-03-30T07:06:57.219Z"
   },
   {
    "duration": 19,
    "start_time": "2022-03-30T07:07:06.667Z"
   },
   {
    "duration": 8,
    "start_time": "2022-03-30T07:14:53.878Z"
   },
   {
    "duration": 20,
    "start_time": "2022-03-30T07:15:19.809Z"
   },
   {
    "duration": 17,
    "start_time": "2022-03-30T07:15:32.202Z"
   },
   {
    "duration": 4,
    "start_time": "2022-03-30T07:15:48.134Z"
   },
   {
    "duration": 17,
    "start_time": "2022-03-30T07:15:51.358Z"
   },
   {
    "duration": 18,
    "start_time": "2022-03-30T07:18:32.101Z"
   },
   {
    "duration": 1376,
    "start_time": "2022-03-30T07:55:13.788Z"
   },
   {
    "duration": 9,
    "start_time": "2022-03-30T07:56:39.216Z"
   },
   {
    "duration": 11,
    "start_time": "2022-03-30T07:57:11.868Z"
   },
   {
    "duration": 0,
    "start_time": "2022-03-30T08:00:04.304Z"
   },
   {
    "duration": 2,
    "start_time": "2022-03-30T08:00:06.000Z"
   },
   {
    "duration": 55,
    "start_time": "2022-03-30T08:00:09.812Z"
   },
   {
    "duration": 20,
    "start_time": "2022-03-30T08:00:10.832Z"
   },
   {
    "duration": 39,
    "start_time": "2022-03-30T08:00:13.944Z"
   },
   {
    "duration": 3,
    "start_time": "2022-03-30T08:00:16.808Z"
   },
   {
    "duration": 15,
    "start_time": "2022-03-30T08:00:19.607Z"
   },
   {
    "duration": 12,
    "start_time": "2022-03-30T08:00:21.187Z"
   },
   {
    "duration": 21,
    "start_time": "2022-03-30T08:00:25.127Z"
   },
   {
    "duration": 22,
    "start_time": "2022-03-30T08:00:49.452Z"
   },
   {
    "duration": 5,
    "start_time": "2022-03-30T08:00:52.259Z"
   },
   {
    "duration": 19,
    "start_time": "2022-03-30T08:01:15.415Z"
   },
   {
    "duration": 44155,
    "start_time": "2022-03-30T08:01:23.839Z"
   },
   {
    "duration": 18,
    "start_time": "2022-03-30T08:05:24.919Z"
   },
   {
    "duration": 14,
    "start_time": "2022-03-30T08:05:38.134Z"
   },
   {
    "duration": 19958,
    "start_time": "2022-03-30T08:06:42.995Z"
   },
   {
    "duration": 14,
    "start_time": "2022-03-30T08:07:07.770Z"
   },
   {
    "duration": 15815,
    "start_time": "2022-03-30T08:08:34.689Z"
   },
   {
    "duration": 13,
    "start_time": "2022-03-30T08:08:54.730Z"
   },
   {
    "duration": 18,
    "start_time": "2022-03-30T08:09:25.882Z"
   },
   {
    "duration": 3,
    "start_time": "2022-03-30T08:09:43.638Z"
   },
   {
    "duration": 54,
    "start_time": "2022-03-30T08:09:44.058Z"
   },
   {
    "duration": 21,
    "start_time": "2022-03-30T08:09:44.513Z"
   },
   {
    "duration": 30,
    "start_time": "2022-03-30T08:09:45.490Z"
   },
   {
    "duration": 4,
    "start_time": "2022-03-30T08:09:46.550Z"
   },
   {
    "duration": 15,
    "start_time": "2022-03-30T08:09:47.226Z"
   },
   {
    "duration": 11,
    "start_time": "2022-03-30T08:09:48.054Z"
   },
   {
    "duration": 20,
    "start_time": "2022-03-30T08:09:50.954Z"
   },
   {
    "duration": 21,
    "start_time": "2022-03-30T08:09:51.358Z"
   },
   {
    "duration": 5,
    "start_time": "2022-03-30T08:09:53.978Z"
   },
   {
    "duration": 20,
    "start_time": "2022-03-30T08:09:56.153Z"
   },
   {
    "duration": 15559,
    "start_time": "2022-03-30T08:10:22.558Z"
   },
   {
    "duration": 13,
    "start_time": "2022-03-30T08:10:38.119Z"
   },
   {
    "duration": 19154,
    "start_time": "2022-03-30T08:10:58.045Z"
   },
   {
    "duration": 13,
    "start_time": "2022-03-30T08:11:17.200Z"
   },
   {
    "duration": 128610,
    "start_time": "2022-03-30T08:12:27.853Z"
   },
   {
    "duration": 15,
    "start_time": "2022-03-30T08:14:36.465Z"
   },
   {
    "duration": 127191,
    "start_time": "2022-03-30T08:16:12.192Z"
   },
   {
    "duration": 16,
    "start_time": "2022-03-30T08:18:19.386Z"
   },
   {
    "duration": 68,
    "start_time": "2022-03-30T08:42:00.201Z"
   },
   {
    "duration": 534,
    "start_time": "2022-03-30T08:42:08.964Z"
   },
   {
    "duration": 67,
    "start_time": "2022-03-30T08:42:09.501Z"
   },
   {
    "duration": 39,
    "start_time": "2022-03-30T08:42:09.700Z"
   },
   {
    "duration": 45,
    "start_time": "2022-03-30T08:42:10.756Z"
   },
   {
    "duration": 6,
    "start_time": "2022-03-30T08:42:14.292Z"
   },
   {
    "duration": 19,
    "start_time": "2022-03-30T08:42:14.833Z"
   },
   {
    "duration": 14,
    "start_time": "2022-03-30T08:42:16.004Z"
   },
   {
    "duration": 33,
    "start_time": "2022-03-30T08:42:18.357Z"
   },
   {
    "duration": 33,
    "start_time": "2022-03-30T08:42:20.441Z"
   },
   {
    "duration": 6,
    "start_time": "2022-03-30T08:42:23.313Z"
   },
   {
    "duration": 29,
    "start_time": "2022-03-30T08:42:24.556Z"
   },
   {
    "duration": 27452,
    "start_time": "2022-03-30T08:42:36.044Z"
   },
   {
    "duration": 21,
    "start_time": "2022-03-30T08:43:07.956Z"
   },
   {
    "duration": 27110,
    "start_time": "2022-03-30T08:43:25.876Z"
   },
   {
    "duration": 22,
    "start_time": "2022-03-30T08:44:16.424Z"
   },
   {
    "duration": 31,
    "start_time": "2022-03-30T08:50:17.388Z"
   },
   {
    "duration": 4,
    "start_time": "2022-03-30T10:48:59.013Z"
   },
   {
    "duration": 72,
    "start_time": "2022-03-30T10:48:59.611Z"
   },
   {
    "duration": 34,
    "start_time": "2022-03-30T10:49:00.015Z"
   },
   {
    "duration": 44,
    "start_time": "2022-03-30T10:49:00.608Z"
   },
   {
    "duration": 7,
    "start_time": "2022-03-30T10:49:01.067Z"
   },
   {
    "duration": 30,
    "start_time": "2022-03-30T10:49:01.415Z"
   },
   {
    "duration": 20,
    "start_time": "2022-03-30T10:49:01.756Z"
   },
   {
    "duration": 33,
    "start_time": "2022-03-30T10:49:08.023Z"
   },
   {
    "duration": 32,
    "start_time": "2022-03-30T10:49:20.911Z"
   },
   {
    "duration": 6,
    "start_time": "2022-03-30T10:49:48.512Z"
   },
   {
    "duration": 6,
    "start_time": "2022-03-30T10:52:41.387Z"
   },
   {
    "duration": 3,
    "start_time": "2022-03-30T10:52:45.863Z"
   },
   {
    "duration": 102,
    "start_time": "2022-03-30T10:52:47.731Z"
   },
   {
    "duration": 11,
    "start_time": "2022-03-30T10:52:56.727Z"
   },
   {
    "duration": 31,
    "start_time": "2022-03-30T10:53:06.498Z"
   },
   {
    "duration": 26,
    "start_time": "2022-03-30T10:53:26.922Z"
   },
   {
    "duration": 7,
    "start_time": "2022-03-30T10:55:25.190Z"
   },
   {
    "duration": 4,
    "start_time": "2022-03-30T10:55:48.562Z"
   },
   {
    "duration": 63,
    "start_time": "2022-03-30T10:55:48.938Z"
   },
   {
    "duration": 33,
    "start_time": "2022-03-30T10:55:49.262Z"
   },
   {
    "duration": 43,
    "start_time": "2022-03-30T10:55:49.567Z"
   },
   {
    "duration": 5,
    "start_time": "2022-03-30T10:55:49.935Z"
   },
   {
    "duration": 21,
    "start_time": "2022-03-30T10:55:50.294Z"
   },
   {
    "duration": 12,
    "start_time": "2022-03-30T10:55:50.846Z"
   },
   {
    "duration": 30,
    "start_time": "2022-03-30T10:55:55.246Z"
   },
   {
    "duration": 31,
    "start_time": "2022-03-30T10:55:55.730Z"
   },
   {
    "duration": 7,
    "start_time": "2022-03-30T10:55:57.014Z"
   },
   {
    "duration": 5,
    "start_time": "2022-03-30T10:55:59.803Z"
   },
   {
    "duration": 3,
    "start_time": "2022-03-30T10:56:01.223Z"
   },
   {
    "duration": 165,
    "start_time": "2022-03-30T10:56:02.183Z"
   },
   {
    "duration": 27,
    "start_time": "2022-03-30T10:56:03.823Z"
   },
   {
    "duration": 11,
    "start_time": "2022-03-30T11:13:32.037Z"
   },
   {
    "duration": 4,
    "start_time": "2022-03-30T11:13:43.927Z"
   },
   {
    "duration": 79,
    "start_time": "2022-03-30T11:13:44.345Z"
   },
   {
    "duration": 33,
    "start_time": "2022-03-30T11:13:45.308Z"
   },
   {
    "duration": 43,
    "start_time": "2022-03-30T11:13:47.682Z"
   },
   {
    "duration": 5,
    "start_time": "2022-03-30T11:13:48.820Z"
   },
   {
    "duration": 21,
    "start_time": "2022-03-30T11:13:49.892Z"
   },
   {
    "duration": 14,
    "start_time": "2022-03-30T11:13:50.604Z"
   },
   {
    "duration": 41,
    "start_time": "2022-03-30T11:13:55.348Z"
   },
   {
    "duration": 7,
    "start_time": "2022-03-30T11:14:02.655Z"
   },
   {
    "duration": 3,
    "start_time": "2022-03-30T11:14:05.452Z"
   },
   {
    "duration": 105,
    "start_time": "2022-03-30T11:14:07.524Z"
   },
   {
    "duration": 13,
    "start_time": "2022-03-30T11:14:48.496Z"
   },
   {
    "duration": 27,
    "start_time": "2022-03-30T11:19:21.643Z"
   },
   {
    "duration": 14,
    "start_time": "2022-03-30T11:19:33.199Z"
   },
   {
    "duration": 28,
    "start_time": "2022-03-30T11:21:01.547Z"
   },
   {
    "duration": 55,
    "start_time": "2022-03-30T11:21:03.247Z"
   },
   {
    "duration": 436,
    "start_time": "2022-03-30T14:17:15.570Z"
   },
   {
    "duration": 70,
    "start_time": "2022-03-30T14:17:16.189Z"
   },
   {
    "duration": 25,
    "start_time": "2022-03-30T14:17:16.733Z"
   },
   {
    "duration": 27,
    "start_time": "2022-03-30T14:17:20.125Z"
   },
   {
    "duration": 4,
    "start_time": "2022-03-30T14:17:21.861Z"
   },
   {
    "duration": 15,
    "start_time": "2022-03-30T14:17:22.865Z"
   },
   {
    "duration": 10,
    "start_time": "2022-03-30T14:17:24.153Z"
   },
   {
    "duration": 6,
    "start_time": "2022-03-30T14:19:02.121Z"
   },
   {
    "duration": 2,
    "start_time": "2022-03-30T14:19:04.181Z"
   },
   {
    "duration": 64,
    "start_time": "2022-03-30T14:19:04.694Z"
   },
   {
    "duration": 10,
    "start_time": "2022-03-30T14:42:14.483Z"
   },
   {
    "duration": 17,
    "start_time": "2022-03-30T14:47:28.979Z"
   },
   {
    "duration": 33,
    "start_time": "2022-03-30T14:47:32.319Z"
   },
   {
    "duration": 5,
    "start_time": "2022-03-30T14:48:23.355Z"
   },
   {
    "duration": 105,
    "start_time": "2022-03-30T14:51:00.058Z"
   },
   {
    "duration": 11,
    "start_time": "2022-03-30T14:51:23.019Z"
   },
   {
    "duration": 7,
    "start_time": "2022-03-30T15:00:15.007Z"
   },
   {
    "duration": 7,
    "start_time": "2022-03-30T15:01:08.314Z"
   },
   {
    "duration": 8,
    "start_time": "2022-03-30T15:01:17.862Z"
   },
   {
    "duration": 5,
    "start_time": "2022-03-30T15:01:43.770Z"
   },
   {
    "duration": 8,
    "start_time": "2022-03-30T15:01:46.786Z"
   },
   {
    "duration": 7,
    "start_time": "2022-03-30T15:01:49.646Z"
   },
   {
    "duration": 7,
    "start_time": "2022-03-30T15:02:51.609Z"
   },
   {
    "duration": 6,
    "start_time": "2022-03-30T15:02:53.078Z"
   },
   {
    "duration": 6,
    "start_time": "2022-03-30T15:02:56.930Z"
   },
   {
    "duration": 11,
    "start_time": "2022-03-30T15:02:57.890Z"
   },
   {
    "duration": 4,
    "start_time": "2022-03-30T15:03:00.942Z"
   },
   {
    "duration": 7,
    "start_time": "2022-03-30T15:03:25.238Z"
   },
   {
    "duration": 8,
    "start_time": "2022-03-30T15:03:42.085Z"
   },
   {
    "duration": 18,
    "start_time": "2022-03-30T15:27:23.120Z"
   },
   {
    "duration": 7,
    "start_time": "2022-03-30T15:51:37.249Z"
   },
   {
    "duration": 7,
    "start_time": "2022-03-30T15:51:37.917Z"
   },
   {
    "duration": 7,
    "start_time": "2022-03-30T15:51:42.497Z"
   },
   {
    "duration": 11,
    "start_time": "2022-03-30T15:51:44.922Z"
   },
   {
    "duration": 3,
    "start_time": "2022-03-30T15:51:46.538Z"
   },
   {
    "duration": 8,
    "start_time": "2022-03-30T15:51:47.379Z"
   },
   {
    "duration": 7,
    "start_time": "2022-03-30T15:51:50.633Z"
   },
   {
    "duration": 3,
    "start_time": "2022-03-30T16:16:12.443Z"
   },
   {
    "duration": 3,
    "start_time": "2022-03-30T16:16:15.839Z"
   },
   {
    "duration": 4,
    "start_time": "2022-03-30T16:18:56.443Z"
   },
   {
    "duration": 11,
    "start_time": "2022-03-30T16:19:15.820Z"
   },
   {
    "duration": 199,
    "start_time": "2022-03-30T16:19:56.323Z"
   },
   {
    "duration": 3,
    "start_time": "2022-03-30T16:20:31.035Z"
   },
   {
    "duration": 3,
    "start_time": "2022-03-30T16:20:36.443Z"
   },
   {
    "duration": 5,
    "start_time": "2022-03-30T16:20:41.880Z"
   },
   {
    "duration": 12,
    "start_time": "2022-03-30T16:20:43.123Z"
   },
   {
    "duration": 4,
    "start_time": "2022-03-30T16:25:15.299Z"
   },
   {
    "duration": 2,
    "start_time": "2022-03-30T16:25:16.092Z"
   },
   {
    "duration": 9,
    "start_time": "2022-03-30T16:25:17.799Z"
   },
   {
    "duration": 3,
    "start_time": "2022-03-30T16:25:36.915Z"
   },
   {
    "duration": 2,
    "start_time": "2022-03-30T16:25:37.915Z"
   },
   {
    "duration": 4,
    "start_time": "2022-03-30T16:25:38.295Z"
   },
   {
    "duration": 3,
    "start_time": "2022-03-30T16:25:54.723Z"
   },
   {
    "duration": 2,
    "start_time": "2022-03-30T16:25:55.315Z"
   },
   {
    "duration": 13,
    "start_time": "2022-03-30T16:25:55.747Z"
   },
   {
    "duration": 4,
    "start_time": "2022-03-30T16:33:13.106Z"
   },
   {
    "duration": 4,
    "start_time": "2022-03-30T16:33:32.526Z"
   },
   {
    "duration": 2,
    "start_time": "2022-03-30T16:33:34.324Z"
   },
   {
    "duration": 42,
    "start_time": "2022-03-30T16:35:20.670Z"
   },
   {
    "duration": 4,
    "start_time": "2022-03-30T16:35:58.994Z"
   },
   {
    "duration": 2,
    "start_time": "2022-03-30T16:36:00.952Z"
   },
   {
    "duration": 59,
    "start_time": "2022-03-30T16:36:01.850Z"
   },
   {
    "duration": 4,
    "start_time": "2022-03-30T16:36:27.078Z"
   },
   {
    "duration": 2,
    "start_time": "2022-03-30T16:36:27.582Z"
   },
   {
    "duration": 35,
    "start_time": "2022-03-30T16:36:28.110Z"
   },
   {
    "duration": 3,
    "start_time": "2022-03-30T16:39:44.833Z"
   },
   {
    "duration": 2,
    "start_time": "2022-03-30T16:39:49.946Z"
   },
   {
    "duration": 12,
    "start_time": "2022-03-30T16:39:50.602Z"
   },
   {
    "duration": 4,
    "start_time": "2022-03-30T16:39:55.210Z"
   },
   {
    "duration": 2,
    "start_time": "2022-03-30T16:39:56.674Z"
   },
   {
    "duration": 35,
    "start_time": "2022-03-30T16:39:58.682Z"
   },
   {
    "duration": 4,
    "start_time": "2022-03-30T16:40:32.695Z"
   },
   {
    "duration": 13,
    "start_time": "2022-03-30T16:40:39.893Z"
   },
   {
    "duration": 4,
    "start_time": "2022-03-30T16:42:14.514Z"
   },
   {
    "duration": 2,
    "start_time": "2022-03-30T16:42:15.314Z"
   },
   {
    "duration": 36,
    "start_time": "2022-03-30T16:42:15.922Z"
   },
   {
    "duration": 3,
    "start_time": "2022-03-30T16:42:20.474Z"
   },
   {
    "duration": 13,
    "start_time": "2022-03-30T16:42:24.262Z"
   },
   {
    "duration": 3,
    "start_time": "2022-03-30T16:43:24.742Z"
   },
   {
    "duration": 13,
    "start_time": "2022-03-30T16:43:30.109Z"
   },
   {
    "duration": 2,
    "start_time": "2022-03-30T16:43:38.066Z"
   },
   {
    "duration": 54,
    "start_time": "2022-03-30T16:43:38.625Z"
   },
   {
    "duration": 17,
    "start_time": "2022-03-30T16:43:39.266Z"
   },
   {
    "duration": 28,
    "start_time": "2022-03-30T16:43:40.733Z"
   },
   {
    "duration": 4,
    "start_time": "2022-03-30T16:43:41.669Z"
   },
   {
    "duration": 13,
    "start_time": "2022-03-30T16:43:42.457Z"
   },
   {
    "duration": 10,
    "start_time": "2022-03-30T16:43:44.549Z"
   },
   {
    "duration": 4,
    "start_time": "2022-03-30T16:43:48.594Z"
   },
   {
    "duration": 2,
    "start_time": "2022-03-30T16:43:50.206Z"
   },
   {
    "duration": 61,
    "start_time": "2022-03-30T16:43:52.677Z"
   },
   {
    "duration": 9,
    "start_time": "2022-03-30T16:43:56.697Z"
   },
   {
    "duration": 16,
    "start_time": "2022-03-30T16:43:59.417Z"
   },
   {
    "duration": 32,
    "start_time": "2022-03-30T16:44:00.857Z"
   },
   {
    "duration": 6,
    "start_time": "2022-03-30T16:44:03.705Z"
   },
   {
    "duration": 8,
    "start_time": "2022-03-30T16:44:06.637Z"
   },
   {
    "duration": 8,
    "start_time": "2022-03-30T16:44:08.262Z"
   },
   {
    "duration": 20,
    "start_time": "2022-03-30T16:44:15.461Z"
   },
   {
    "duration": 7,
    "start_time": "2022-03-30T16:44:19.181Z"
   },
   {
    "duration": 6,
    "start_time": "2022-03-30T16:44:20.005Z"
   },
   {
    "duration": 7,
    "start_time": "2022-03-30T16:44:21.361Z"
   },
   {
    "duration": 13,
    "start_time": "2022-03-30T16:44:22.085Z"
   },
   {
    "duration": 4,
    "start_time": "2022-03-30T16:44:23.245Z"
   },
   {
    "duration": 8,
    "start_time": "2022-03-30T16:44:24.969Z"
   },
   {
    "duration": 7,
    "start_time": "2022-03-30T16:44:26.861Z"
   },
   {
    "duration": 3,
    "start_time": "2022-03-30T16:44:34.629Z"
   },
   {
    "duration": 3,
    "start_time": "2022-03-30T16:44:36.613Z"
   },
   {
    "duration": 13,
    "start_time": "2022-03-30T16:44:38.545Z"
   },
   {
    "duration": 5,
    "start_time": "2022-03-30T16:44:55.769Z"
   },
   {
    "duration": 4,
    "start_time": "2022-03-30T16:44:58.481Z"
   },
   {
    "duration": 37,
    "start_time": "2022-03-30T16:45:00.813Z"
   },
   {
    "duration": 4,
    "start_time": "2022-03-30T16:45:19.713Z"
   },
   {
    "duration": 13,
    "start_time": "2022-03-30T16:45:23.777Z"
   },
   {
    "duration": 5,
    "start_time": "2022-03-30T16:46:00.129Z"
   },
   {
    "duration": 2,
    "start_time": "2022-03-30T16:46:02.805Z"
   },
   {
    "duration": 36,
    "start_time": "2022-03-30T16:46:04.085Z"
   },
   {
    "duration": 3,
    "start_time": "2022-03-30T16:46:10.681Z"
   },
   {
    "duration": 12,
    "start_time": "2022-03-30T16:46:11.305Z"
   },
   {
    "duration": 4,
    "start_time": "2022-03-30T16:46:52.845Z"
   },
   {
    "duration": 373,
    "start_time": "2022-03-30T17:57:11.982Z"
   },
   {
    "duration": 55,
    "start_time": "2022-03-30T17:57:12.357Z"
   },
   {
    "duration": 27,
    "start_time": "2022-03-30T17:57:12.851Z"
   },
   {
    "duration": 36,
    "start_time": "2022-03-30T17:57:15.606Z"
   },
   {
    "duration": 5,
    "start_time": "2022-03-30T17:57:17.077Z"
   },
   {
    "duration": 14,
    "start_time": "2022-03-30T17:57:17.651Z"
   },
   {
    "duration": 10,
    "start_time": "2022-03-30T17:57:18.611Z"
   },
   {
    "duration": 6,
    "start_time": "2022-03-30T17:57:24.821Z"
   },
   {
    "duration": 3,
    "start_time": "2022-03-30T17:58:07.410Z"
   },
   {
    "duration": 70,
    "start_time": "2022-03-30T17:58:09.167Z"
   },
   {
    "duration": 17,
    "start_time": "2022-03-30T17:58:35.335Z"
   },
   {
    "duration": 17,
    "start_time": "2022-03-30T17:58:37.911Z"
   },
   {
    "duration": 36,
    "start_time": "2022-03-30T17:58:39.139Z"
   },
   {
    "duration": 6,
    "start_time": "2022-03-30T17:58:45.743Z"
   },
   {
    "duration": 10,
    "start_time": "2022-03-30T17:58:48.782Z"
   },
   {
    "duration": 10,
    "start_time": "2022-03-30T17:58:51.958Z"
   },
   {
    "duration": 21,
    "start_time": "2022-03-30T17:58:58.159Z"
   },
   {
    "duration": 7,
    "start_time": "2022-03-30T18:00:34.625Z"
   },
   {
    "duration": 7,
    "start_time": "2022-03-30T18:03:28.782Z"
   },
   {
    "duration": 7,
    "start_time": "2022-03-30T18:03:30.734Z"
   },
   {
    "duration": 14,
    "start_time": "2022-03-30T18:03:32.158Z"
   },
   {
    "duration": 2,
    "start_time": "2022-03-30T18:18:04.257Z"
   },
   {
    "duration": 50,
    "start_time": "2022-03-30T18:18:04.861Z"
   },
   {
    "duration": 20,
    "start_time": "2022-03-30T18:18:05.233Z"
   },
   {
    "duration": 32,
    "start_time": "2022-03-30T18:18:06.293Z"
   },
   {
    "duration": 4,
    "start_time": "2022-03-30T18:18:07.145Z"
   },
   {
    "duration": 15,
    "start_time": "2022-03-30T18:18:07.685Z"
   },
   {
    "duration": 11,
    "start_time": "2022-03-30T18:18:11.313Z"
   },
   {
    "duration": 5,
    "start_time": "2022-03-30T18:19:52.991Z"
   },
   {
    "duration": 3,
    "start_time": "2022-03-30T18:19:53.888Z"
   },
   {
    "duration": 67,
    "start_time": "2022-03-30T18:19:54.265Z"
   },
   {
    "duration": 10,
    "start_time": "2022-03-30T18:19:57.889Z"
   },
   {
    "duration": 17,
    "start_time": "2022-03-30T18:20:00.914Z"
   },
   {
    "duration": 35,
    "start_time": "2022-03-30T18:20:01.201Z"
   },
   {
    "duration": 6,
    "start_time": "2022-03-30T18:20:07.736Z"
   },
   {
    "duration": 9,
    "start_time": "2022-03-30T18:20:09.313Z"
   },
   {
    "duration": 9,
    "start_time": "2022-03-30T18:20:09.880Z"
   },
   {
    "duration": 31,
    "start_time": "2022-03-30T18:20:13.349Z"
   },
   {
    "duration": 7,
    "start_time": "2022-03-30T18:20:17.672Z"
   },
   {
    "duration": 7,
    "start_time": "2022-03-30T18:20:18.469Z"
   },
   {
    "duration": 9,
    "start_time": "2022-03-30T18:20:20.985Z"
   },
   {
    "duration": 18,
    "start_time": "2022-03-30T18:20:22.264Z"
   },
   {
    "duration": 5,
    "start_time": "2022-03-30T18:20:23.445Z"
   },
   {
    "duration": 12,
    "start_time": "2022-03-30T18:20:24.217Z"
   },
   {
    "duration": 11,
    "start_time": "2022-03-30T18:20:29.145Z"
   },
   {
    "duration": 4,
    "start_time": "2022-03-30T18:21:16.564Z"
   },
   {
    "duration": 3,
    "start_time": "2022-03-30T18:21:30.184Z"
   },
   {
    "duration": 3,
    "start_time": "2022-03-30T18:21:39.308Z"
   },
   {
    "duration": 13,
    "start_time": "2022-03-30T18:21:41.685Z"
   },
   {
    "duration": 5,
    "start_time": "2022-03-30T18:23:34.331Z"
   },
   {
    "duration": 2,
    "start_time": "2022-03-30T18:23:35.400Z"
   },
   {
    "duration": 40,
    "start_time": "2022-03-30T18:23:37.099Z"
   },
   {
    "duration": 5,
    "start_time": "2022-03-30T18:24:11.699Z"
   },
   {
    "duration": 18,
    "start_time": "2022-03-30T18:24:14.431Z"
   },
   {
    "duration": 7,
    "start_time": "2022-03-30T18:25:41.870Z"
   },
   {
    "duration": 33,
    "start_time": "2022-03-30T18:25:53.143Z"
   },
   {
    "duration": 36,
    "start_time": "2022-03-30T18:27:10.262Z"
   },
   {
    "duration": 9,
    "start_time": "2022-03-30T18:29:51.502Z"
   },
   {
    "duration": 7,
    "start_time": "2022-03-30T18:30:00.602Z"
   },
   {
    "duration": 22,
    "start_time": "2022-03-30T18:30:42.038Z"
   },
   {
    "duration": 18,
    "start_time": "2022-03-30T18:31:09.077Z"
   },
   {
    "duration": 5,
    "start_time": "2022-03-30T18:32:56.725Z"
   },
   {
    "duration": 6,
    "start_time": "2022-03-30T18:32:59.953Z"
   },
   {
    "duration": 35,
    "start_time": "2022-03-30T18:33:04.989Z"
   },
   {
    "duration": 25,
    "start_time": "2022-03-30T18:33:20.245Z"
   },
   {
    "duration": 18,
    "start_time": "2022-03-30T18:33:21.070Z"
   },
   {
    "duration": 423,
    "start_time": "2022-03-30T18:43:07.587Z"
   },
   {
    "duration": 78,
    "start_time": "2022-03-30T18:43:09.014Z"
   },
   {
    "duration": 27,
    "start_time": "2022-03-30T18:43:10.110Z"
   },
   {
    "duration": 31,
    "start_time": "2022-03-30T18:43:11.862Z"
   },
   {
    "duration": 6,
    "start_time": "2022-03-30T18:43:13.514Z"
   },
   {
    "duration": 16,
    "start_time": "2022-03-30T18:43:14.467Z"
   },
   {
    "duration": 11,
    "start_time": "2022-03-30T18:43:15.742Z"
   },
   {
    "duration": 6,
    "start_time": "2022-03-30T18:43:18.903Z"
   },
   {
    "duration": 2,
    "start_time": "2022-03-30T18:43:21.199Z"
   },
   {
    "duration": 73,
    "start_time": "2022-03-30T18:43:24.122Z"
   },
   {
    "duration": 10,
    "start_time": "2022-03-30T18:44:35.970Z"
   },
   {
    "duration": 18,
    "start_time": "2022-03-30T18:44:39.219Z"
   },
   {
    "duration": 33,
    "start_time": "2022-03-30T18:44:40.206Z"
   },
   {
    "duration": 5,
    "start_time": "2022-03-30T18:44:45.107Z"
   },
   {
    "duration": 8,
    "start_time": "2022-03-30T18:44:46.730Z"
   },
   {
    "duration": 8,
    "start_time": "2022-03-30T18:44:49.103Z"
   },
   {
    "duration": 21,
    "start_time": "2022-03-30T18:44:52.158Z"
   },
   {
    "duration": 9,
    "start_time": "2022-03-30T18:44:55.886Z"
   },
   {
    "duration": 7,
    "start_time": "2022-03-30T18:44:57.134Z"
   },
   {
    "duration": 7,
    "start_time": "2022-03-30T18:44:58.415Z"
   },
   {
    "duration": 12,
    "start_time": "2022-03-30T18:44:59.950Z"
   },
   {
    "duration": 4,
    "start_time": "2022-03-30T18:45:00.538Z"
   },
   {
    "duration": 9,
    "start_time": "2022-03-30T18:45:09.859Z"
   },
   {
    "duration": 7,
    "start_time": "2022-03-30T18:45:11.874Z"
   },
   {
    "duration": 5,
    "start_time": "2022-03-30T18:45:30.290Z"
   },
   {
    "duration": 2,
    "start_time": "2022-03-30T18:45:33.070Z"
   },
   {
    "duration": 14,
    "start_time": "2022-03-30T18:45:34.467Z"
   },
   {
    "duration": 5,
    "start_time": "2022-03-30T18:45:51.158Z"
   },
   {
    "duration": 2,
    "start_time": "2022-03-30T18:45:52.342Z"
   },
   {
    "duration": 42,
    "start_time": "2022-03-30T18:45:53.099Z"
   },
   {
    "duration": 6,
    "start_time": "2022-03-30T18:45:58.066Z"
   },
   {
    "duration": 14,
    "start_time": "2022-03-30T18:46:01.750Z"
   },
   {
    "duration": 6,
    "start_time": "2022-03-30T18:46:12.186Z"
   },
   {
    "duration": 6,
    "start_time": "2022-03-30T18:46:19.186Z"
   },
   {
    "duration": 33,
    "start_time": "2022-03-30T18:46:27.698Z"
   },
   {
    "duration": 23,
    "start_time": "2022-03-30T18:46:35.230Z"
   },
   {
    "duration": 16,
    "start_time": "2022-03-30T18:46:37.442Z"
   },
   {
    "duration": 10,
    "start_time": "2022-03-30T18:47:19.058Z"
   },
   {
    "duration": 7,
    "start_time": "2022-03-30T18:47:19.814Z"
   },
   {
    "duration": 8,
    "start_time": "2022-03-30T18:47:21.890Z"
   },
   {
    "duration": 7,
    "start_time": "2022-03-30T18:47:23.018Z"
   },
   {
    "duration": 5,
    "start_time": "2022-03-30T18:47:27.538Z"
   },
   {
    "duration": 14,
    "start_time": "2022-03-30T18:47:30.098Z"
   },
   {
    "duration": 4,
    "start_time": "2022-03-30T18:47:50.242Z"
   },
   {
    "duration": 35,
    "start_time": "2022-03-30T18:47:52.762Z"
   },
   {
    "duration": 7,
    "start_time": "2022-03-30T18:48:59.342Z"
   },
   {
    "duration": 4,
    "start_time": "2022-03-30T18:49:06.306Z"
   },
   {
    "duration": 22,
    "start_time": "2022-03-30T18:49:12.202Z"
   },
   {
    "duration": 7,
    "start_time": "2022-03-30T18:49:16.902Z"
   },
   {
    "duration": 25,
    "start_time": "2022-03-30T18:50:23.650Z"
   },
   {
    "duration": 15,
    "start_time": "2022-03-30T18:53:24.129Z"
   },
   {
    "duration": 5,
    "start_time": "2022-03-30T18:53:26.061Z"
   },
   {
    "duration": 10,
    "start_time": "2022-03-30T18:53:28.202Z"
   },
   {
    "duration": 14,
    "start_time": "2022-03-30T19:00:57.097Z"
   },
   {
    "duration": 5,
    "start_time": "2022-03-30T19:00:59.792Z"
   },
   {
    "duration": 7,
    "start_time": "2022-03-30T19:01:02.277Z"
   },
   {
    "duration": 14,
    "start_time": "2022-03-30T19:01:26.677Z"
   },
   {
    "duration": 5,
    "start_time": "2022-03-30T19:01:27.885Z"
   },
   {
    "duration": 7,
    "start_time": "2022-03-30T19:01:28.417Z"
   },
   {
    "duration": 14,
    "start_time": "2022-03-30T19:01:46.421Z"
   },
   {
    "duration": 4,
    "start_time": "2022-03-30T19:01:47.653Z"
   },
   {
    "duration": 7,
    "start_time": "2022-03-30T19:01:48.229Z"
   },
   {
    "duration": 376,
    "start_time": "2022-03-31T15:00:45.886Z"
   },
   {
    "duration": 59,
    "start_time": "2022-03-31T15:00:46.266Z"
   },
   {
    "duration": 26,
    "start_time": "2022-03-31T15:00:46.327Z"
   },
   {
    "duration": 44,
    "start_time": "2022-03-31T15:00:46.355Z"
   },
   {
    "duration": 4,
    "start_time": "2022-03-31T15:00:46.401Z"
   },
   {
    "duration": 50,
    "start_time": "2022-03-31T15:00:46.407Z"
   },
   {
    "duration": 14,
    "start_time": "2022-03-31T15:00:46.459Z"
   },
   {
    "duration": 11,
    "start_time": "2022-03-31T15:00:46.476Z"
   },
   {
    "duration": 14,
    "start_time": "2022-03-31T15:00:46.491Z"
   },
   {
    "duration": 126,
    "start_time": "2022-03-31T15:00:46.507Z"
   },
   {
    "duration": 15,
    "start_time": "2022-03-31T15:00:46.635Z"
   },
   {
    "duration": 27,
    "start_time": "2022-03-31T15:00:46.652Z"
   },
   {
    "duration": 68,
    "start_time": "2022-03-31T15:00:46.681Z"
   },
   {
    "duration": 6,
    "start_time": "2022-03-31T15:00:46.751Z"
   },
   {
    "duration": 15,
    "start_time": "2022-03-31T15:00:46.759Z"
   },
   {
    "duration": 9,
    "start_time": "2022-03-31T15:00:46.776Z"
   },
   {
    "duration": 46,
    "start_time": "2022-03-31T15:00:46.787Z"
   },
   {
    "duration": 6,
    "start_time": "2022-03-31T15:00:46.835Z"
   },
   {
    "duration": 9,
    "start_time": "2022-03-31T15:00:46.843Z"
   },
   {
    "duration": 9,
    "start_time": "2022-03-31T15:00:46.854Z"
   },
   {
    "duration": 14,
    "start_time": "2022-03-31T15:00:46.864Z"
   },
   {
    "duration": 13,
    "start_time": "2022-03-31T15:00:46.879Z"
   },
   {
    "duration": 9,
    "start_time": "2022-03-31T15:00:46.893Z"
   },
   {
    "duration": 30,
    "start_time": "2022-03-31T15:00:46.904Z"
   },
   {
    "duration": 3,
    "start_time": "2022-03-31T15:00:46.935Z"
   },
   {
    "duration": 7,
    "start_time": "2022-03-31T15:00:46.940Z"
   },
   {
    "duration": 13,
    "start_time": "2022-03-31T15:00:46.951Z"
   },
   {
    "duration": 4,
    "start_time": "2022-03-31T15:00:46.966Z"
   },
   {
    "duration": 13,
    "start_time": "2022-03-31T15:00:46.972Z"
   },
   {
    "duration": 62,
    "start_time": "2022-03-31T15:00:46.987Z"
   },
   {
    "duration": 3,
    "start_time": "2022-03-31T15:00:47.051Z"
   },
   {
    "duration": 17,
    "start_time": "2022-03-31T15:00:47.056Z"
   },
   {
    "duration": 4,
    "start_time": "2022-03-31T15:00:47.074Z"
   },
   {
    "duration": 9,
    "start_time": "2022-03-31T15:00:47.079Z"
   },
   {
    "duration": 50,
    "start_time": "2022-03-31T15:00:47.089Z"
   },
   {
    "duration": 25,
    "start_time": "2022-03-31T15:00:47.140Z"
   },
   {
    "duration": 17,
    "start_time": "2022-03-31T15:00:47.166Z"
   },
   {
    "duration": 12,
    "start_time": "2022-03-31T15:00:47.184Z"
   },
   {
    "duration": 10,
    "start_time": "2022-03-31T15:00:47.198Z"
   },
   {
    "duration": 29,
    "start_time": "2022-03-31T15:00:47.210Z"
   },
   {
    "duration": 8,
    "start_time": "2022-03-31T15:00:47.241Z"
   },
   {
    "duration": 7,
    "start_time": "2022-03-31T15:00:47.250Z"
   },
   {
    "duration": 14,
    "start_time": "2022-03-31T15:00:47.259Z"
   },
   {
    "duration": 5,
    "start_time": "2022-03-31T15:00:47.275Z"
   },
   {
    "duration": 58,
    "start_time": "2022-03-31T15:00:47.282Z"
   },
   {
    "duration": 7,
    "start_time": "2022-03-31T15:00:47.343Z"
   },
   {
    "duration": 6,
    "start_time": "2022-03-31T15:00:47.352Z"
   },
   {
    "duration": 24,
    "start_time": "2022-03-31T15:00:47.359Z"
   },
   {
    "duration": 8,
    "start_time": "2022-03-31T15:00:47.385Z"
   },
   {
    "duration": 44,
    "start_time": "2022-03-31T15:00:47.395Z"
   },
   {
    "duration": 5,
    "start_time": "2022-03-31T15:00:47.441Z"
   },
   {
    "duration": 14,
    "start_time": "2022-03-31T15:00:47.448Z"
   },
   {
    "duration": 22,
    "start_time": "2022-03-31T15:00:47.464Z"
   },
   {
    "duration": 5,
    "start_time": "2022-03-31T15:00:47.488Z"
   },
   {
    "duration": 15,
    "start_time": "2022-03-31T15:00:47.496Z"
   },
   {
    "duration": 39,
    "start_time": "2022-03-31T15:00:47.513Z"
   },
   {
    "duration": 5,
    "start_time": "2022-03-31T15:00:47.554Z"
   },
   {
    "duration": 13,
    "start_time": "2022-03-31T15:00:47.561Z"
   },
   {
    "duration": 26,
    "start_time": "2022-03-31T15:00:47.576Z"
   },
   {
    "duration": 5,
    "start_time": "2022-03-31T15:00:47.605Z"
   },
   {
    "duration": 30,
    "start_time": "2022-03-31T15:00:47.612Z"
   },
   {
    "duration": 41,
    "start_time": "2022-03-31T15:01:10.853Z"
   },
   {
    "duration": 119,
    "start_time": "2022-03-31T15:01:51.949Z"
   },
   {
    "duration": 125,
    "start_time": "2022-03-31T15:02:07.974Z"
   },
   {
    "duration": 120,
    "start_time": "2022-03-31T15:03:01.731Z"
   },
   {
    "duration": 18,
    "start_time": "2022-03-31T15:03:10.377Z"
   },
   {
    "duration": 14,
    "start_time": "2022-03-31T15:03:15.057Z"
   },
   {
    "duration": 33,
    "start_time": "2022-03-31T15:03:20.582Z"
   },
   {
    "duration": 10,
    "start_time": "2022-03-31T15:10:10.133Z"
   },
   {
    "duration": 390,
    "start_time": "2022-03-31T16:59:07.008Z"
   },
   {
    "duration": 60,
    "start_time": "2022-03-31T16:59:07.402Z"
   },
   {
    "duration": 27,
    "start_time": "2022-03-31T16:59:07.759Z"
   },
   {
    "duration": 30,
    "start_time": "2022-03-31T16:59:09.499Z"
   },
   {
    "duration": 5,
    "start_time": "2022-03-31T16:59:10.410Z"
   },
   {
    "duration": 17,
    "start_time": "2022-03-31T16:59:11.734Z"
   },
   {
    "duration": 11,
    "start_time": "2022-03-31T16:59:13.674Z"
   }
  ],
  "kernelspec": {
   "display_name": "Python 3 (ipykernel)",
   "language": "python",
   "name": "python3"
  },
  "language_info": {
   "codemirror_mode": {
    "name": "ipython",
    "version": 3
   },
   "file_extension": ".py",
   "mimetype": "text/x-python",
   "name": "python",
   "nbconvert_exporter": "python",
   "pygments_lexer": "ipython3",
   "version": "3.10.4"
  },
  "latex_envs": {
   "LaTeX_envs_menu_present": true,
   "autoclose": false,
   "autocomplete": true,
   "bibliofile": "biblio.bib",
   "cite_by": "apalike",
   "current_citInitial": 1,
   "eqLabelWithNumbers": true,
   "eqNumInitial": 1,
   "hotkeys": {
    "equation": "Ctrl-E",
    "itemize": "Ctrl-I"
   },
   "labels_anchors": false,
   "latex_user_defs": false,
   "report_style_numbering": false,
   "user_envs_cfg": false
  },
  "nbTranslate": {
   "displayLangs": [
    "*"
   ],
   "hotkey": "alt-t",
   "langInMainMenu": true,
   "sourceLang": "en",
   "targetLang": "fr",
   "useGoogleTranslate": true
  },
  "toc": {
   "base_numbering": 1,
   "nav_menu": {},
   "number_sections": true,
   "sideBar": true,
   "skip_h1_title": true,
   "title_cell": "Содержание",
   "title_sidebar": "Contents",
   "toc_cell": true,
   "toc_position": {},
   "toc_section_display": true,
   "toc_window_display": true
  }
 },
 "nbformat": 4,
 "nbformat_minor": 5
}
